{
  "nbformat": 4,
  "nbformat_minor": 0,
  "metadata": {
    "colab": {
      "name": "spark_hive_integration.ipynb",
      "provenance": [],
      "authorship_tag": "ABX9TyP44iRcWSvFS/K96RAFS432",
      "include_colab_link": true
    },
    "kernelspec": {
      "name": "python3",
      "display_name": "Python 3"
    }
  },
  "cells": [
    {
      "cell_type": "markdown",
      "metadata": {
        "id": "view-in-github",
        "colab_type": "text"
      },
      "source": [
        "<a href=\"https://colab.research.google.com/github/T-mang/hello/blob/master/spark_hive_integration.ipynb\" target=\"_parent\"><img src=\"https://colab.research.google.com/assets/colab-badge.svg\" alt=\"Open In Colab\"/></a>"
      ]
    },
    {
      "cell_type": "code",
      "metadata": {
        "colab": {
          "base_uri": "https://localhost:8080/",
          "height": 573
        },
        "id": "JI3kBV_rdvM8",
        "outputId": "82d561d4-0cf2-429e-a7b5-939e59656a07"
      },
      "source": [
        "!apt-get update\r\n",
        "!apt-get install openjdk-8-jre-headless -qq > /dev/null\r\n",
        "!wget -q http://archive.apache.org/dist/spark/spark-2.4.7/spark-2.4.7-bin-hadoop2.7.tgz\r\n",
        "!tar xf spark-2.4.7-bin-hadoop2.7.tgz\r\n",
        "!pip install -q findspark\r\n",
        "\r\n",
        "import os\r\n",
        "from os.path import join, abspath\r\n",
        "os.environ[\"JAVA_HOME\"] = \"/usr/lib/jvm/java-8-openjdk-amd64\"\r\n",
        "os.environ[\"SPARK_HOME\"] = \"/content/spark-2.4.7-bin-hadoop2.7\"\r\n",
        "\r\n",
        "!ls\r\n",
        "\r\n",
        "import findspark\r\n",
        "findspark.init()\r\n",
        "\r\n",
        "import pyspark\r\n",
        "from pyspark.sql import SparkSession\r\n",
        "\r\n",
        "from pyspark.sql import Row\r\n",
        "warehouse_location = abspath('spark-warehouse')\r\n",
        "\r\n",
        "spark = SparkSession \\\r\n",
        "      .builder \\\r\n",
        "      .config(\"spark.sql.warehouse.dir\", warehouse_location) \\\r\n",
        "      .enableHiveSupport() \\\r\n",
        "      .getOrCreate()\r\n",
        "spark"
      ],
      "execution_count": 1,
      "outputs": [
        {
          "output_type": "stream",
          "text": [
            "\r0% [Working]\r            \rGet:1 https://cloud.r-project.org/bin/linux/ubuntu bionic-cran40/ InRelease [3,626 B]\n",
            "\r0% [Connecting to archive.ubuntu.com (91.189.88.142)] [Connecting to security.u\r0% [Connecting to archive.ubuntu.com (91.189.88.142)] [Connecting to security.u\r                                                                               \rIgn:2 https://developer.download.nvidia.com/compute/cuda/repos/ubuntu1804/x86_64  InRelease\n",
            "\r0% [Connecting to archive.ubuntu.com (91.189.88.142)] [Waiting for headers] [Co\r0% [1 InRelease gpgv 3,626 B] [Connecting to archive.ubuntu.com (91.189.88.142)\r                                                                               \rIgn:3 https://developer.download.nvidia.com/compute/machine-learning/repos/ubuntu1804/x86_64  InRelease\n",
            "\r0% [1 InRelease gpgv 3,626 B] [Waiting for headers] [Waiting for headers] [Conn\r                                                                               \rHit:4 https://developer.download.nvidia.com/compute/cuda/repos/ubuntu1804/x86_64  Release\n",
            "\r0% [1 InRelease gpgv 3,626 B] [Waiting for headers] [Waiting for headers] [Conn\r                                                                               \rHit:5 https://developer.download.nvidia.com/compute/machine-learning/repos/ubuntu1804/x86_64  Release\n",
            "Get:6 http://security.ubuntu.com/ubuntu bionic-security InRelease [88.7 kB]\n",
            "Hit:7 http://archive.ubuntu.com/ubuntu bionic InRelease\n",
            "Get:8 http://ppa.launchpad.net/c2d4u.team/c2d4u4.0+/ubuntu bionic InRelease [15.9 kB]\n",
            "Get:9 http://archive.ubuntu.com/ubuntu bionic-updates InRelease [88.7 kB]\n",
            "Hit:11 http://ppa.launchpad.net/cran/libgit2/ubuntu bionic InRelease\n",
            "Get:12 http://archive.ubuntu.com/ubuntu bionic-backports InRelease [74.6 kB]\n",
            "Hit:14 http://ppa.launchpad.net/graphics-drivers/ppa/ubuntu bionic InRelease\n",
            "Get:15 http://ppa.launchpad.net/c2d4u.team/c2d4u4.0+/ubuntu bionic/main Sources [1,733 kB]\n",
            "Get:16 http://security.ubuntu.com/ubuntu bionic-security/main amd64 Packages [1,929 kB]\n",
            "Get:17 http://archive.ubuntu.com/ubuntu bionic-updates/main amd64 Packages [2,360 kB]\n",
            "Get:18 http://security.ubuntu.com/ubuntu bionic-security/universe amd64 Packages [1,391 kB]\n",
            "Get:19 http://ppa.launchpad.net/c2d4u.team/c2d4u4.0+/ubuntu bionic/main amd64 Packages [887 kB]\n",
            "Get:20 http://archive.ubuntu.com/ubuntu bionic-updates/universe amd64 Packages [2,162 kB]\n",
            "Fetched 10.7 MB in 4s (3,032 kB/s)\n",
            "Reading package lists... Done\n",
            "sample_data  spark-2.4.7-bin-hadoop2.7\tspark-2.4.7-bin-hadoop2.7.tgz\n"
          ],
          "name": "stdout"
        },
        {
          "output_type": "execute_result",
          "data": {
            "text/html": [
              "\n",
              "            <div>\n",
              "                <p><b>SparkSession - hive</b></p>\n",
              "                \n",
              "        <div>\n",
              "            <p><b>SparkContext</b></p>\n",
              "\n",
              "            <p><a href=\"http://f272bc2fb7f1:4040\">Spark UI</a></p>\n",
              "\n",
              "            <dl>\n",
              "              <dt>Version</dt>\n",
              "                <dd><code>v2.4.7</code></dd>\n",
              "              <dt>Master</dt>\n",
              "                <dd><code>local[*]</code></dd>\n",
              "              <dt>AppName</dt>\n",
              "                <dd><code>pyspark-shell</code></dd>\n",
              "            </dl>\n",
              "        </div>\n",
              "        \n",
              "            </div>\n",
              "        "
            ],
            "text/plain": [
              "<pyspark.sql.session.SparkSession at 0x7fe07cf4a240>"
            ]
          },
          "metadata": {
            "tags": []
          },
          "execution_count": 1
        }
      ]
    },
    {
      "cell_type": "code",
      "metadata": {
        "colab": {
          "base_uri": "https://localhost:8080/"
        },
        "id": "NbYyieZOdzWw",
        "outputId": "7ae14fc7-0f42-4ea5-8e67-00e6267f32e8"
      },
      "source": [
        "original_df = spark.read.csv(\"original.csv\", inferSchema = True, header = True)\r\n",
        "original_df.show()"
      ],
      "execution_count": 3,
      "outputs": [
        {
          "output_type": "stream",
          "text": [
            "+---+----------+----------+------+---------------+--------------------+---------+----------+-----------+\n",
            "| id|first_name| last_name|gender|           City|            JobTitle|   Salary|  Latitude|  Longitude|\n",
            "+---+----------+----------+------+---------------+--------------------+---------+----------+-----------+\n",
            "|  1|   Melinde| Shilburne|Female|      Nowa Ruda| Assistant Professor|$57438.18|50.5774075| 16.4967184|\n",
            "|  2|  Kimberly|Von Welden|Female|         Bulgan|       Programmer II|$62846.60|48.8231572|103.5218199|\n",
            "|  3|    Alvera|  Di Boldi|Female|           null|                null|$57576.52|39.9947462|116.3397725|\n",
            "|  4|   Shannon| O'Griffin|  Male|  Divnomorskoye|Budget/Accounting...|$61489.23|44.5047212| 38.1300171|\n",
            "|  5|  Sherwood|   Macieja|  Male|      Mytishchi|            VP Sales|$63863.09|      null| 37.6489954|\n",
            "|  6|     Maris|      Folk|Female|Kinsealy-Drinan|      Civil Engineer|$30101.16|53.4266145| -6.1644997|\n",
            "|  7|     Masha|    Divers|Female|         Dachun|                null|$25090.87| 24.879416| 118.930111|\n",
            "|  8|   Goddart|     Flear|  Male|      Trélissac|Desktop Support T...|$46116.36|45.1905186|  0.7423124|\n",
            "|  9|      Roth|O'Cannavan|  Male|         Heitan|VP Product Manage...|$73697.10| 32.027934| 106.657113|\n",
            "| 10|      Bran|   Trahear|  Male|       Arbeláez|Mechanical System...|$68098.42|  4.272793| -74.416014|\n",
            "| 11|    Kylynn|   Lockart|Female|       El Cardo|Nuclear Power Eng...|$13604.63|     -5.85|-79.8833329|\n",
            "| 12|       Rey|    Meharg|Female|    Wangqingtuo|Systems Administr...|$73423.70| 39.172378| 116.931607|\n",
            "| 13|      Kerr|    Braden|  Male|      Sułkowice|Compensation Analyst|$33432.99|49.8151822| 19.3771749|\n",
            "| 14|    Mickie| Whanstall|  Male|    Springfield|Assistant Media P...|$50838.53|42.1014803|-72.5766759|\n",
            "| 15|    Kaspar|     Pally|  Male|         Chrást|  Analyst Programmer|$40163.03|49.7923299| 13.4915324|\n",
            "| 16|    Norbie|    Gwyllt|  Male|         Xijiao|              Editor|$32492.73|43.4945737|  5.8978018|\n",
            "| 17|    Claude|    Briant|Female|      Mieścisko|Research Assistan...|$51862.48|52.7441662| 17.3278637|\n",
            "| 18|     Thain|    Habbon|  Male| Foros do Trapo|     Design Engineer|$42135.67| 38.696249| -8.7098337|\n",
            "| 19|  Tiffanie|  Pattison|Female|    Jabungsisir|Senior Financial ...|$91925.08|-7.7232567|113.4686802|\n",
            "| 20|    Ettore|  Gerriets|  Male|          Pedra| Staff Accountant IV|$73921.33|40.7172049| -8.3625148|\n",
            "+---+----------+----------+------+---------------+--------------------+---------+----------+-----------+\n",
            "only showing top 20 rows\n",
            "\n"
          ],
          "name": "stdout"
        }
      ]
    },
    {
      "cell_type": "code",
      "metadata": {
        "colab": {
          "base_uri": "https://localhost:8080/"
        },
        "id": "PIe3odKoeB10",
        "outputId": "ce9131b9-e706-4f53-f35b-76283d28ff2f"
      },
      "source": [
        "original_df.printSchema()"
      ],
      "execution_count": 4,
      "outputs": [
        {
          "output_type": "stream",
          "text": [
            "root\n",
            " |-- id: integer (nullable = true)\n",
            " |-- first_name: string (nullable = true)\n",
            " |-- last_name: string (nullable = true)\n",
            " |-- gender: string (nullable = true)\n",
            " |-- City: string (nullable = true)\n",
            " |-- JobTitle: string (nullable = true)\n",
            " |-- Salary: string (nullable = true)\n",
            " |-- Latitude: double (nullable = true)\n",
            " |-- Longitude: double (nullable = true)\n",
            "\n"
          ],
          "name": "stdout"
        }
      ]
    },
    {
      "cell_type": "code",
      "metadata": {
        "colab": {
          "base_uri": "https://localhost:8080/"
        },
        "id": "I69cxfCJeRrD",
        "outputId": "59febdc1-6b95-42f4-b535-276b073df064"
      },
      "source": [
        "original_df.columns"
      ],
      "execution_count": 5,
      "outputs": [
        {
          "output_type": "execute_result",
          "data": {
            "text/plain": [
              "['id',\n",
              " 'first_name',\n",
              " 'last_name',\n",
              " 'gender',\n",
              " 'City',\n",
              " 'JobTitle',\n",
              " 'Salary',\n",
              " 'Latitude',\n",
              " 'Longitude']"
            ]
          },
          "metadata": {
            "tags": []
          },
          "execution_count": 5
        }
      ]
    },
    {
      "cell_type": "code",
      "metadata": {
        "colab": {
          "base_uri": "https://localhost:8080/"
        },
        "id": "5oGXBPjSeVw7",
        "outputId": "6b24d13c-9c75-4158-b957-2c19cc83caf4"
      },
      "source": [
        "len(original_df.columns)"
      ],
      "execution_count": 6,
      "outputs": [
        {
          "output_type": "execute_result",
          "data": {
            "text/plain": [
              "9"
            ]
          },
          "metadata": {
            "tags": []
          },
          "execution_count": 6
        }
      ]
    },
    {
      "cell_type": "code",
      "metadata": {
        "colab": {
          "base_uri": "https://localhost:8080/"
        },
        "id": "iOTB_z4leaoT",
        "outputId": "4687295e-36d7-4fc2-fe56-07a221f11b92"
      },
      "source": [
        "original_df.count()"
      ],
      "execution_count": 7,
      "outputs": [
        {
          "output_type": "execute_result",
          "data": {
            "text/plain": [
              "1000"
            ]
          },
          "metadata": {
            "tags": []
          },
          "execution_count": 7
        }
      ]
    },
    {
      "cell_type": "code",
      "metadata": {
        "id": "hFto-h2beejj"
      },
      "source": [
        "original_df.createTempView('original_src')"
      ],
      "execution_count": 8,
      "outputs": []
    },
    {
      "cell_type": "code",
      "metadata": {
        "colab": {
          "base_uri": "https://localhost:8080/"
        },
        "id": "7813NOrAejzT",
        "outputId": "8db85d02-1e89-48a6-cc02-e3516a8a79f3"
      },
      "source": [
        "spark.sql(\"select * from original_src\").show()"
      ],
      "execution_count": 9,
      "outputs": [
        {
          "output_type": "stream",
          "text": [
            "+---+----------+----------+------+---------------+--------------------+---------+----------+-----------+\n",
            "| id|first_name| last_name|gender|           City|            JobTitle|   Salary|  Latitude|  Longitude|\n",
            "+---+----------+----------+------+---------------+--------------------+---------+----------+-----------+\n",
            "|  1|   Melinde| Shilburne|Female|      Nowa Ruda| Assistant Professor|$57438.18|50.5774075| 16.4967184|\n",
            "|  2|  Kimberly|Von Welden|Female|         Bulgan|       Programmer II|$62846.60|48.8231572|103.5218199|\n",
            "|  3|    Alvera|  Di Boldi|Female|           null|                null|$57576.52|39.9947462|116.3397725|\n",
            "|  4|   Shannon| O'Griffin|  Male|  Divnomorskoye|Budget/Accounting...|$61489.23|44.5047212| 38.1300171|\n",
            "|  5|  Sherwood|   Macieja|  Male|      Mytishchi|            VP Sales|$63863.09|      null| 37.6489954|\n",
            "|  6|     Maris|      Folk|Female|Kinsealy-Drinan|      Civil Engineer|$30101.16|53.4266145| -6.1644997|\n",
            "|  7|     Masha|    Divers|Female|         Dachun|                null|$25090.87| 24.879416| 118.930111|\n",
            "|  8|   Goddart|     Flear|  Male|      Trélissac|Desktop Support T...|$46116.36|45.1905186|  0.7423124|\n",
            "|  9|      Roth|O'Cannavan|  Male|         Heitan|VP Product Manage...|$73697.10| 32.027934| 106.657113|\n",
            "| 10|      Bran|   Trahear|  Male|       Arbeláez|Mechanical System...|$68098.42|  4.272793| -74.416014|\n",
            "| 11|    Kylynn|   Lockart|Female|       El Cardo|Nuclear Power Eng...|$13604.63|     -5.85|-79.8833329|\n",
            "| 12|       Rey|    Meharg|Female|    Wangqingtuo|Systems Administr...|$73423.70| 39.172378| 116.931607|\n",
            "| 13|      Kerr|    Braden|  Male|      Sułkowice|Compensation Analyst|$33432.99|49.8151822| 19.3771749|\n",
            "| 14|    Mickie| Whanstall|  Male|    Springfield|Assistant Media P...|$50838.53|42.1014803|-72.5766759|\n",
            "| 15|    Kaspar|     Pally|  Male|         Chrást|  Analyst Programmer|$40163.03|49.7923299| 13.4915324|\n",
            "| 16|    Norbie|    Gwyllt|  Male|         Xijiao|              Editor|$32492.73|43.4945737|  5.8978018|\n",
            "| 17|    Claude|    Briant|Female|      Mieścisko|Research Assistan...|$51862.48|52.7441662| 17.3278637|\n",
            "| 18|     Thain|    Habbon|  Male| Foros do Trapo|     Design Engineer|$42135.67| 38.696249| -8.7098337|\n",
            "| 19|  Tiffanie|  Pattison|Female|    Jabungsisir|Senior Financial ...|$91925.08|-7.7232567|113.4686802|\n",
            "| 20|    Ettore|  Gerriets|  Male|          Pedra| Staff Accountant IV|$73921.33|40.7172049| -8.3625148|\n",
            "+---+----------+----------+------+---------------+--------------------+---------+----------+-----------+\n",
            "only showing top 20 rows\n",
            "\n"
          ],
          "name": "stdout"
        }
      ]
    },
    {
      "cell_type": "markdown",
      "metadata": {
        "id": "8plJ4Lvjftgy"
      },
      "source": [
        "eliminate rows with nulls in jobtitle and city columns\r\n",
        "replace nulls in latitude/longitude with median value\r\n",
        "convert salary to decimal"
      ]
    },
    {
      "cell_type": "code",
      "metadata": {
        "colab": {
          "base_uri": "https://localhost:8080/"
        },
        "id": "QsfgrDXXfe_U",
        "outputId": "aaa0eae9-8275-436b-a3f2-b09e031a9dea"
      },
      "source": [
        "df1 = spark.sql(\"\"\"select  id, \\\r\n",
        "    first_name, \\\r\n",
        "    last_name, \\\r\n",
        "    gender, \\\r\n",
        "    city, \\\r\n",
        "    JobTitle as jobtitle, \\\r\n",
        "    cast(substr(Salary,2) as decimal(9,2)) as salary, \\\r\n",
        "    Latitude  as latitude, \\\r\n",
        "    Longitude as longitude\r\n",
        "    from original_src \\\r\n",
        "    where LENGTH(LTRIM(jobtitle)) <> 0  \\\r\n",
        "      and LENGTH(LTRIM(city)) <> 0\r\n",
        "    \"\"\")\r\n",
        "df1.show()"
      ],
      "execution_count": 13,
      "outputs": [
        {
          "output_type": "stream",
          "text": [
            "+---+----------+----------+------+---------------+--------------------+--------+----------+-----------+\n",
            "| id|first_name| last_name|gender|           city|            jobtitle|  salary|  latitude|  longitude|\n",
            "+---+----------+----------+------+---------------+--------------------+--------+----------+-----------+\n",
            "|  1|   Melinde| Shilburne|Female|      Nowa Ruda| Assistant Professor|57438.18|50.5774075| 16.4967184|\n",
            "|  2|  Kimberly|Von Welden|Female|         Bulgan|       Programmer II|62846.60|48.8231572|103.5218199|\n",
            "|  4|   Shannon| O'Griffin|  Male|  Divnomorskoye|Budget/Accounting...|61489.23|44.5047212| 38.1300171|\n",
            "|  5|  Sherwood|   Macieja|  Male|      Mytishchi|            VP Sales|63863.09|      null| 37.6489954|\n",
            "|  6|     Maris|      Folk|Female|Kinsealy-Drinan|      Civil Engineer|30101.16|53.4266145| -6.1644997|\n",
            "|  8|   Goddart|     Flear|  Male|      Trélissac|Desktop Support T...|46116.36|45.1905186|  0.7423124|\n",
            "|  9|      Roth|O'Cannavan|  Male|         Heitan|VP Product Manage...|73697.10| 32.027934| 106.657113|\n",
            "| 10|      Bran|   Trahear|  Male|       Arbeláez|Mechanical System...|68098.42|  4.272793| -74.416014|\n",
            "| 11|    Kylynn|   Lockart|Female|       El Cardo|Nuclear Power Eng...|13604.63|     -5.85|-79.8833329|\n",
            "| 12|       Rey|    Meharg|Female|    Wangqingtuo|Systems Administr...|73423.70| 39.172378| 116.931607|\n",
            "| 13|      Kerr|    Braden|  Male|      Sułkowice|Compensation Analyst|33432.99|49.8151822| 19.3771749|\n",
            "| 14|    Mickie| Whanstall|  Male|    Springfield|Assistant Media P...|50838.53|42.1014803|-72.5766759|\n",
            "| 15|    Kaspar|     Pally|  Male|         Chrást|  Analyst Programmer|40163.03|49.7923299| 13.4915324|\n",
            "| 16|    Norbie|    Gwyllt|  Male|         Xijiao|              Editor|32492.73|43.4945737|  5.8978018|\n",
            "| 17|    Claude|    Briant|Female|      Mieścisko|Research Assistan...|51862.48|52.7441662| 17.3278637|\n",
            "| 18|     Thain|    Habbon|  Male| Foros do Trapo|     Design Engineer|42135.67| 38.696249| -8.7098337|\n",
            "| 19|  Tiffanie|  Pattison|Female|    Jabungsisir|Senior Financial ...|91925.08|-7.7232567|113.4686802|\n",
            "| 20|    Ettore|  Gerriets|  Male|          Pedra| Staff Accountant IV|73921.33|40.7172049| -8.3625148|\n",
            "| 21|      Alon|  Chasteau|  Male|          Xin’e|     Web Developer I|62755.85|  49.16291|  127.98658|\n",
            "| 22|   Guthrey|    Johnke|  Male|         Xijiao|         Developer I|13708.03|40.7576842| 23.1342184|\n",
            "+---+----------+----------+------+---------------+--------------------+--------+----------+-----------+\n",
            "only showing top 20 rows\n",
            "\n"
          ],
          "name": "stdout"
        }
      ]
    },
    {
      "cell_type": "code",
      "metadata": {
        "colab": {
          "base_uri": "https://localhost:8080/"
        },
        "id": "2mrc4g0-epQU",
        "outputId": "fa43015c-e609-49c8-c5f0-1d9095066e3f"
      },
      "source": [
        "spark.sql(\"\"\"select count(case when isnull(latitude) then 1  else null \\\r\n",
        "                                end ) latitude_nulls, \\\r\n",
        "                    count(case when isnull(longitude) then 1  else null \\\r\n",
        "                                end ) longitude_nulls            \r\n",
        "                                from original_src \"\"\").show()"
      ],
      "execution_count": 11,
      "outputs": [
        {
          "output_type": "stream",
          "text": [
            "+--------------+---------------+\n",
            "|latitude_nulls|longitude_nulls|\n",
            "+--------------+---------------+\n",
            "|             1|              0|\n",
            "+--------------+---------------+\n",
            "\n"
          ],
          "name": "stdout"
        }
      ]
    },
    {
      "cell_type": "code",
      "metadata": {
        "colab": {
          "base_uri": "https://localhost:8080/"
        },
        "id": "IXZkF_L-fnZj",
        "outputId": "1ddc8a1f-3ae7-4ec7-f8f7-4bfe373cff30"
      },
      "source": [
        "import numpy as np\r\n",
        "\r\n",
        "latitudes = df1.select('latitude').filter(df1.latitude.isNotNull())\r\n",
        "latitudes.show(5)"
      ],
      "execution_count": 15,
      "outputs": [
        {
          "output_type": "stream",
          "text": [
            "+----------+\n",
            "|  latitude|\n",
            "+----------+\n",
            "|50.5774075|\n",
            "|48.8231572|\n",
            "|44.5047212|\n",
            "|53.4266145|\n",
            "|45.1905186|\n",
            "+----------+\n",
            "only showing top 5 rows\n",
            "\n"
          ],
          "name": "stdout"
        }
      ]
    },
    {
      "cell_type": "code",
      "metadata": {
        "colab": {
          "base_uri": "https://localhost:8080/"
        },
        "id": "wgiAy6e9hGJN",
        "outputId": "b9be719c-1c64-4ec4-b6de-902f6e19f451"
      },
      "source": [
        "median = np.median(latitudes.collect())\r\n",
        "print(median)"
      ],
      "execution_count": 16,
      "outputs": [
        {
          "output_type": "stream",
          "text": [
            "31.9339724\n"
          ],
          "name": "stdout"
        }
      ]
    },
    {
      "cell_type": "code",
      "metadata": {
        "colab": {
          "base_uri": "https://localhost:8080/"
        },
        "id": "Mj6qd89XhNE7",
        "outputId": "616614ea-a69d-4e53-a0a9-884365cdafdb"
      },
      "source": [
        "from pyspark.sql.functions import lit\r\n",
        "from pyspark.sql.functions import *\r\n",
        "df_fin = df1.withColumn('latitude1', when(df1.latitude.isNull(), lit(median)).otherwise(df1.latitude)).drop(df1.latitude)\r\n",
        "\r\n",
        "df_fin.show()\r\n",
        "df_fin.createOrReplaceTempView(\"table1\")"
      ],
      "execution_count": 17,
      "outputs": [
        {
          "output_type": "stream",
          "text": [
            "+---+----------+----------+------+---------------+--------------------+--------+-----------+----------+\n",
            "| id|first_name| last_name|gender|           city|            jobtitle|  salary|  longitude| latitude1|\n",
            "+---+----------+----------+------+---------------+--------------------+--------+-----------+----------+\n",
            "|  1|   Melinde| Shilburne|Female|      Nowa Ruda| Assistant Professor|57438.18| 16.4967184|50.5774075|\n",
            "|  2|  Kimberly|Von Welden|Female|         Bulgan|       Programmer II|62846.60|103.5218199|48.8231572|\n",
            "|  4|   Shannon| O'Griffin|  Male|  Divnomorskoye|Budget/Accounting...|61489.23| 38.1300171|44.5047212|\n",
            "|  5|  Sherwood|   Macieja|  Male|      Mytishchi|            VP Sales|63863.09| 37.6489954|31.9339724|\n",
            "|  6|     Maris|      Folk|Female|Kinsealy-Drinan|      Civil Engineer|30101.16| -6.1644997|53.4266145|\n",
            "|  8|   Goddart|     Flear|  Male|      Trélissac|Desktop Support T...|46116.36|  0.7423124|45.1905186|\n",
            "|  9|      Roth|O'Cannavan|  Male|         Heitan|VP Product Manage...|73697.10| 106.657113| 32.027934|\n",
            "| 10|      Bran|   Trahear|  Male|       Arbeláez|Mechanical System...|68098.42| -74.416014|  4.272793|\n",
            "| 11|    Kylynn|   Lockart|Female|       El Cardo|Nuclear Power Eng...|13604.63|-79.8833329|     -5.85|\n",
            "| 12|       Rey|    Meharg|Female|    Wangqingtuo|Systems Administr...|73423.70| 116.931607| 39.172378|\n",
            "| 13|      Kerr|    Braden|  Male|      Sułkowice|Compensation Analyst|33432.99| 19.3771749|49.8151822|\n",
            "| 14|    Mickie| Whanstall|  Male|    Springfield|Assistant Media P...|50838.53|-72.5766759|42.1014803|\n",
            "| 15|    Kaspar|     Pally|  Male|         Chrást|  Analyst Programmer|40163.03| 13.4915324|49.7923299|\n",
            "| 16|    Norbie|    Gwyllt|  Male|         Xijiao|              Editor|32492.73|  5.8978018|43.4945737|\n",
            "| 17|    Claude|    Briant|Female|      Mieścisko|Research Assistan...|51862.48| 17.3278637|52.7441662|\n",
            "| 18|     Thain|    Habbon|  Male| Foros do Trapo|     Design Engineer|42135.67| -8.7098337| 38.696249|\n",
            "| 19|  Tiffanie|  Pattison|Female|    Jabungsisir|Senior Financial ...|91925.08|113.4686802|-7.7232567|\n",
            "| 20|    Ettore|  Gerriets|  Male|          Pedra| Staff Accountant IV|73921.33| -8.3625148|40.7172049|\n",
            "| 21|      Alon|  Chasteau|  Male|          Xin’e|     Web Developer I|62755.85|  127.98658|  49.16291|\n",
            "| 22|   Guthrey|    Johnke|  Male|         Xijiao|         Developer I|13708.03| 23.1342184|40.7576842|\n",
            "+---+----------+----------+------+---------------+--------------------+--------+-----------+----------+\n",
            "only showing top 20 rows\n",
            "\n"
          ],
          "name": "stdout"
        }
      ]
    },
    {
      "cell_type": "code",
      "metadata": {
        "colab": {
          "base_uri": "https://localhost:8080/"
        },
        "id": "tNf4yiW1h7V1",
        "outputId": "1e28bd58-4283-4dff-f1fc-d87a334176ea"
      },
      "source": [
        "fin_tab = spark.sql(\"\"\" select id,first_name,last_name,gender,city,jobtitle,salary,latitude1 as latitude,longitude \\\r\n",
        "from table1\"\"\")\r\n",
        "fin_tab.show()"
      ],
      "execution_count": 18,
      "outputs": [
        {
          "output_type": "stream",
          "text": [
            "+---+----------+----------+------+---------------+--------------------+--------+----------+-----------+\n",
            "| id|first_name| last_name|gender|           city|            jobtitle|  salary|  latitude|  longitude|\n",
            "+---+----------+----------+------+---------------+--------------------+--------+----------+-----------+\n",
            "|  1|   Melinde| Shilburne|Female|      Nowa Ruda| Assistant Professor|57438.18|50.5774075| 16.4967184|\n",
            "|  2|  Kimberly|Von Welden|Female|         Bulgan|       Programmer II|62846.60|48.8231572|103.5218199|\n",
            "|  4|   Shannon| O'Griffin|  Male|  Divnomorskoye|Budget/Accounting...|61489.23|44.5047212| 38.1300171|\n",
            "|  5|  Sherwood|   Macieja|  Male|      Mytishchi|            VP Sales|63863.09|31.9339724| 37.6489954|\n",
            "|  6|     Maris|      Folk|Female|Kinsealy-Drinan|      Civil Engineer|30101.16|53.4266145| -6.1644997|\n",
            "|  8|   Goddart|     Flear|  Male|      Trélissac|Desktop Support T...|46116.36|45.1905186|  0.7423124|\n",
            "|  9|      Roth|O'Cannavan|  Male|         Heitan|VP Product Manage...|73697.10| 32.027934| 106.657113|\n",
            "| 10|      Bran|   Trahear|  Male|       Arbeláez|Mechanical System...|68098.42|  4.272793| -74.416014|\n",
            "| 11|    Kylynn|   Lockart|Female|       El Cardo|Nuclear Power Eng...|13604.63|     -5.85|-79.8833329|\n",
            "| 12|       Rey|    Meharg|Female|    Wangqingtuo|Systems Administr...|73423.70| 39.172378| 116.931607|\n",
            "| 13|      Kerr|    Braden|  Male|      Sułkowice|Compensation Analyst|33432.99|49.8151822| 19.3771749|\n",
            "| 14|    Mickie| Whanstall|  Male|    Springfield|Assistant Media P...|50838.53|42.1014803|-72.5766759|\n",
            "| 15|    Kaspar|     Pally|  Male|         Chrást|  Analyst Programmer|40163.03|49.7923299| 13.4915324|\n",
            "| 16|    Norbie|    Gwyllt|  Male|         Xijiao|              Editor|32492.73|43.4945737|  5.8978018|\n",
            "| 17|    Claude|    Briant|Female|      Mieścisko|Research Assistan...|51862.48|52.7441662| 17.3278637|\n",
            "| 18|     Thain|    Habbon|  Male| Foros do Trapo|     Design Engineer|42135.67| 38.696249| -8.7098337|\n",
            "| 19|  Tiffanie|  Pattison|Female|    Jabungsisir|Senior Financial ...|91925.08|-7.7232567|113.4686802|\n",
            "| 20|    Ettore|  Gerriets|  Male|          Pedra| Staff Accountant IV|73921.33|40.7172049| -8.3625148|\n",
            "| 21|      Alon|  Chasteau|  Male|          Xin’e|     Web Developer I|62755.85|  49.16291|  127.98658|\n",
            "| 22|   Guthrey|    Johnke|  Male|         Xijiao|         Developer I|13708.03|40.7576842| 23.1342184|\n",
            "+---+----------+----------+------+---------------+--------------------+--------+----------+-----------+\n",
            "only showing top 20 rows\n",
            "\n"
          ],
          "name": "stdout"
        }
      ]
    },
    {
      "cell_type": "code",
      "metadata": {
        "colab": {
          "base_uri": "https://localhost:8080/"
        },
        "id": "_A4WykQMiH8M",
        "outputId": "a4254de6-68ce-49fc-d5cb-5b39c448b553"
      },
      "source": [
        "fin_tab.printSchema()"
      ],
      "execution_count": 19,
      "outputs": [
        {
          "output_type": "stream",
          "text": [
            "root\n",
            " |-- id: integer (nullable = true)\n",
            " |-- first_name: string (nullable = true)\n",
            " |-- last_name: string (nullable = true)\n",
            " |-- gender: string (nullable = true)\n",
            " |-- city: string (nullable = true)\n",
            " |-- jobtitle: string (nullable = true)\n",
            " |-- salary: decimal(9,2) (nullable = true)\n",
            " |-- latitude: double (nullable = true)\n",
            " |-- longitude: double (nullable = true)\n",
            "\n"
          ],
          "name": "stdout"
        }
      ]
    },
    {
      "cell_type": "code",
      "metadata": {
        "id": "BSr5G-B-jDaM"
      },
      "source": [
        "spark.sql(\"create schema if not exists test\")\r\n",
        "fin_tab.write.format('parquet').mode(\"overwrite\").saveAsTable('test.clean_source')"
      ],
      "execution_count": 23,
      "outputs": []
    },
    {
      "cell_type": "code",
      "metadata": {
        "colab": {
          "base_uri": "https://localhost:8080/"
        },
        "id": "rGV4xITAiVGm",
        "outputId": "bdecf09e-e697-4450-e774-a0714687486e"
      },
      "source": [
        "spark.sql(\"\"\"select gender,avg(salary) as avg_salary \\\r\n",
        "           from table1 group by gender\"\"\").show()"
      ],
      "execution_count": 25,
      "outputs": [
        {
          "output_type": "stream",
          "text": [
            "+------+------------+\n",
            "|gender|  avg_salary|\n",
            "+------+------------+\n",
            "|Female|55677.250184|\n",
            "|  Male|55361.093839|\n",
            "+------+------------+\n",
            "\n"
          ],
          "name": "stdout"
        }
      ]
    },
    {
      "cell_type": "code",
      "metadata": {
        "colab": {
          "base_uri": "https://localhost:8080/"
        },
        "id": "4ZTF3Y1rl5qY",
        "outputId": "d0790143-80b9-40ea-d84e-1385238e4c94"
      },
      "source": [
        "df_salary = spark.sql(\"\"\" select gender,jobtitle, avg(salary) as avg_salary \\\r\n",
        "             from table1 group by gender,jobtitle order by jobtitle, gender\"\"\")\r\n",
        "df_salary.show()"
      ],
      "execution_count": 36,
      "outputs": [
        {
          "output_type": "stream",
          "text": [
            "+------+--------------------+------------+\n",
            "|gender|            jobtitle|  avg_salary|\n",
            "+------+--------------------+------------+\n",
            "|Female| Account Coordinator|46707.445000|\n",
            "|  Male| Account Coordinator|51446.623333|\n",
            "|Female|   Account Executive|52020.780000|\n",
            "|  Male|   Account Executive|65415.968000|\n",
            "|Female|Account Represent...|51116.973333|\n",
            "|Female|Account Represent...|41786.910000|\n",
            "|  Male|Account Represent...|40562.700000|\n",
            "|  Male|Account Represent...|22420.710000|\n",
            "|Female|       Accountant II|50354.815000|\n",
            "|Female|      Accountant III|15589.560000|\n",
            "|  Male|      Accountant III|39183.796667|\n",
            "|Female|       Accountant IV|82732.250000|\n",
            "|Female|Accounting Assist...|58916.085000|\n",
            "|  Male|Accounting Assist...|59255.430000|\n",
            "|Female|Accounting Assist...|44071.866667|\n",
            "|  Male|Accounting Assist...|18795.440000|\n",
            "|Female|Accounting Assist...|57337.485000|\n",
            "|Female|             Actuary|54196.860000|\n",
            "|  Male|             Actuary|75540.217500|\n",
            "|Female|Administrative As...|43652.280000|\n",
            "+------+--------------------+------------+\n",
            "only showing top 20 rows\n",
            "\n"
          ],
          "name": "stdout"
        }
      ]
    },
    {
      "cell_type": "code",
      "metadata": {
        "colab": {
          "base_uri": "https://localhost:8080/"
        },
        "id": "KxNjL-K-qn2z",
        "outputId": "e88eb053-c40c-42a5-ce4c-35a5c9d8c2a9"
      },
      "source": [
        "df_salary.createOrReplaceTempView(\"salaries\")\r\n",
        "spark.sql(\"select * from salaries limit 3\").show()"
      ],
      "execution_count": 41,
      "outputs": [
        {
          "output_type": "stream",
          "text": [
            "+------+-------------------+------------+\n",
            "|gender|           jobtitle|  avg_salary|\n",
            "+------+-------------------+------------+\n",
            "|Female|Account Coordinator|46707.445000|\n",
            "|  Male|Account Coordinator|51446.623333|\n",
            "|Female|  Account Executive|52020.780000|\n",
            "+------+-------------------+------------+\n",
            "\n"
          ],
          "name": "stdout"
        }
      ]
    },
    {
      "cell_type": "code",
      "metadata": {
        "colab": {
          "base_uri": "https://localhost:8080/"
        },
        "id": "QE5lEt8tng4o",
        "outputId": "5e939bfd-dd3e-430f-d461-6f5ccf8a9a13"
      },
      "source": [
        "spark.sql(\"\"\"select f.jobtitle,m.jobtitle,f.avg_salary as f_sal,\\\r\n",
        "             m.avg_salary as m_sal, f.avg_salary - m.avg_salary as delta \\\r\n",
        "             from (select gender, jobtitle, avg_salary from salaries where gender = 'Female') f \\\r\n",
        "             join (select gender, jobtitle, avg_salary from salaries where gender = 'Male') m \\\r\n",
        "             on (f.jobtitle = m.jobtitle) \\\r\n",
        "             \"\"\").show()"
      ],
      "execution_count": 48,
      "outputs": [
        {
          "output_type": "stream",
          "text": [
            "+--------------------+--------------------+------------+------------+-------------+\n",
            "|            jobtitle|            jobtitle|       f_sal|       m_sal|        delta|\n",
            "+--------------------+--------------------+------------+------------+-------------+\n",
            "| Account Coordinator| Account Coordinator|46707.445000|51446.623333| -4739.178333|\n",
            "|   Account Executive|   Account Executive|52020.780000|65415.968000|-13395.188000|\n",
            "|Account Represent...|Account Represent...|41786.910000|40562.700000|  1224.210000|\n",
            "|      Accountant III|      Accountant III|15589.560000|39183.796667|-23594.236667|\n",
            "|Accounting Assist...|Accounting Assist...|58916.085000|59255.430000|  -339.345000|\n",
            "|Accounting Assist...|Accounting Assist...|44071.866667|18795.440000| 25276.426667|\n",
            "|             Actuary|             Actuary|54196.860000|75540.217500|-21343.357500|\n",
            "|Administrative As...|Administrative As...|43652.280000|65910.310000|-22258.030000|\n",
            "|Administrative As...|Administrative As...|68744.575000|29440.470000| 39304.105000|\n",
            "|Administrative As...|Administrative As...|24826.075000|64982.565000|-40156.490000|\n",
            "|Administrative Of...|Administrative Of...|48711.515000|56530.580000| -7819.065000|\n",
            "|Analog Circuit De...|Analog Circuit De...|72699.965000|49140.225714| 23559.739286|\n",
            "|  Analyst Programmer|  Analyst Programmer|41015.322500|35071.605000|  5943.717500|\n",
            "|   Assistant Manager|   Assistant Manager|56455.570000|51112.610000|  5342.960000|\n",
            "|Assistant Media P...|Assistant Media P...|66528.598571|75331.772000| -8803.173429|\n",
            "| Assistant Professor| Assistant Professor|44351.908000|53825.540000| -9473.632000|\n",
            "| Associate Professor| Associate Professor|61326.315000|70314.987143| -8988.672143|\n",
            "|Automation Specia...|Automation Specia...|79717.860000|70182.210000|  9535.650000|\n",
            "|Automation Specia...|Automation Specia...|38544.570000|26333.160000| 12211.410000|\n",
            "|Automation Specia...|Automation Specia...|44904.135000|22727.950000| 22176.185000|\n",
            "+--------------------+--------------------+------------+------------+-------------+\n",
            "only showing top 20 rows\n",
            "\n"
          ],
          "name": "stdout"
        }
      ]
    },
    {
      "cell_type": "code",
      "metadata": {
        "colab": {
          "base_uri": "https://localhost:8080/"
        },
        "id": "VtwIbHIQplV8",
        "outputId": "b7855827-b674-4c53-9a67-97aa0b112d20"
      },
      "source": [
        "spark.sql(\"select city, avg(salary) avg_salary from table1 group by city order by avg_salary\").show()"
      ],
      "execution_count": 50,
      "outputs": [
        {
          "output_type": "stream",
          "text": [
            "+-------------------+------------+\n",
            "|               city|  avg_salary|\n",
            "+-------------------+------------+\n",
            "|             Gaoshi|10101.920000|\n",
            "|             Jarash|10210.850000|\n",
            "|            Połomia|10616.440000|\n",
            "|           Paris 13|10760.340000|\n",
            "|         Santa Rita|10766.430000|\n",
            "| San Pedro Masahuat|10808.160000|\n",
            "|           Zhizhong|10913.500000|\n",
            "|              Ursus|11014.990000|\n",
            "|            Baoshui|11084.340000|\n",
            "|            Tiannan|11209.810000|\n",
            "|Venustiano Carranza|11223.750000|\n",
            "|             Puyuan|11224.170000|\n",
            "|     Mariano Moreno|11376.580000|\n",
            "|           Cipinang|11617.510000|\n",
            "|   Kham Sakae Saeng|11630.950000|\n",
            "|       Bajingmeduro|11652.990000|\n",
            "|         Concepción|11824.520000|\n",
            "|            Lachute|11926.310000|\n",
            "|           Tiandiba|11950.080000|\n",
            "|             Podhum|12016.070000|\n",
            "+-------------------+------------+\n",
            "only showing top 20 rows\n",
            "\n"
          ],
          "name": "stdout"
        }
      ]
    },
    {
      "cell_type": "code",
      "metadata": {
        "id": "na41DNz9wHi1"
      },
      "source": [
        ""
      ],
      "execution_count": null,
      "outputs": []
    }
  ]
}