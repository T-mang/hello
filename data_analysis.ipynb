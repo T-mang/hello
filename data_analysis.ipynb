{
  "nbformat": 4,
  "nbformat_minor": 0,
  "metadata": {
    "colab": {
      "name": "data_analysis.ipynb",
      "provenance": [],
      "authorship_tag": "ABX9TyPUx4lELb51c8lDtft+/0sP",
      "include_colab_link": true
    },
    "kernelspec": {
      "name": "python3",
      "display_name": "Python 3"
    }
  },
  "cells": [
    {
      "cell_type": "markdown",
      "metadata": {
        "id": "view-in-github",
        "colab_type": "text"
      },
      "source": [
        "<a href=\"https://colab.research.google.com/github/T-mang/misc/blob/master/data_analysis.ipynb\" target=\"_parent\"><img src=\"https://colab.research.google.com/assets/colab-badge.svg\" alt=\"Open In Colab\"/></a>"
      ]
    },
    {
      "cell_type": "code",
      "metadata": {
        "colab": {
          "base_uri": "https://localhost:8080/",
          "height": 607
        },
        "id": "ZgHZ-YOoHU28",
        "outputId": "2ef98f7d-c602-4171-d5df-bde25b4e9153"
      },
      "source": [
        "!apt-get update\r\n",
        "!apt-get install openjdk-8-jre-headless -qq > /dev/null\r\n",
        "!wget -q http://archive.apache.org/dist/spark/spark-2.4.7/spark-2.4.7-bin-hadoop2.7.tgz\r\n",
        "!tar xf spark-2.4.7-bin-hadoop2.7.tgz\r\n",
        "!pip install -q findspark\r\n",
        "\r\n",
        "import os\r\n",
        "from os.path import join, abspath\r\n",
        "os.environ[\"JAVA_HOME\"] = \"/usr/lib/jvm/java-8-openjdk-amd64\"\r\n",
        "os.environ[\"SPARK_HOME\"] = \"/content/spark-2.4.7-bin-hadoop2.7\"\r\n",
        "\r\n",
        "!ls\r\n",
        "\r\n",
        "import findspark\r\n",
        "findspark.init()\r\n",
        "\r\n",
        "import pyspark\r\n",
        "from pyspark.sql import SparkSession\r\n",
        "\r\n",
        "from pyspark.sql import Row\r\n",
        "warehouse_location = abspath('spark-warehouse')\r\n",
        "\r\n",
        "import seaborn as sns\r\n",
        "import matplotlib.pyplot as plt \r\n",
        "import pandas as pd\r\n",
        "\r\n",
        "spark = SparkSession \\\r\n",
        "      .builder \\\r\n",
        "      .config(\"spark.sql.warehouse.dir\", warehouse_location) \\\r\n",
        "      .enableHiveSupport() \\\r\n",
        "      .getOrCreate()\r\n",
        "spark"
      ],
      "execution_count": 8,
      "outputs": [
        {
          "output_type": "stream",
          "text": [
            "\r0% [Working]\r            \rIgn:1 https://developer.download.nvidia.com/compute/cuda/repos/ubuntu1804/x86_64  InRelease\n",
            "\r0% [Connecting to archive.ubuntu.com (91.189.88.142)] [Waiting for headers] [Co\r                                                                               \rIgn:2 https://developer.download.nvidia.com/compute/machine-learning/repos/ubuntu1804/x86_64  InRelease\n",
            "Get:3 http://security.ubuntu.com/ubuntu bionic-security InRelease [88.7 kB]\n",
            "Hit:4 https://developer.download.nvidia.com/compute/cuda/repos/ubuntu1804/x86_64  Release\n",
            "Get:5 https://cloud.r-project.org/bin/linux/ubuntu bionic-cran40/ InRelease [3,626 B]\n",
            "Hit:6 https://developer.download.nvidia.com/compute/machine-learning/repos/ubuntu1804/x86_64  Release\n",
            "Hit:7 http://archive.ubuntu.com/ubuntu bionic InRelease\n",
            "Get:8 http://ppa.launchpad.net/c2d4u.team/c2d4u4.0+/ubuntu bionic InRelease [15.9 kB]\n",
            "Get:9 http://archive.ubuntu.com/ubuntu bionic-updates InRelease [88.7 kB]\n",
            "Hit:11 http://ppa.launchpad.net/cran/libgit2/ubuntu bionic InRelease\n",
            "Get:12 http://archive.ubuntu.com/ubuntu bionic-backports InRelease [74.6 kB]\n",
            "Hit:14 http://ppa.launchpad.net/deadsnakes/ppa/ubuntu bionic InRelease\n",
            "Hit:15 http://ppa.launchpad.net/graphics-drivers/ppa/ubuntu bionic InRelease\n",
            "Get:16 http://security.ubuntu.com/ubuntu bionic-security/main amd64 Packages [1,963 kB]\n",
            "Get:17 http://security.ubuntu.com/ubuntu bionic-security/universe amd64 Packages [1,392 kB]\n",
            "Get:18 http://ppa.launchpad.net/c2d4u.team/c2d4u4.0+/ubuntu bionic/main Sources [1,738 kB]\n",
            "Get:19 http://archive.ubuntu.com/ubuntu bionic-updates/main amd64 Packages [2,394 kB]\n",
            "Get:20 http://ppa.launchpad.net/c2d4u.team/c2d4u4.0+/ubuntu bionic/main amd64 Packages [889 kB]\n",
            "Get:21 http://archive.ubuntu.com/ubuntu bionic-updates/universe amd64 Packages [2,163 kB]\n",
            "Fetched 10.8 MB in 4s (2,798 kB/s)\n",
            "Reading package lists... Done\n",
            "imports-85.data  spark-2.4.7-bin-hadoop2.7\n",
            "sample_data\t spark-2.4.7-bin-hadoop2.7.tgz\n"
          ],
          "name": "stdout"
        },
        {
          "output_type": "execute_result",
          "data": {
            "text/html": [
              "\n",
              "            <div>\n",
              "                <p><b>SparkSession - hive</b></p>\n",
              "                \n",
              "        <div>\n",
              "            <p><b>SparkContext</b></p>\n",
              "\n",
              "            <p><a href=\"http://0b70d8d8b39e:4040\">Spark UI</a></p>\n",
              "\n",
              "            <dl>\n",
              "              <dt>Version</dt>\n",
              "                <dd><code>v2.4.7</code></dd>\n",
              "              <dt>Master</dt>\n",
              "                <dd><code>local[*]</code></dd>\n",
              "              <dt>AppName</dt>\n",
              "                <dd><code>pyspark-shell</code></dd>\n",
              "            </dl>\n",
              "        </div>\n",
              "        \n",
              "            </div>\n",
              "        "
            ],
            "text/plain": [
              "<pyspark.sql.session.SparkSession at 0x7f7d34fdd2d0>"
            ]
          },
          "metadata": {
            "tags": []
          },
          "execution_count": 8
        }
      ]
    },
    {
      "cell_type": "markdown",
      "metadata": {
        "id": "yIo-Vs7iHvDs"
      },
      "source": [
        "Given data file, coma separated, without headers (https://archive.ics.uci.edu/ml/machine-learning-databases/autos/imports-85.data)"
      ]
    },
    {
      "cell_type": "code",
      "metadata": {
        "colab": {
          "base_uri": "https://localhost:8080/"
        },
        "id": "7-PQDWPzIZw_",
        "outputId": "8261f309-fba2-44a5-fdb4-46d3ae52f8b8"
      },
      "source": [
        "spark.sql(\"create schema if not exists test\")"
      ],
      "execution_count": 9,
      "outputs": [
        {
          "output_type": "execute_result",
          "data": {
            "text/plain": [
              "DataFrame[]"
            ]
          },
          "metadata": {
            "tags": []
          },
          "execution_count": 9
        }
      ]
    },
    {
      "cell_type": "code",
      "metadata": {
        "colab": {
          "base_uri": "https://localhost:8080/"
        },
        "id": "atv1fj34JGnx",
        "outputId": "48dd2473-c61f-479c-9638-a8f31decdbdd"
      },
      "source": [
        "spark.sql(\"\"\"create table if not exists test.src2 ( id string, first_name STRING, \\\r\n",
        "last_name STRING, gender STRING, city String, JobTitle String, \\\r\n",
        "Salary STRING, Latitude string, Longitude string) \\\r\n",
        "ROW FORMAT DELIMITED FIELDS TERMINATED BY \",\" \\\r\n",
        "tblproperties(\"skip.header.line.count\"=\"1\") \\\r\n",
        "stored AS textfile\"\"\")"
      ],
      "execution_count": 10,
      "outputs": [
        {
          "output_type": "execute_result",
          "data": {
            "text/plain": [
              "DataFrame[]"
            ]
          },
          "metadata": {
            "tags": []
          },
          "execution_count": 10
        }
      ]
    },
    {
      "cell_type": "code",
      "metadata": {
        "colab": {
          "base_uri": "https://localhost:8080/"
        },
        "id": "r1wRFcJpKVXK",
        "outputId": "f813723a-a0b9-4e7f-9927-b2ed81b3f655"
      },
      "source": [
        "original_df = spark.read.csv(\"imports-85.data\", inferSchema = True, header = False)\r\n",
        "original_df.show()"
      ],
      "execution_count": 11,
      "outputs": [
        {
          "output_type": "stream",
          "text": [
            "+---+---+-----------+---+-----+----+-----------+---+-----+-----+-----+----+----+----+----+-----+----+----+----+----+----+----+----+----+----+-----+\n",
            "|_c0|_c1|        _c2|_c3|  _c4| _c5|        _c6|_c7|  _c8|  _c9| _c10|_c11|_c12|_c13|_c14| _c15|_c16|_c17|_c18|_c19|_c20|_c21|_c22|_c23|_c24| _c25|\n",
            "+---+---+-----------+---+-----+----+-----------+---+-----+-----+-----+----+----+----+----+-----+----+----+----+----+----+----+----+----+----+-----+\n",
            "|  3|  ?|alfa-romero|gas|  std| two|convertible|rwd|front| 88.6|168.8|64.1|48.8|2548|dohc| four| 130|mpfi|3.47|2.68| 9.0| 111|5000|  21|  27|13495|\n",
            "|  3|  ?|alfa-romero|gas|  std| two|convertible|rwd|front| 88.6|168.8|64.1|48.8|2548|dohc| four| 130|mpfi|3.47|2.68| 9.0| 111|5000|  21|  27|16500|\n",
            "|  1|  ?|alfa-romero|gas|  std| two|  hatchback|rwd|front| 94.5|171.2|65.5|52.4|2823|ohcv|  six| 152|mpfi|2.68|3.47| 9.0| 154|5000|  19|  26|16500|\n",
            "|  2|164|       audi|gas|  std|four|      sedan|fwd|front| 99.8|176.6|66.2|54.3|2337| ohc| four| 109|mpfi|3.19|3.40|10.0| 102|5500|  24|  30|13950|\n",
            "|  2|164|       audi|gas|  std|four|      sedan|4wd|front| 99.4|176.6|66.4|54.3|2824| ohc| five| 136|mpfi|3.19|3.40| 8.0| 115|5500|  18|  22|17450|\n",
            "|  2|  ?|       audi|gas|  std| two|      sedan|fwd|front| 99.8|177.3|66.3|53.1|2507| ohc| five| 136|mpfi|3.19|3.40| 8.5| 110|5500|  19|  25|15250|\n",
            "|  1|158|       audi|gas|  std|four|      sedan|fwd|front|105.8|192.7|71.4|55.7|2844| ohc| five| 136|mpfi|3.19|3.40| 8.5| 110|5500|  19|  25|17710|\n",
            "|  1|  ?|       audi|gas|  std|four|      wagon|fwd|front|105.8|192.7|71.4|55.7|2954| ohc| five| 136|mpfi|3.19|3.40| 8.5| 110|5500|  19|  25|18920|\n",
            "|  1|158|       audi|gas|turbo|four|      sedan|fwd|front|105.8|192.7|71.4|55.9|3086| ohc| five| 131|mpfi|3.13|3.40| 8.3| 140|5500|  17|  20|23875|\n",
            "|  0|  ?|       audi|gas|turbo| two|  hatchback|4wd|front| 99.5|178.2|67.9|52.0|3053| ohc| five| 131|mpfi|3.13|3.40| 7.0| 160|5500|  16|  22|    ?|\n",
            "|  2|192|        bmw|gas|  std| two|      sedan|rwd|front|101.2|176.8|64.8|54.3|2395| ohc| four| 108|mpfi|3.50|2.80| 8.8| 101|5800|  23|  29|16430|\n",
            "|  0|192|        bmw|gas|  std|four|      sedan|rwd|front|101.2|176.8|64.8|54.3|2395| ohc| four| 108|mpfi|3.50|2.80| 8.8| 101|5800|  23|  29|16925|\n",
            "|  0|188|        bmw|gas|  std| two|      sedan|rwd|front|101.2|176.8|64.8|54.3|2710| ohc|  six| 164|mpfi|3.31|3.19| 9.0| 121|4250|  21|  28|20970|\n",
            "|  0|188|        bmw|gas|  std|four|      sedan|rwd|front|101.2|176.8|64.8|54.3|2765| ohc|  six| 164|mpfi|3.31|3.19| 9.0| 121|4250|  21|  28|21105|\n",
            "|  1|  ?|        bmw|gas|  std|four|      sedan|rwd|front|103.5|189.0|66.9|55.7|3055| ohc|  six| 164|mpfi|3.31|3.19| 9.0| 121|4250|  20|  25|24565|\n",
            "|  0|  ?|        bmw|gas|  std|four|      sedan|rwd|front|103.5|189.0|66.9|55.7|3230| ohc|  six| 209|mpfi|3.62|3.39| 8.0| 182|5400|  16|  22|30760|\n",
            "|  0|  ?|        bmw|gas|  std| two|      sedan|rwd|front|103.5|193.8|67.9|53.7|3380| ohc|  six| 209|mpfi|3.62|3.39| 8.0| 182|5400|  16|  22|41315|\n",
            "|  0|  ?|        bmw|gas|  std|four|      sedan|rwd|front|110.0|197.0|70.9|56.3|3505| ohc|  six| 209|mpfi|3.62|3.39| 8.0| 182|5400|  15|  20|36880|\n",
            "|  2|121|  chevrolet|gas|  std| two|  hatchback|fwd|front| 88.4|141.1|60.3|53.2|1488|   l|three|  61|2bbl|2.91|3.03| 9.5|  48|5100|  47|  53| 5151|\n",
            "|  1| 98|  chevrolet|gas|  std| two|  hatchback|fwd|front| 94.5|155.9|63.6|52.0|1874| ohc| four|  90|2bbl|3.03|3.11| 9.6|  70|5400|  38|  43| 6295|\n",
            "+---+---+-----------+---+-----+----+-----------+---+-----+-----+-----+----+----+----+----+-----+----+----+----+----+----+----+----+----+----+-----+\n",
            "only showing top 20 rows\n",
            "\n"
          ],
          "name": "stdout"
        }
      ]
    },
    {
      "cell_type": "code",
      "metadata": {
        "colab": {
          "base_uri": "https://localhost:8080/"
        },
        "id": "950d7PTQKeek",
        "outputId": "f8893316-20c1-4573-b750-5d7aa38b6099"
      },
      "source": [
        "oldColumns = original_df.schema.names\r\n",
        "print(oldColumns)"
      ],
      "execution_count": 12,
      "outputs": [
        {
          "output_type": "stream",
          "text": [
            "['_c0', '_c1', '_c2', '_c3', '_c4', '_c5', '_c6', '_c7', '_c8', '_c9', '_c10', '_c11', '_c12', '_c13', '_c14', '_c15', '_c16', '_c17', '_c18', '_c19', '_c20', '_c21', '_c22', '_c23', '_c24', '_c25']\n"
          ],
          "name": "stdout"
        }
      ]
    },
    {
      "cell_type": "code",
      "metadata": {
        "id": "rFV7MoNfLUrJ"
      },
      "source": [
        "newColumns = [\"symboling\",\"normalized_losses\",\"make\",\"fuel_type\",\"aspiration\",\"num_of_doors\",\"body_style\",\"drive_wheels\",\"engine_location\",\"wheel_base\",\"length\",\"width\",\"height\",\"curb_weight\",\"engine_type\",\"num_of_cylinders\",\"engine_size\",\"fuel_system\",\"bore\",\"stroke\",\"compression_ratio\",\"horsepower\",\"peak_rpm\",\"city_mpg\",\"highway_mpg\",\"price\"]"
      ],
      "execution_count": 13,
      "outputs": []
    },
    {
      "cell_type": "code",
      "metadata": {
        "id": "wdYVbA7ALqfH"
      },
      "source": [
        "for c,n in zip(original_df.columns, newColumns):\r\n",
        "  original_df = original_df.withColumnRenamed(c,n)"
      ],
      "execution_count": 14,
      "outputs": []
    },
    {
      "cell_type": "code",
      "metadata": {
        "colab": {
          "base_uri": "https://localhost:8080/"
        },
        "id": "AvcWRqmvNXzQ",
        "outputId": "f36e76c1-2054-4c7d-b66f-3a59c6d94b00"
      },
      "source": [
        "original_df.show()"
      ],
      "execution_count": 15,
      "outputs": [
        {
          "output_type": "stream",
          "text": [
            "+---------+-----------------+-----------+---------+----------+------------+-----------+------------+---------------+----------+------+-----+------+-----------+-----------+----------------+-----------+-----------+----+------+-----------------+----------+--------+--------+-----------+-----+\n",
            "|symboling|normalized_losses|       make|fuel_type|aspiration|num_of_doors| body_style|drive_wheels|engine_location|wheel_base|length|width|height|curb_weight|engine_type|num_of_cylinders|engine_size|fuel_system|bore|stroke|compression_ratio|horsepower|peak_rpm|city_mpg|highway_mpg|price|\n",
            "+---------+-----------------+-----------+---------+----------+------------+-----------+------------+---------------+----------+------+-----+------+-----------+-----------+----------------+-----------+-----------+----+------+-----------------+----------+--------+--------+-----------+-----+\n",
            "|        3|                ?|alfa-romero|      gas|       std|         two|convertible|         rwd|          front|      88.6| 168.8| 64.1|  48.8|       2548|       dohc|            four|        130|       mpfi|3.47|  2.68|              9.0|       111|    5000|      21|         27|13495|\n",
            "|        3|                ?|alfa-romero|      gas|       std|         two|convertible|         rwd|          front|      88.6| 168.8| 64.1|  48.8|       2548|       dohc|            four|        130|       mpfi|3.47|  2.68|              9.0|       111|    5000|      21|         27|16500|\n",
            "|        1|                ?|alfa-romero|      gas|       std|         two|  hatchback|         rwd|          front|      94.5| 171.2| 65.5|  52.4|       2823|       ohcv|             six|        152|       mpfi|2.68|  3.47|              9.0|       154|    5000|      19|         26|16500|\n",
            "|        2|              164|       audi|      gas|       std|        four|      sedan|         fwd|          front|      99.8| 176.6| 66.2|  54.3|       2337|        ohc|            four|        109|       mpfi|3.19|  3.40|             10.0|       102|    5500|      24|         30|13950|\n",
            "|        2|              164|       audi|      gas|       std|        four|      sedan|         4wd|          front|      99.4| 176.6| 66.4|  54.3|       2824|        ohc|            five|        136|       mpfi|3.19|  3.40|              8.0|       115|    5500|      18|         22|17450|\n",
            "|        2|                ?|       audi|      gas|       std|         two|      sedan|         fwd|          front|      99.8| 177.3| 66.3|  53.1|       2507|        ohc|            five|        136|       mpfi|3.19|  3.40|              8.5|       110|    5500|      19|         25|15250|\n",
            "|        1|              158|       audi|      gas|       std|        four|      sedan|         fwd|          front|     105.8| 192.7| 71.4|  55.7|       2844|        ohc|            five|        136|       mpfi|3.19|  3.40|              8.5|       110|    5500|      19|         25|17710|\n",
            "|        1|                ?|       audi|      gas|       std|        four|      wagon|         fwd|          front|     105.8| 192.7| 71.4|  55.7|       2954|        ohc|            five|        136|       mpfi|3.19|  3.40|              8.5|       110|    5500|      19|         25|18920|\n",
            "|        1|              158|       audi|      gas|     turbo|        four|      sedan|         fwd|          front|     105.8| 192.7| 71.4|  55.9|       3086|        ohc|            five|        131|       mpfi|3.13|  3.40|              8.3|       140|    5500|      17|         20|23875|\n",
            "|        0|                ?|       audi|      gas|     turbo|         two|  hatchback|         4wd|          front|      99.5| 178.2| 67.9|  52.0|       3053|        ohc|            five|        131|       mpfi|3.13|  3.40|              7.0|       160|    5500|      16|         22|    ?|\n",
            "|        2|              192|        bmw|      gas|       std|         two|      sedan|         rwd|          front|     101.2| 176.8| 64.8|  54.3|       2395|        ohc|            four|        108|       mpfi|3.50|  2.80|              8.8|       101|    5800|      23|         29|16430|\n",
            "|        0|              192|        bmw|      gas|       std|        four|      sedan|         rwd|          front|     101.2| 176.8| 64.8|  54.3|       2395|        ohc|            four|        108|       mpfi|3.50|  2.80|              8.8|       101|    5800|      23|         29|16925|\n",
            "|        0|              188|        bmw|      gas|       std|         two|      sedan|         rwd|          front|     101.2| 176.8| 64.8|  54.3|       2710|        ohc|             six|        164|       mpfi|3.31|  3.19|              9.0|       121|    4250|      21|         28|20970|\n",
            "|        0|              188|        bmw|      gas|       std|        four|      sedan|         rwd|          front|     101.2| 176.8| 64.8|  54.3|       2765|        ohc|             six|        164|       mpfi|3.31|  3.19|              9.0|       121|    4250|      21|         28|21105|\n",
            "|        1|                ?|        bmw|      gas|       std|        four|      sedan|         rwd|          front|     103.5| 189.0| 66.9|  55.7|       3055|        ohc|             six|        164|       mpfi|3.31|  3.19|              9.0|       121|    4250|      20|         25|24565|\n",
            "|        0|                ?|        bmw|      gas|       std|        four|      sedan|         rwd|          front|     103.5| 189.0| 66.9|  55.7|       3230|        ohc|             six|        209|       mpfi|3.62|  3.39|              8.0|       182|    5400|      16|         22|30760|\n",
            "|        0|                ?|        bmw|      gas|       std|         two|      sedan|         rwd|          front|     103.5| 193.8| 67.9|  53.7|       3380|        ohc|             six|        209|       mpfi|3.62|  3.39|              8.0|       182|    5400|      16|         22|41315|\n",
            "|        0|                ?|        bmw|      gas|       std|        four|      sedan|         rwd|          front|     110.0| 197.0| 70.9|  56.3|       3505|        ohc|             six|        209|       mpfi|3.62|  3.39|              8.0|       182|    5400|      15|         20|36880|\n",
            "|        2|              121|  chevrolet|      gas|       std|         two|  hatchback|         fwd|          front|      88.4| 141.1| 60.3|  53.2|       1488|          l|           three|         61|       2bbl|2.91|  3.03|              9.5|        48|    5100|      47|         53| 5151|\n",
            "|        1|               98|  chevrolet|      gas|       std|         two|  hatchback|         fwd|          front|      94.5| 155.9| 63.6|  52.0|       1874|        ohc|            four|         90|       2bbl|3.03|  3.11|              9.6|        70|    5400|      38|         43| 6295|\n",
            "+---------+-----------------+-----------+---------+----------+------------+-----------+------------+---------------+----------+------+-----+------+-----------+-----------+----------------+-----------+-----------+----+------+-----------------+----------+--------+--------+-----------+-----+\n",
            "only showing top 20 rows\n",
            "\n"
          ],
          "name": "stdout"
        }
      ]
    },
    {
      "cell_type": "code",
      "metadata": {
        "colab": {
          "base_uri": "https://localhost:8080/"
        },
        "id": "i-YqEh7yNbXw",
        "outputId": "e52410c2-5be4-4aba-8834-a2a52fa966d8"
      },
      "source": [
        "original_df.dtypes"
      ],
      "execution_count": 16,
      "outputs": [
        {
          "output_type": "execute_result",
          "data": {
            "text/plain": [
              "[('symboling', 'int'),\n",
              " ('normalized_losses', 'string'),\n",
              " ('make', 'string'),\n",
              " ('fuel_type', 'string'),\n",
              " ('aspiration', 'string'),\n",
              " ('num_of_doors', 'string'),\n",
              " ('body_style', 'string'),\n",
              " ('drive_wheels', 'string'),\n",
              " ('engine_location', 'string'),\n",
              " ('wheel_base', 'double'),\n",
              " ('length', 'double'),\n",
              " ('width', 'double'),\n",
              " ('height', 'double'),\n",
              " ('curb_weight', 'int'),\n",
              " ('engine_type', 'string'),\n",
              " ('num_of_cylinders', 'string'),\n",
              " ('engine_size', 'int'),\n",
              " ('fuel_system', 'string'),\n",
              " ('bore', 'string'),\n",
              " ('stroke', 'string'),\n",
              " ('compression_ratio', 'double'),\n",
              " ('horsepower', 'string'),\n",
              " ('peak_rpm', 'string'),\n",
              " ('city_mpg', 'int'),\n",
              " ('highway_mpg', 'int'),\n",
              " ('price', 'string')]"
            ]
          },
          "metadata": {
            "tags": []
          },
          "execution_count": 16
        }
      ]
    },
    {
      "cell_type": "code",
      "metadata": {
        "colab": {
          "base_uri": "https://localhost:8080/"
        },
        "id": "ZXhKPo7FNpuv",
        "outputId": "30e47307-4f6f-4f96-f428-3bce503fd441"
      },
      "source": [
        "original_df.describe().show()"
      ],
      "execution_count": 17,
      "outputs": [
        {
          "output_type": "stream",
          "text": [
            "+-------+------------------+-----------------+-----------+---------+----------+------------+-----------+------------+---------------+------------------+------------------+-----------------+------------------+------------------+-----------+----------------+------------------+-----------+------------------+------------------+------------------+------------------+-----------------+-----------------+-----------------+------------------+\n",
            "|summary|         symboling|normalized_losses|       make|fuel_type|aspiration|num_of_doors| body_style|drive_wheels|engine_location|        wheel_base|            length|            width|            height|       curb_weight|engine_type|num_of_cylinders|       engine_size|fuel_system|              bore|            stroke| compression_ratio|        horsepower|         peak_rpm|         city_mpg|      highway_mpg|             price|\n",
            "+-------+------------------+-----------------+-----------+---------+----------+------------+-----------+------------+---------------+------------------+------------------+-----------------+------------------+------------------+-----------+----------------+------------------+-----------+------------------+------------------+------------------+------------------+-----------------+-----------------+-----------------+------------------+\n",
            "|  count|               205|              205|        205|      205|       205|         205|        205|         205|            205|               205|               205|              205|               205|               205|        205|             205|               205|        205|               205|               205|               205|               205|              205|              205|              205|               205|\n",
            "|   mean|0.8341463414634146|            122.0|       null|     null|      null|        null|       null|        null|           null| 98.75658536585378|174.04926829268305|65.90780487804875|53.724878048780525|2555.5658536585365|       null|            null|126.90731707317073|       null|3.3297512437810957|3.2554228855721337|10.142536585365855|104.25615763546799|5125.369458128079|25.21951219512195|30.75121951219512|13207.129353233831|\n",
            "| stddev|1.2453068281055295|35.44216753055326|       null|     null|      null|        null|       null|        null|           null|6.0217756850255695|12.337288526555188|2.145203852687182| 2.443521969904905| 520.6802035016384|       null|            null|41.642693438179855|       null|0.2735387318295989|0.3167174533770312|3.9720403218632985| 39.71436878679357|479.3345598334159| 6.54214165300162|6.886443130941823| 7947.066341939271|\n",
            "|    min|                -2|              101|alfa-romero|   diesel|       std|           ?|convertible|         4wd|          front|              86.6|             141.1|             60.3|              47.8|              1488|       dohc|           eight|                61|       1bbl|              2.54|              2.07|               7.0|               100|             4150|               13|               16|             10198|\n",
            "|    max|                 3|                ?|      volvo|      gas|     turbo|         two|      wagon|         rwd|           rear|             120.9|             208.1|             72.3|              59.8|              4066|      rotor|             two|               326|       spfi|                 ?|                 ?|              23.0|                 ?|                ?|               49|               54|                 ?|\n",
            "+-------+------------------+-----------------+-----------+---------+----------+------------+-----------+------------+---------------+------------------+------------------+-----------------+------------------+------------------+-----------+----------------+------------------+-----------+------------------+------------------+------------------+------------------+-----------------+-----------------+-----------------+------------------+\n",
            "\n"
          ],
          "name": "stdout"
        }
      ]
    },
    {
      "cell_type": "code",
      "metadata": {
        "colab": {
          "base_uri": "https://localhost:8080/"
        },
        "id": "CnRZk015PGrf",
        "outputId": "241d1d41-674b-4b7b-a288-b63dc87b270e"
      },
      "source": [
        "original_df.createOrReplaceTempView(\"table1\")\r\n",
        "spark.sql( \"select * from table1 where price ='?'\").show()"
      ],
      "execution_count": 18,
      "outputs": [
        {
          "output_type": "stream",
          "text": [
            "+---------+-----------------+-------+---------+----------+------------+----------+------------+---------------+----------+------+-----+------+-----------+-----------+----------------+-----------+-----------+----+------+-----------------+----------+--------+--------+-----------+-----+\n",
            "|symboling|normalized_losses|   make|fuel_type|aspiration|num_of_doors|body_style|drive_wheels|engine_location|wheel_base|length|width|height|curb_weight|engine_type|num_of_cylinders|engine_size|fuel_system|bore|stroke|compression_ratio|horsepower|peak_rpm|city_mpg|highway_mpg|price|\n",
            "+---------+-----------------+-------+---------+----------+------------+----------+------------+---------------+----------+------+-----+------+-----------+-----------+----------------+-----------+-----------+----+------+-----------------+----------+--------+--------+-----------+-----+\n",
            "|        0|                ?|   audi|      gas|     turbo|         two| hatchback|         4wd|          front|      99.5| 178.2| 67.9|  52.0|       3053|        ohc|            five|        131|       mpfi|3.13|  3.40|              7.0|       160|    5500|      16|         22|    ?|\n",
            "|        1|                ?|  isuzu|      gas|       std|         two|     sedan|         fwd|          front|      94.5| 155.9| 63.6|  52.0|       1874|        ohc|            four|         90|       2bbl|3.03|  3.11|              9.6|        70|    5400|      38|         43|    ?|\n",
            "|        0|                ?|  isuzu|      gas|       std|        four|     sedan|         fwd|          front|      94.5| 155.9| 63.6|  52.0|       1909|        ohc|            four|         90|       2bbl|3.03|  3.11|              9.6|        70|    5400|      38|         43|    ?|\n",
            "|        1|                ?|porsche|      gas|       std|         two| hatchback|         rwd|          front|      98.4| 175.7| 72.3|  50.5|       3366|      dohcv|           eight|        203|       mpfi|3.94|  3.11|             10.0|       288|    5750|      17|         28|    ?|\n",
            "+---------+-----------------+-------+---------+----------+------------+----------+------------+---------------+----------+------+-----+------+-----------+-----------+----------------+-----------+-----------+----+------+-----------------+----------+--------+--------+-----------+-----+\n",
            "\n"
          ],
          "name": "stdout"
        }
      ]
    },
    {
      "cell_type": "code",
      "metadata": {
        "colab": {
          "base_uri": "https://localhost:8080/"
        },
        "id": "j_NGisejUcOr",
        "outputId": "40b54232-106d-4100-e588-185462ea1b2f"
      },
      "source": [
        "cars_df = spark.sql(\"select * from table1 where price <> '?'\")\r\n",
        "cars_df.show()"
      ],
      "execution_count": 19,
      "outputs": [
        {
          "output_type": "stream",
          "text": [
            "+---------+-----------------+-----------+---------+----------+------------+-----------+------------+---------------+----------+------+-----+------+-----------+-----------+----------------+-----------+-----------+----+------+-----------------+----------+--------+--------+-----------+-----+\n",
            "|symboling|normalized_losses|       make|fuel_type|aspiration|num_of_doors| body_style|drive_wheels|engine_location|wheel_base|length|width|height|curb_weight|engine_type|num_of_cylinders|engine_size|fuel_system|bore|stroke|compression_ratio|horsepower|peak_rpm|city_mpg|highway_mpg|price|\n",
            "+---------+-----------------+-----------+---------+----------+------------+-----------+------------+---------------+----------+------+-----+------+-----------+-----------+----------------+-----------+-----------+----+------+-----------------+----------+--------+--------+-----------+-----+\n",
            "|        3|                ?|alfa-romero|      gas|       std|         two|convertible|         rwd|          front|      88.6| 168.8| 64.1|  48.8|       2548|       dohc|            four|        130|       mpfi|3.47|  2.68|              9.0|       111|    5000|      21|         27|13495|\n",
            "|        3|                ?|alfa-romero|      gas|       std|         two|convertible|         rwd|          front|      88.6| 168.8| 64.1|  48.8|       2548|       dohc|            four|        130|       mpfi|3.47|  2.68|              9.0|       111|    5000|      21|         27|16500|\n",
            "|        1|                ?|alfa-romero|      gas|       std|         two|  hatchback|         rwd|          front|      94.5| 171.2| 65.5|  52.4|       2823|       ohcv|             six|        152|       mpfi|2.68|  3.47|              9.0|       154|    5000|      19|         26|16500|\n",
            "|        2|              164|       audi|      gas|       std|        four|      sedan|         fwd|          front|      99.8| 176.6| 66.2|  54.3|       2337|        ohc|            four|        109|       mpfi|3.19|  3.40|             10.0|       102|    5500|      24|         30|13950|\n",
            "|        2|              164|       audi|      gas|       std|        four|      sedan|         4wd|          front|      99.4| 176.6| 66.4|  54.3|       2824|        ohc|            five|        136|       mpfi|3.19|  3.40|              8.0|       115|    5500|      18|         22|17450|\n",
            "|        2|                ?|       audi|      gas|       std|         two|      sedan|         fwd|          front|      99.8| 177.3| 66.3|  53.1|       2507|        ohc|            five|        136|       mpfi|3.19|  3.40|              8.5|       110|    5500|      19|         25|15250|\n",
            "|        1|              158|       audi|      gas|       std|        four|      sedan|         fwd|          front|     105.8| 192.7| 71.4|  55.7|       2844|        ohc|            five|        136|       mpfi|3.19|  3.40|              8.5|       110|    5500|      19|         25|17710|\n",
            "|        1|                ?|       audi|      gas|       std|        four|      wagon|         fwd|          front|     105.8| 192.7| 71.4|  55.7|       2954|        ohc|            five|        136|       mpfi|3.19|  3.40|              8.5|       110|    5500|      19|         25|18920|\n",
            "|        1|              158|       audi|      gas|     turbo|        four|      sedan|         fwd|          front|     105.8| 192.7| 71.4|  55.9|       3086|        ohc|            five|        131|       mpfi|3.13|  3.40|              8.3|       140|    5500|      17|         20|23875|\n",
            "|        2|              192|        bmw|      gas|       std|         two|      sedan|         rwd|          front|     101.2| 176.8| 64.8|  54.3|       2395|        ohc|            four|        108|       mpfi|3.50|  2.80|              8.8|       101|    5800|      23|         29|16430|\n",
            "|        0|              192|        bmw|      gas|       std|        four|      sedan|         rwd|          front|     101.2| 176.8| 64.8|  54.3|       2395|        ohc|            four|        108|       mpfi|3.50|  2.80|              8.8|       101|    5800|      23|         29|16925|\n",
            "|        0|              188|        bmw|      gas|       std|         two|      sedan|         rwd|          front|     101.2| 176.8| 64.8|  54.3|       2710|        ohc|             six|        164|       mpfi|3.31|  3.19|              9.0|       121|    4250|      21|         28|20970|\n",
            "|        0|              188|        bmw|      gas|       std|        four|      sedan|         rwd|          front|     101.2| 176.8| 64.8|  54.3|       2765|        ohc|             six|        164|       mpfi|3.31|  3.19|              9.0|       121|    4250|      21|         28|21105|\n",
            "|        1|                ?|        bmw|      gas|       std|        four|      sedan|         rwd|          front|     103.5| 189.0| 66.9|  55.7|       3055|        ohc|             six|        164|       mpfi|3.31|  3.19|              9.0|       121|    4250|      20|         25|24565|\n",
            "|        0|                ?|        bmw|      gas|       std|        four|      sedan|         rwd|          front|     103.5| 189.0| 66.9|  55.7|       3230|        ohc|             six|        209|       mpfi|3.62|  3.39|              8.0|       182|    5400|      16|         22|30760|\n",
            "|        0|                ?|        bmw|      gas|       std|         two|      sedan|         rwd|          front|     103.5| 193.8| 67.9|  53.7|       3380|        ohc|             six|        209|       mpfi|3.62|  3.39|              8.0|       182|    5400|      16|         22|41315|\n",
            "|        0|                ?|        bmw|      gas|       std|        four|      sedan|         rwd|          front|     110.0| 197.0| 70.9|  56.3|       3505|        ohc|             six|        209|       mpfi|3.62|  3.39|              8.0|       182|    5400|      15|         20|36880|\n",
            "|        2|              121|  chevrolet|      gas|       std|         two|  hatchback|         fwd|          front|      88.4| 141.1| 60.3|  53.2|       1488|          l|           three|         61|       2bbl|2.91|  3.03|              9.5|        48|    5100|      47|         53| 5151|\n",
            "|        1|               98|  chevrolet|      gas|       std|         two|  hatchback|         fwd|          front|      94.5| 155.9| 63.6|  52.0|       1874|        ohc|            four|         90|       2bbl|3.03|  3.11|              9.6|        70|    5400|      38|         43| 6295|\n",
            "|        0|               81|  chevrolet|      gas|       std|        four|      sedan|         fwd|          front|      94.5| 158.8| 63.6|  52.0|       1909|        ohc|            four|         90|       2bbl|3.03|  3.11|              9.6|        70|    5400|      38|         43| 6575|\n",
            "+---------+-----------------+-----------+---------+----------+------------+-----------+------------+---------------+----------+------+-----+------+-----------+-----------+----------------+-----------+-----------+----+------+-----------------+----------+--------+--------+-----------+-----+\n",
            "only showing top 20 rows\n",
            "\n"
          ],
          "name": "stdout"
        }
      ]
    },
    {
      "cell_type": "code",
      "metadata": {
        "colab": {
          "base_uri": "https://localhost:8080/"
        },
        "id": "Joh9Gr2KVBbR",
        "outputId": "8366e795-e0d0-46cc-8605-21ce6cace2bd"
      },
      "source": [
        "cars_df.columns"
      ],
      "execution_count": 20,
      "outputs": [
        {
          "output_type": "execute_result",
          "data": {
            "text/plain": [
              "['symboling',\n",
              " 'normalized_losses',\n",
              " 'make',\n",
              " 'fuel_type',\n",
              " 'aspiration',\n",
              " 'num_of_doors',\n",
              " 'body_style',\n",
              " 'drive_wheels',\n",
              " 'engine_location',\n",
              " 'wheel_base',\n",
              " 'length',\n",
              " 'width',\n",
              " 'height',\n",
              " 'curb_weight',\n",
              " 'engine_type',\n",
              " 'num_of_cylinders',\n",
              " 'engine_size',\n",
              " 'fuel_system',\n",
              " 'bore',\n",
              " 'stroke',\n",
              " 'compression_ratio',\n",
              " 'horsepower',\n",
              " 'peak_rpm',\n",
              " 'city_mpg',\n",
              " 'highway_mpg',\n",
              " 'price']"
            ]
          },
          "metadata": {
            "tags": []
          },
          "execution_count": 20
        }
      ]
    },
    {
      "cell_type": "markdown",
      "metadata": {
        "id": "z-AsY68qZXrk"
      },
      "source": [
        "to replace missing \"normalized-losses\" with mean, calculate mean then use replace\r\n",
        "convert \"city-mpg\" values to L/100km --the metric version. To transform mpg to L/100km we need to divide 235 by each value in the city-mpg column, rename the column\r\n",
        "incorrect data types for price\r\n"
      ]
    },
    {
      "cell_type": "code",
      "metadata": {
        "id": "nXnj0hHrzL1J"
      },
      "source": [
        ""
      ],
      "execution_count": 20,
      "outputs": []
    },
    {
      "cell_type": "code",
      "metadata": {
        "colab": {
          "base_uri": "https://localhost:8080/"
        },
        "id": "SMK8w3M5Zx1k",
        "outputId": "d3d26e58-395f-4697-d514-02fd1b46b4a3"
      },
      "source": [
        "import numpy as np\r\n",
        "normlosses = spark.sql(\"select normalized_losses from table1  where normalized_losses <> '?'\") \r\n",
        "\r\n",
        "normlosses.show(5)"
      ],
      "execution_count": 21,
      "outputs": [
        {
          "output_type": "stream",
          "text": [
            "+-----------------+\n",
            "|normalized_losses|\n",
            "+-----------------+\n",
            "|              164|\n",
            "|              164|\n",
            "|              158|\n",
            "|              158|\n",
            "|              192|\n",
            "+-----------------+\n",
            "only showing top 5 rows\n",
            "\n"
          ],
          "name": "stdout"
        }
      ]
    },
    {
      "cell_type": "code",
      "metadata": {
        "colab": {
          "base_uri": "https://localhost:8080/"
        },
        "id": "qYh0Hq8IiYw5",
        "outputId": "ead82941-d224-44b4-d9e9-71cd0aea02f3"
      },
      "source": [
        "import numpy as np\r\n",
        "normlosses = [row[0] for row in spark.sql(\"select cast(normalized_losses as integer) from table1  where normalized_losses <> '?'\").collect() ]\r\n",
        "print(normlosses)"
      ],
      "execution_count": 22,
      "outputs": [
        {
          "output_type": "stream",
          "text": [
            "[164, 164, 158, 158, 192, 192, 188, 188, 121, 98, 81, 118, 118, 118, 148, 148, 148, 148, 110, 145, 137, 137, 101, 101, 101, 110, 78, 106, 106, 85, 85, 85, 107, 145, 104, 104, 104, 113, 113, 150, 150, 150, 150, 129, 115, 129, 115, 115, 118, 93, 93, 93, 93, 142, 161, 161, 161, 161, 153, 153, 125, 125, 125, 137, 128, 128, 128, 122, 103, 128, 128, 122, 103, 168, 106, 106, 128, 108, 108, 194, 194, 231, 161, 161, 161, 161, 161, 161, 161, 119, 119, 154, 154, 154, 74, 186, 150, 104, 150, 104, 150, 104, 83, 83, 83, 102, 102, 102, 102, 102, 89, 89, 85, 85, 87, 87, 74, 77, 81, 91, 91, 91, 91, 91, 91, 91, 91, 168, 168, 168, 168, 134, 134, 134, 134, 134, 134, 65, 65, 65, 65, 65, 197, 197, 90, 122, 122, 94, 94, 94, 94, 94, 256, 103, 74, 103, 74, 103, 74, 95, 95, 95, 95, 95]\n"
          ],
          "name": "stdout"
        }
      ]
    },
    {
      "cell_type": "code",
      "metadata": {
        "colab": {
          "base_uri": "https://localhost:8080/"
        },
        "id": "zk-jhPWRbH-M",
        "outputId": "eb9af369-ddf6-46a0-c6c9-ab517c9268e5"
      },
      "source": [
        "\r\n",
        "mean_v = np.mean(normlosses)\r\n",
        "print(mean_v)"
      ],
      "execution_count": 23,
      "outputs": [
        {
          "output_type": "stream",
          "text": [
            "122.0\n"
          ],
          "name": "stdout"
        }
      ]
    },
    {
      "cell_type": "code",
      "metadata": {
        "colab": {
          "base_uri": "https://localhost:8080/"
        },
        "id": "HizNdQMKAdA3",
        "outputId": "cff8c46e-e7a1-46be-faec-3f64533f7145"
      },
      "source": [
        "spark.sql(\"select * from table1 where normalized_losses = '?'\").show()"
      ],
      "execution_count": 24,
      "outputs": [
        {
          "output_type": "stream",
          "text": [
            "+---------+-----------------+-------------+---------+----------+------------+-----------+------------+---------------+----------+------+-----+------+-----------+-----------+----------------+-----------+-----------+----+------+-----------------+----------+--------+--------+-----------+-----+\n",
            "|symboling|normalized_losses|         make|fuel_type|aspiration|num_of_doors| body_style|drive_wheels|engine_location|wheel_base|length|width|height|curb_weight|engine_type|num_of_cylinders|engine_size|fuel_system|bore|stroke|compression_ratio|horsepower|peak_rpm|city_mpg|highway_mpg|price|\n",
            "+---------+-----------------+-------------+---------+----------+------------+-----------+------------+---------------+----------+------+-----+------+-----------+-----------+----------------+-----------+-----------+----+------+-----------------+----------+--------+--------+-----------+-----+\n",
            "|        3|                ?|  alfa-romero|      gas|       std|         two|convertible|         rwd|          front|      88.6| 168.8| 64.1|  48.8|       2548|       dohc|            four|        130|       mpfi|3.47|  2.68|              9.0|       111|    5000|      21|         27|13495|\n",
            "|        3|                ?|  alfa-romero|      gas|       std|         two|convertible|         rwd|          front|      88.6| 168.8| 64.1|  48.8|       2548|       dohc|            four|        130|       mpfi|3.47|  2.68|              9.0|       111|    5000|      21|         27|16500|\n",
            "|        1|                ?|  alfa-romero|      gas|       std|         two|  hatchback|         rwd|          front|      94.5| 171.2| 65.5|  52.4|       2823|       ohcv|             six|        152|       mpfi|2.68|  3.47|              9.0|       154|    5000|      19|         26|16500|\n",
            "|        2|                ?|         audi|      gas|       std|         two|      sedan|         fwd|          front|      99.8| 177.3| 66.3|  53.1|       2507|        ohc|            five|        136|       mpfi|3.19|  3.40|              8.5|       110|    5500|      19|         25|15250|\n",
            "|        1|                ?|         audi|      gas|       std|        four|      wagon|         fwd|          front|     105.8| 192.7| 71.4|  55.7|       2954|        ohc|            five|        136|       mpfi|3.19|  3.40|              8.5|       110|    5500|      19|         25|18920|\n",
            "|        0|                ?|         audi|      gas|     turbo|         two|  hatchback|         4wd|          front|      99.5| 178.2| 67.9|  52.0|       3053|        ohc|            five|        131|       mpfi|3.13|  3.40|              7.0|       160|    5500|      16|         22|    ?|\n",
            "|        1|                ?|          bmw|      gas|       std|        four|      sedan|         rwd|          front|     103.5| 189.0| 66.9|  55.7|       3055|        ohc|             six|        164|       mpfi|3.31|  3.19|              9.0|       121|    4250|      20|         25|24565|\n",
            "|        0|                ?|          bmw|      gas|       std|        four|      sedan|         rwd|          front|     103.5| 189.0| 66.9|  55.7|       3230|        ohc|             six|        209|       mpfi|3.62|  3.39|              8.0|       182|    5400|      16|         22|30760|\n",
            "|        0|                ?|          bmw|      gas|       std|         two|      sedan|         rwd|          front|     103.5| 193.8| 67.9|  53.7|       3380|        ohc|             six|        209|       mpfi|3.62|  3.39|              8.0|       182|    5400|      16|         22|41315|\n",
            "|        0|                ?|          bmw|      gas|       std|        four|      sedan|         rwd|          front|     110.0| 197.0| 70.9|  56.3|       3505|        ohc|             six|        209|       mpfi|3.62|  3.39|              8.0|       182|    5400|      15|         20|36880|\n",
            "|        0|                ?|        isuzu|      gas|       std|        four|      sedan|         rwd|          front|      94.3| 170.7| 61.8|  53.5|       2337|        ohc|            four|        111|       2bbl|3.31|  3.23|              8.5|        78|    4800|      24|         29| 6785|\n",
            "|        1|                ?|        isuzu|      gas|       std|         two|      sedan|         fwd|          front|      94.5| 155.9| 63.6|  52.0|       1874|        ohc|            four|         90|       2bbl|3.03|  3.11|              9.6|        70|    5400|      38|         43|    ?|\n",
            "|        0|                ?|        isuzu|      gas|       std|        four|      sedan|         fwd|          front|      94.5| 155.9| 63.6|  52.0|       1909|        ohc|            four|         90|       2bbl|3.03|  3.11|              9.6|        70|    5400|      38|         43|    ?|\n",
            "|        2|                ?|        isuzu|      gas|       std|         two|  hatchback|         rwd|          front|      96.0| 172.6| 65.2|  51.4|       2734|        ohc|            four|        119|       spfi|3.43|  3.23|              9.2|        90|    5000|      24|         29|11048|\n",
            "|        0|                ?|       jaguar|      gas|       std|        four|      sedan|         rwd|          front|     113.0| 199.6| 69.6|  52.8|       4066|       dohc|             six|        258|       mpfi|3.63|  4.17|              8.1|       176|    4750|      15|         19|35550|\n",
            "|        0|                ?|       jaguar|      gas|       std|         two|      sedan|         rwd|          front|     102.0| 191.7| 70.6|  47.8|       3950|       ohcv|          twelve|        326|       mpfi|3.54|  2.76|             11.5|       262|    5000|      13|         17|36000|\n",
            "|        0|                ?|        mazda|   diesel|       std|           ?|      sedan|         fwd|          front|      98.8| 177.8| 66.5|  55.5|       2443|        ohc|            four|        122|        idi|3.39|  3.39|             22.7|        64|    4650|      36|         42|10795|\n",
            "|        0|                ?|        mazda|   diesel|       std|        four|      sedan|         rwd|          front|     104.9| 175.0| 66.1|  54.4|       2700|        ohc|            four|        134|        idi|3.43|  3.64|             22.0|        72|    4200|      31|         39|18344|\n",
            "|       -1|                ?|mercedes-benz|      gas|       std|        four|      sedan|         rwd|          front|     115.6| 202.6| 71.7|  56.5|       3740|       ohcv|           eight|        234|       mpfi|3.46|  3.10|              8.3|       155|    4750|      16|         18|34184|\n",
            "|        0|                ?|mercedes-benz|      gas|       std|        four|      sedan|         rwd|          front|     120.9| 208.1| 71.7|  56.7|       3900|       ohcv|           eight|        308|       mpfi|3.80|  3.35|              8.0|       184|    4500|      14|         16|40960|\n",
            "+---------+-----------------+-------------+---------+----------+------------+-----------+------------+---------------+----------+------+-----+------+-----------+-----------+----------------+-----------+-----------+----+------+-----------------+----------+--------+--------+-----------+-----+\n",
            "only showing top 20 rows\n",
            "\n"
          ],
          "name": "stdout"
        }
      ]
    },
    {
      "cell_type": "code",
      "metadata": {
        "colab": {
          "base_uri": "https://localhost:8080/"
        },
        "id": "oVTSz9WlzS_6",
        "outputId": "e843c406-f532-4a92-904a-48fea305ab27"
      },
      "source": [
        "import pyspark.sql.functions as sqlfunc\r\n",
        "from pyspark.sql.functions import col, when\r\n",
        "from pyspark.sql.functions import lit\r\n",
        "\r\n",
        "cars_df0 = cars_df.withColumn(\"normalized_losses1\", when(col(\"normalized_losses\") == '?', lit(mean_v)).otherwise(col(\"normalized_losses\")) )\r\n",
        "cars_df0.show()"
      ],
      "execution_count": 25,
      "outputs": [
        {
          "output_type": "stream",
          "text": [
            "+---------+-----------------+-----------+---------+----------+------------+-----------+------------+---------------+----------+------+-----+------+-----------+-----------+----------------+-----------+-----------+----+------+-----------------+----------+--------+--------+-----------+-----+------------------+\n",
            "|symboling|normalized_losses|       make|fuel_type|aspiration|num_of_doors| body_style|drive_wheels|engine_location|wheel_base|length|width|height|curb_weight|engine_type|num_of_cylinders|engine_size|fuel_system|bore|stroke|compression_ratio|horsepower|peak_rpm|city_mpg|highway_mpg|price|normalized_losses1|\n",
            "+---------+-----------------+-----------+---------+----------+------------+-----------+------------+---------------+----------+------+-----+------+-----------+-----------+----------------+-----------+-----------+----+------+-----------------+----------+--------+--------+-----------+-----+------------------+\n",
            "|        3|                ?|alfa-romero|      gas|       std|         two|convertible|         rwd|          front|      88.6| 168.8| 64.1|  48.8|       2548|       dohc|            four|        130|       mpfi|3.47|  2.68|              9.0|       111|    5000|      21|         27|13495|             122.0|\n",
            "|        3|                ?|alfa-romero|      gas|       std|         two|convertible|         rwd|          front|      88.6| 168.8| 64.1|  48.8|       2548|       dohc|            four|        130|       mpfi|3.47|  2.68|              9.0|       111|    5000|      21|         27|16500|             122.0|\n",
            "|        1|                ?|alfa-romero|      gas|       std|         two|  hatchback|         rwd|          front|      94.5| 171.2| 65.5|  52.4|       2823|       ohcv|             six|        152|       mpfi|2.68|  3.47|              9.0|       154|    5000|      19|         26|16500|             122.0|\n",
            "|        2|              164|       audi|      gas|       std|        four|      sedan|         fwd|          front|      99.8| 176.6| 66.2|  54.3|       2337|        ohc|            four|        109|       mpfi|3.19|  3.40|             10.0|       102|    5500|      24|         30|13950|               164|\n",
            "|        2|              164|       audi|      gas|       std|        four|      sedan|         4wd|          front|      99.4| 176.6| 66.4|  54.3|       2824|        ohc|            five|        136|       mpfi|3.19|  3.40|              8.0|       115|    5500|      18|         22|17450|               164|\n",
            "|        2|                ?|       audi|      gas|       std|         two|      sedan|         fwd|          front|      99.8| 177.3| 66.3|  53.1|       2507|        ohc|            five|        136|       mpfi|3.19|  3.40|              8.5|       110|    5500|      19|         25|15250|             122.0|\n",
            "|        1|              158|       audi|      gas|       std|        four|      sedan|         fwd|          front|     105.8| 192.7| 71.4|  55.7|       2844|        ohc|            five|        136|       mpfi|3.19|  3.40|              8.5|       110|    5500|      19|         25|17710|               158|\n",
            "|        1|                ?|       audi|      gas|       std|        four|      wagon|         fwd|          front|     105.8| 192.7| 71.4|  55.7|       2954|        ohc|            five|        136|       mpfi|3.19|  3.40|              8.5|       110|    5500|      19|         25|18920|             122.0|\n",
            "|        1|              158|       audi|      gas|     turbo|        four|      sedan|         fwd|          front|     105.8| 192.7| 71.4|  55.9|       3086|        ohc|            five|        131|       mpfi|3.13|  3.40|              8.3|       140|    5500|      17|         20|23875|               158|\n",
            "|        2|              192|        bmw|      gas|       std|         two|      sedan|         rwd|          front|     101.2| 176.8| 64.8|  54.3|       2395|        ohc|            four|        108|       mpfi|3.50|  2.80|              8.8|       101|    5800|      23|         29|16430|               192|\n",
            "|        0|              192|        bmw|      gas|       std|        four|      sedan|         rwd|          front|     101.2| 176.8| 64.8|  54.3|       2395|        ohc|            four|        108|       mpfi|3.50|  2.80|              8.8|       101|    5800|      23|         29|16925|               192|\n",
            "|        0|              188|        bmw|      gas|       std|         two|      sedan|         rwd|          front|     101.2| 176.8| 64.8|  54.3|       2710|        ohc|             six|        164|       mpfi|3.31|  3.19|              9.0|       121|    4250|      21|         28|20970|               188|\n",
            "|        0|              188|        bmw|      gas|       std|        four|      sedan|         rwd|          front|     101.2| 176.8| 64.8|  54.3|       2765|        ohc|             six|        164|       mpfi|3.31|  3.19|              9.0|       121|    4250|      21|         28|21105|               188|\n",
            "|        1|                ?|        bmw|      gas|       std|        four|      sedan|         rwd|          front|     103.5| 189.0| 66.9|  55.7|       3055|        ohc|             six|        164|       mpfi|3.31|  3.19|              9.0|       121|    4250|      20|         25|24565|             122.0|\n",
            "|        0|                ?|        bmw|      gas|       std|        four|      sedan|         rwd|          front|     103.5| 189.0| 66.9|  55.7|       3230|        ohc|             six|        209|       mpfi|3.62|  3.39|              8.0|       182|    5400|      16|         22|30760|             122.0|\n",
            "|        0|                ?|        bmw|      gas|       std|         two|      sedan|         rwd|          front|     103.5| 193.8| 67.9|  53.7|       3380|        ohc|             six|        209|       mpfi|3.62|  3.39|              8.0|       182|    5400|      16|         22|41315|             122.0|\n",
            "|        0|                ?|        bmw|      gas|       std|        four|      sedan|         rwd|          front|     110.0| 197.0| 70.9|  56.3|       3505|        ohc|             six|        209|       mpfi|3.62|  3.39|              8.0|       182|    5400|      15|         20|36880|             122.0|\n",
            "|        2|              121|  chevrolet|      gas|       std|         two|  hatchback|         fwd|          front|      88.4| 141.1| 60.3|  53.2|       1488|          l|           three|         61|       2bbl|2.91|  3.03|              9.5|        48|    5100|      47|         53| 5151|               121|\n",
            "|        1|               98|  chevrolet|      gas|       std|         two|  hatchback|         fwd|          front|      94.5| 155.9| 63.6|  52.0|       1874|        ohc|            four|         90|       2bbl|3.03|  3.11|              9.6|        70|    5400|      38|         43| 6295|                98|\n",
            "|        0|               81|  chevrolet|      gas|       std|        four|      sedan|         fwd|          front|      94.5| 158.8| 63.6|  52.0|       1909|        ohc|            four|         90|       2bbl|3.03|  3.11|              9.6|        70|    5400|      38|         43| 6575|                81|\n",
            "+---------+-----------------+-----------+---------+----------+------------+-----------+------------+---------------+----------+------+-----+------+-----------+-----------+----------------+-----------+-----------+----+------+-----------------+----------+--------+--------+-----------+-----+------------------+\n",
            "only showing top 20 rows\n",
            "\n"
          ],
          "name": "stdout"
        }
      ]
    },
    {
      "cell_type": "code",
      "metadata": {
        "colab": {
          "base_uri": "https://localhost:8080/"
        },
        "id": "mk9JhGdPvAHH",
        "outputId": "29bf272a-871b-457c-c869-b712b0171584"
      },
      "source": [
        "cars_df1 = cars_df0.withColumn('city_L_100km', 235/cars_df['city_mpg'])\r\n",
        "cars_df2 = cars_df1.withColumn('highway_L_100km', 235 / cars_df1['highway_mpg'])  \r\n",
        "cars_df2.show()"
      ],
      "execution_count": 26,
      "outputs": [
        {
          "output_type": "stream",
          "text": [
            "+---------+-----------------+-----------+---------+----------+------------+-----------+------------+---------------+----------+------+-----+------+-----------+-----------+----------------+-----------+-----------+----+------+-----------------+----------+--------+--------+-----------+-----+------------------+------------------+------------------+\n",
            "|symboling|normalized_losses|       make|fuel_type|aspiration|num_of_doors| body_style|drive_wheels|engine_location|wheel_base|length|width|height|curb_weight|engine_type|num_of_cylinders|engine_size|fuel_system|bore|stroke|compression_ratio|horsepower|peak_rpm|city_mpg|highway_mpg|price|normalized_losses1|      city_L_100km|   highway_L_100km|\n",
            "+---------+-----------------+-----------+---------+----------+------------+-----------+------------+---------------+----------+------+-----+------+-----------+-----------+----------------+-----------+-----------+----+------+-----------------+----------+--------+--------+-----------+-----+------------------+------------------+------------------+\n",
            "|        3|                ?|alfa-romero|      gas|       std|         two|convertible|         rwd|          front|      88.6| 168.8| 64.1|  48.8|       2548|       dohc|            four|        130|       mpfi|3.47|  2.68|              9.0|       111|    5000|      21|         27|13495|             122.0| 11.19047619047619| 8.703703703703704|\n",
            "|        3|                ?|alfa-romero|      gas|       std|         two|convertible|         rwd|          front|      88.6| 168.8| 64.1|  48.8|       2548|       dohc|            four|        130|       mpfi|3.47|  2.68|              9.0|       111|    5000|      21|         27|16500|             122.0| 11.19047619047619| 8.703703703703704|\n",
            "|        1|                ?|alfa-romero|      gas|       std|         two|  hatchback|         rwd|          front|      94.5| 171.2| 65.5|  52.4|       2823|       ohcv|             six|        152|       mpfi|2.68|  3.47|              9.0|       154|    5000|      19|         26|16500|             122.0|12.368421052631579| 9.038461538461538|\n",
            "|        2|              164|       audi|      gas|       std|        four|      sedan|         fwd|          front|      99.8| 176.6| 66.2|  54.3|       2337|        ohc|            four|        109|       mpfi|3.19|  3.40|             10.0|       102|    5500|      24|         30|13950|               164| 9.791666666666666| 7.833333333333333|\n",
            "|        2|              164|       audi|      gas|       std|        four|      sedan|         4wd|          front|      99.4| 176.6| 66.4|  54.3|       2824|        ohc|            five|        136|       mpfi|3.19|  3.40|              8.0|       115|    5500|      18|         22|17450|               164|13.055555555555555|10.681818181818182|\n",
            "|        2|                ?|       audi|      gas|       std|         two|      sedan|         fwd|          front|      99.8| 177.3| 66.3|  53.1|       2507|        ohc|            five|        136|       mpfi|3.19|  3.40|              8.5|       110|    5500|      19|         25|15250|             122.0|12.368421052631579|               9.4|\n",
            "|        1|              158|       audi|      gas|       std|        four|      sedan|         fwd|          front|     105.8| 192.7| 71.4|  55.7|       2844|        ohc|            five|        136|       mpfi|3.19|  3.40|              8.5|       110|    5500|      19|         25|17710|               158|12.368421052631579|               9.4|\n",
            "|        1|                ?|       audi|      gas|       std|        four|      wagon|         fwd|          front|     105.8| 192.7| 71.4|  55.7|       2954|        ohc|            five|        136|       mpfi|3.19|  3.40|              8.5|       110|    5500|      19|         25|18920|             122.0|12.368421052631579|               9.4|\n",
            "|        1|              158|       audi|      gas|     turbo|        four|      sedan|         fwd|          front|     105.8| 192.7| 71.4|  55.9|       3086|        ohc|            five|        131|       mpfi|3.13|  3.40|              8.3|       140|    5500|      17|         20|23875|               158|13.823529411764707|             11.75|\n",
            "|        2|              192|        bmw|      gas|       std|         two|      sedan|         rwd|          front|     101.2| 176.8| 64.8|  54.3|       2395|        ohc|            four|        108|       mpfi|3.50|  2.80|              8.8|       101|    5800|      23|         29|16430|               192|10.217391304347826|  8.10344827586207|\n",
            "|        0|              192|        bmw|      gas|       std|        four|      sedan|         rwd|          front|     101.2| 176.8| 64.8|  54.3|       2395|        ohc|            four|        108|       mpfi|3.50|  2.80|              8.8|       101|    5800|      23|         29|16925|               192|10.217391304347826|  8.10344827586207|\n",
            "|        0|              188|        bmw|      gas|       std|         two|      sedan|         rwd|          front|     101.2| 176.8| 64.8|  54.3|       2710|        ohc|             six|        164|       mpfi|3.31|  3.19|              9.0|       121|    4250|      21|         28|20970|               188| 11.19047619047619| 8.392857142857142|\n",
            "|        0|              188|        bmw|      gas|       std|        four|      sedan|         rwd|          front|     101.2| 176.8| 64.8|  54.3|       2765|        ohc|             six|        164|       mpfi|3.31|  3.19|              9.0|       121|    4250|      21|         28|21105|               188| 11.19047619047619| 8.392857142857142|\n",
            "|        1|                ?|        bmw|      gas|       std|        four|      sedan|         rwd|          front|     103.5| 189.0| 66.9|  55.7|       3055|        ohc|             six|        164|       mpfi|3.31|  3.19|              9.0|       121|    4250|      20|         25|24565|             122.0|             11.75|               9.4|\n",
            "|        0|                ?|        bmw|      gas|       std|        four|      sedan|         rwd|          front|     103.5| 189.0| 66.9|  55.7|       3230|        ohc|             six|        209|       mpfi|3.62|  3.39|              8.0|       182|    5400|      16|         22|30760|             122.0|           14.6875|10.681818181818182|\n",
            "|        0|                ?|        bmw|      gas|       std|         two|      sedan|         rwd|          front|     103.5| 193.8| 67.9|  53.7|       3380|        ohc|             six|        209|       mpfi|3.62|  3.39|              8.0|       182|    5400|      16|         22|41315|             122.0|           14.6875|10.681818181818182|\n",
            "|        0|                ?|        bmw|      gas|       std|        four|      sedan|         rwd|          front|     110.0| 197.0| 70.9|  56.3|       3505|        ohc|             six|        209|       mpfi|3.62|  3.39|              8.0|       182|    5400|      15|         20|36880|             122.0|15.666666666666666|             11.75|\n",
            "|        2|              121|  chevrolet|      gas|       std|         two|  hatchback|         fwd|          front|      88.4| 141.1| 60.3|  53.2|       1488|          l|           three|         61|       2bbl|2.91|  3.03|              9.5|        48|    5100|      47|         53| 5151|               121|               5.0| 4.433962264150943|\n",
            "|        1|               98|  chevrolet|      gas|       std|         two|  hatchback|         fwd|          front|      94.5| 155.9| 63.6|  52.0|       1874|        ohc|            four|         90|       2bbl|3.03|  3.11|              9.6|        70|    5400|      38|         43| 6295|                98| 6.184210526315789| 5.465116279069767|\n",
            "|        0|               81|  chevrolet|      gas|       std|        four|      sedan|         fwd|          front|      94.5| 158.8| 63.6|  52.0|       1909|        ohc|            four|         90|       2bbl|3.03|  3.11|              9.6|        70|    5400|      38|         43| 6575|                81| 6.184210526315789| 5.465116279069767|\n",
            "+---------+-----------------+-----------+---------+----------+------------+-----------+------------+---------------+----------+------+-----+------+-----------+-----------+----------------+-----------+-----------+----+------+-----------------+----------+--------+--------+-----------+-----+------------------+------------------+------------------+\n",
            "only showing top 20 rows\n",
            "\n"
          ],
          "name": "stdout"
        }
      ]
    },
    {
      "cell_type": "code",
      "metadata": {
        "colab": {
          "base_uri": "https://localhost:8080/"
        },
        "id": "2AhKCHZDGgZp",
        "outputId": "e3b338f6-4162-4249-afc2-077d0d5da5bb"
      },
      "source": [
        "cars_df2.printSchema()"
      ],
      "execution_count": 27,
      "outputs": [
        {
          "output_type": "stream",
          "text": [
            "root\n",
            " |-- symboling: integer (nullable = true)\n",
            " |-- normalized_losses: string (nullable = true)\n",
            " |-- make: string (nullable = true)\n",
            " |-- fuel_type: string (nullable = true)\n",
            " |-- aspiration: string (nullable = true)\n",
            " |-- num_of_doors: string (nullable = true)\n",
            " |-- body_style: string (nullable = true)\n",
            " |-- drive_wheels: string (nullable = true)\n",
            " |-- engine_location: string (nullable = true)\n",
            " |-- wheel_base: double (nullable = true)\n",
            " |-- length: double (nullable = true)\n",
            " |-- width: double (nullable = true)\n",
            " |-- height: double (nullable = true)\n",
            " |-- curb_weight: integer (nullable = true)\n",
            " |-- engine_type: string (nullable = true)\n",
            " |-- num_of_cylinders: string (nullable = true)\n",
            " |-- engine_size: integer (nullable = true)\n",
            " |-- fuel_system: string (nullable = true)\n",
            " |-- bore: string (nullable = true)\n",
            " |-- stroke: string (nullable = true)\n",
            " |-- compression_ratio: double (nullable = true)\n",
            " |-- horsepower: string (nullable = true)\n",
            " |-- peak_rpm: string (nullable = true)\n",
            " |-- city_mpg: integer (nullable = true)\n",
            " |-- highway_mpg: integer (nullable = true)\n",
            " |-- price: string (nullable = true)\n",
            " |-- normalized_losses1: string (nullable = true)\n",
            " |-- city_L_100km: double (nullable = true)\n",
            " |-- highway_L_100km: double (nullable = true)\n",
            "\n"
          ],
          "name": "stdout"
        }
      ]
    },
    {
      "cell_type": "markdown",
      "metadata": {
        "id": "o6XcCyboH3lr"
      },
      "source": [
        "Methods to normalize data; 1) Simple feature scaling == just divides each value by the maximum for that feature This makes new values range between o and 1 2)The second method, called “Min-Max”, takes each value, X_old, subtracted from the minimum value of that feature, then divides by the range of that feature. Again, the resulting new values range between 0 and 1. 3)The third method is called “z-score” or “standard score”. In this formula, for each value, you subtract the Mu which is the average of the feature, and then divide by the standard deviation (sigma). The resulting values hover around 0, and typically range between -3 and +3, but can be higher or lower."
      ]
    },
    {
      "cell_type": "code",
      "metadata": {
        "id": "BKG5ep1vGpwM"
      },
      "source": [
        ""
      ],
      "execution_count": 27,
      "outputs": []
    },
    {
      "cell_type": "code",
      "metadata": {
        "colab": {
          "base_uri": "https://localhost:8080/"
        },
        "id": "1Mt0ahdjX8e5",
        "outputId": "f844cfb1-21d9-4e43-8921-2d7b40a35685"
      },
      "source": [
        "cars_df2.createOrReplaceTempView(\"table2\")\r\n",
        "#spark.sql(\"select * from table2\").show()\r\n",
        "cars_fnl_df = spark.sql(\"\"\"select symboling, \\\r\n",
        " normalized_losses1 as normalized_losses, \\\r\n",
        " make,\\\r\n",
        " fuel_type,\\\r\n",
        " aspiration,\\\r\n",
        " num_of_doors,\\\r\n",
        " body_style,\\\r\n",
        " drive_wheels,\\\r\n",
        " engine_location,\\\r\n",
        " wheel_base,\\\r\n",
        " length,\\\r\n",
        " width,\\\r\n",
        " height,\\\r\n",
        " curb_weight,\\\r\n",
        " engine_type,\\\r\n",
        " num_of_cylinders,\\\r\n",
        " engine_size,\\\r\n",
        " fuel_system,\\\r\n",
        " bore,\\\r\n",
        " stroke,\\\r\n",
        " compression_ratio,\\\r\n",
        " horsepower,\\\r\n",
        " peak_rpm,\\\r\n",
        " city_L_100km,\\\r\n",
        " highway_L_100km,\\\r\n",
        " cast(price as integer) from table2 \"\"\")\r\n",
        "cars_fnl_df.show()"
      ],
      "execution_count": 28,
      "outputs": [
        {
          "output_type": "stream",
          "text": [
            "+---------+-----------------+-----------+---------+----------+------------+-----------+------------+---------------+----------+------+-----+------+-----------+-----------+----------------+-----------+-----------+----+------+-----------------+----------+--------+------------------+------------------+-----+\n",
            "|symboling|normalized_losses|       make|fuel_type|aspiration|num_of_doors| body_style|drive_wheels|engine_location|wheel_base|length|width|height|curb_weight|engine_type|num_of_cylinders|engine_size|fuel_system|bore|stroke|compression_ratio|horsepower|peak_rpm|      city_L_100km|   highway_L_100km|price|\n",
            "+---------+-----------------+-----------+---------+----------+------------+-----------+------------+---------------+----------+------+-----+------+-----------+-----------+----------------+-----------+-----------+----+------+-----------------+----------+--------+------------------+------------------+-----+\n",
            "|        3|            122.0|alfa-romero|      gas|       std|         two|convertible|         rwd|          front|      88.6| 168.8| 64.1|  48.8|       2548|       dohc|            four|        130|       mpfi|3.47|  2.68|              9.0|       111|    5000| 11.19047619047619| 8.703703703703704|13495|\n",
            "|        3|            122.0|alfa-romero|      gas|       std|         two|convertible|         rwd|          front|      88.6| 168.8| 64.1|  48.8|       2548|       dohc|            four|        130|       mpfi|3.47|  2.68|              9.0|       111|    5000| 11.19047619047619| 8.703703703703704|16500|\n",
            "|        1|            122.0|alfa-romero|      gas|       std|         two|  hatchback|         rwd|          front|      94.5| 171.2| 65.5|  52.4|       2823|       ohcv|             six|        152|       mpfi|2.68|  3.47|              9.0|       154|    5000|12.368421052631579| 9.038461538461538|16500|\n",
            "|        2|              164|       audi|      gas|       std|        four|      sedan|         fwd|          front|      99.8| 176.6| 66.2|  54.3|       2337|        ohc|            four|        109|       mpfi|3.19|  3.40|             10.0|       102|    5500| 9.791666666666666| 7.833333333333333|13950|\n",
            "|        2|              164|       audi|      gas|       std|        four|      sedan|         4wd|          front|      99.4| 176.6| 66.4|  54.3|       2824|        ohc|            five|        136|       mpfi|3.19|  3.40|              8.0|       115|    5500|13.055555555555555|10.681818181818182|17450|\n",
            "|        2|            122.0|       audi|      gas|       std|         two|      sedan|         fwd|          front|      99.8| 177.3| 66.3|  53.1|       2507|        ohc|            five|        136|       mpfi|3.19|  3.40|              8.5|       110|    5500|12.368421052631579|               9.4|15250|\n",
            "|        1|              158|       audi|      gas|       std|        four|      sedan|         fwd|          front|     105.8| 192.7| 71.4|  55.7|       2844|        ohc|            five|        136|       mpfi|3.19|  3.40|              8.5|       110|    5500|12.368421052631579|               9.4|17710|\n",
            "|        1|            122.0|       audi|      gas|       std|        four|      wagon|         fwd|          front|     105.8| 192.7| 71.4|  55.7|       2954|        ohc|            five|        136|       mpfi|3.19|  3.40|              8.5|       110|    5500|12.368421052631579|               9.4|18920|\n",
            "|        1|              158|       audi|      gas|     turbo|        four|      sedan|         fwd|          front|     105.8| 192.7| 71.4|  55.9|       3086|        ohc|            five|        131|       mpfi|3.13|  3.40|              8.3|       140|    5500|13.823529411764707|             11.75|23875|\n",
            "|        2|              192|        bmw|      gas|       std|         two|      sedan|         rwd|          front|     101.2| 176.8| 64.8|  54.3|       2395|        ohc|            four|        108|       mpfi|3.50|  2.80|              8.8|       101|    5800|10.217391304347826|  8.10344827586207|16430|\n",
            "|        0|              192|        bmw|      gas|       std|        four|      sedan|         rwd|          front|     101.2| 176.8| 64.8|  54.3|       2395|        ohc|            four|        108|       mpfi|3.50|  2.80|              8.8|       101|    5800|10.217391304347826|  8.10344827586207|16925|\n",
            "|        0|              188|        bmw|      gas|       std|         two|      sedan|         rwd|          front|     101.2| 176.8| 64.8|  54.3|       2710|        ohc|             six|        164|       mpfi|3.31|  3.19|              9.0|       121|    4250| 11.19047619047619| 8.392857142857142|20970|\n",
            "|        0|              188|        bmw|      gas|       std|        four|      sedan|         rwd|          front|     101.2| 176.8| 64.8|  54.3|       2765|        ohc|             six|        164|       mpfi|3.31|  3.19|              9.0|       121|    4250| 11.19047619047619| 8.392857142857142|21105|\n",
            "|        1|            122.0|        bmw|      gas|       std|        four|      sedan|         rwd|          front|     103.5| 189.0| 66.9|  55.7|       3055|        ohc|             six|        164|       mpfi|3.31|  3.19|              9.0|       121|    4250|             11.75|               9.4|24565|\n",
            "|        0|            122.0|        bmw|      gas|       std|        four|      sedan|         rwd|          front|     103.5| 189.0| 66.9|  55.7|       3230|        ohc|             six|        209|       mpfi|3.62|  3.39|              8.0|       182|    5400|           14.6875|10.681818181818182|30760|\n",
            "|        0|            122.0|        bmw|      gas|       std|         two|      sedan|         rwd|          front|     103.5| 193.8| 67.9|  53.7|       3380|        ohc|             six|        209|       mpfi|3.62|  3.39|              8.0|       182|    5400|           14.6875|10.681818181818182|41315|\n",
            "|        0|            122.0|        bmw|      gas|       std|        four|      sedan|         rwd|          front|     110.0| 197.0| 70.9|  56.3|       3505|        ohc|             six|        209|       mpfi|3.62|  3.39|              8.0|       182|    5400|15.666666666666666|             11.75|36880|\n",
            "|        2|              121|  chevrolet|      gas|       std|         two|  hatchback|         fwd|          front|      88.4| 141.1| 60.3|  53.2|       1488|          l|           three|         61|       2bbl|2.91|  3.03|              9.5|        48|    5100|               5.0| 4.433962264150943| 5151|\n",
            "|        1|               98|  chevrolet|      gas|       std|         two|  hatchback|         fwd|          front|      94.5| 155.9| 63.6|  52.0|       1874|        ohc|            four|         90|       2bbl|3.03|  3.11|              9.6|        70|    5400| 6.184210526315789| 5.465116279069767| 6295|\n",
            "|        0|               81|  chevrolet|      gas|       std|        four|      sedan|         fwd|          front|      94.5| 158.8| 63.6|  52.0|       1909|        ohc|            four|         90|       2bbl|3.03|  3.11|              9.6|        70|    5400| 6.184210526315789| 5.465116279069767| 6575|\n",
            "+---------+-----------------+-----------+---------+----------+------------+-----------+------------+---------------+----------+------+-----+------+-----------+-----------+----------------+-----------+-----------+----+------+-----------------+----------+--------+------------------+------------------+-----+\n",
            "only showing top 20 rows\n",
            "\n"
          ],
          "name": "stdout"
        }
      ]
    },
    {
      "cell_type": "code",
      "metadata": {
        "id": "3kwfnzViEtVW"
      },
      "source": [
        "#categirical variables\r\n"
      ],
      "execution_count": 29,
      "outputs": []
    },
    {
      "cell_type": "code",
      "metadata": {
        "id": "JyWBrICau8Eu",
        "colab": {
          "base_uri": "https://localhost:8080/",
          "height": 265
        },
        "outputId": "894d83c8-976a-4e05-f2bc-5ee7d7549760"
      },
      "source": [
        "import seaborn as sns\r\n",
        "import matplotlib.pyplot as plt\r\n",
        "pd_fnl_df = cars_fnl_df.toPandas()\r\n",
        "boxplot = pd_fnl_df.boxplot(column='price')\r\n",
        "#plt.show()"
      ],
      "execution_count": 30,
      "outputs": [
        {
          "output_type": "display_data",
          "data": {
            "image/png": "[encoded data removed]",
            "text/plain": [
              "<Figure size 432x288 with 1 Axes>"
            ]
          },
          "metadata": {
            "tags": [],
            "needs_background": "light"
          }
        }
      ]
    },
    {
      "cell_type": "code",
      "metadata": {
        "id": "u8vBs7WOk0PB",
        "colab": {
          "base_uri": "https://localhost:8080/",
          "height": 356
        },
        "outputId": "28e9b922-5c7e-40a5-f364-4cd574537227"
      },
      "source": [
        "boxplot= pd_fnl_df.boxplot(column='price', by='drive_wheels')"
      ],
      "execution_count": 31,
      "outputs": [
        {
          "output_type": "stream",
          "text": [
            "/usr/local/lib/python3.7/dist-packages/numpy/core/_asarray.py:83: VisibleDeprecationWarning: Creating an ndarray from ragged nested sequences (which is a list-or-tuple of lists-or-tuples-or ndarrays with different lengths or shapes) is deprecated. If you meant to do this, you must specify 'dtype=object' when creating the ndarray\n",
            "  return array(a, dtype, copy=False, order=order)\n"
          ],
          "name": "stderr"
        },
        {
          "output_type": "display_data",
          "data": {
            "image/png": "[encoded data removed]",
            "text/plain": [
              "<Figure size 432x288 with 1 Axes>"
            ]
          },
          "metadata": {
            "tags": [],
            "needs_background": "light"
          }
        }
      ]
    },
    {
      "cell_type": "code",
      "metadata": {
        "colab": {
          "base_uri": "https://localhost:8080/",
          "height": 281
        },
        "id": "qfbVx0yQEboq",
        "outputId": "d910a6f8-6207-483d-a4c2-80ac419129a4"
      },
      "source": [
        "data = pd_fnl_df['price']\r\n",
        "fig1,ax1 = plt.subplots()\r\n",
        "ax1.set_title('Boxplot by price' )\r\n",
        "ax1.boxplot(data)\r\n",
        "plt.show()"
      ],
      "execution_count": 32,
      "outputs": [
        {
          "output_type": "display_data",
          "data": {
            "image/png": "[encoded data removed]",
            "text/plain": [
              "<Figure size 432x288 with 1 Axes>"
            ]
          },
          "metadata": {
            "tags": [],
            "needs_background": "light"
          }
        }
      ]
    },
    {
      "cell_type": "code",
      "metadata": {
        "colab": {
          "base_uri": "https://localhost:8080/",
          "height": 111
        },
        "id": "7f7LrxnMcfwe",
        "outputId": "2c005df1-c585-4c56-afb9-994e72a53e32"
      },
      "source": [
        "df_corr = pd_fnl_df[[\"engine_size\",\"price\"]]\r\n",
        "df_corr.corr()"
      ],
      "execution_count": 33,
      "outputs": [
        {
          "output_type": "execute_result",
          "data": {
            "text/html": [
              "<div>\n",
              "<style scoped>\n",
              "    .dataframe tbody tr th:only-of-type {\n",
              "        vertical-align: middle;\n",
              "    }\n",
              "\n",
              "    .dataframe tbody tr th {\n",
              "        vertical-align: top;\n",
              "    }\n",
              "\n",
              "    .dataframe thead th {\n",
              "        text-align: right;\n",
              "    }\n",
              "</style>\n",
              "<table border=\"1\" class=\"dataframe\">\n",
              "  <thead>\n",
              "    <tr style=\"text-align: right;\">\n",
              "      <th></th>\n",
              "      <th>engine_size</th>\n",
              "      <th>price</th>\n",
              "    </tr>\n",
              "  </thead>\n",
              "  <tbody>\n",
              "    <tr>\n",
              "      <th>engine_size</th>\n",
              "      <td>1.000000</td>\n",
              "      <td>0.872335</td>\n",
              "    </tr>\n",
              "    <tr>\n",
              "      <th>price</th>\n",
              "      <td>0.872335</td>\n",
              "      <td>1.000000</td>\n",
              "    </tr>\n",
              "  </tbody>\n",
              "</table>\n",
              "</div>"
            ],
            "text/plain": [
              "             engine_size     price\n",
              "engine_size     1.000000  0.872335\n",
              "price           0.872335  1.000000"
            ]
          },
          "metadata": {
            "tags": []
          },
          "execution_count": 33
        }
      ]
    },
    {
      "cell_type": "code",
      "metadata": {
        "colab": {
          "base_uri": "https://localhost:8080/",
          "height": 297
        },
        "id": "_kprE3bDc6qg",
        "outputId": "278adb5f-b0e1-41c6-9718-ee2f1ce92589"
      },
      "source": [
        "sns.regplot(x=\"engine_size\", y=\"price\", data = df_corr)\r\n",
        "plt.ylim(0,)"
      ],
      "execution_count": 34,
      "outputs": [
        {
          "output_type": "execute_result",
          "data": {
            "text/plain": [
              "(0.0, 53112.962596984005)"
            ]
          },
          "metadata": {
            "tags": []
          },
          "execution_count": 34
        },
        {
          "output_type": "display_data",
          "data": {
            "image/png": "[encoded data removed]",
            "text/plain": [
              "<Figure size 432x288 with 1 Axes>"
            ]
          },
          "metadata": {
            "tags": [],
            "needs_background": "light"
          }
        }
      ]
    },
    {
      "cell_type": "code",
      "metadata": {
        "colab": {
          "base_uri": "https://localhost:8080/"
        },
        "id": "Z338JdW4dvKl",
        "outputId": "94269435-0b3e-4f2b-c511-f0274f5f32fe"
      },
      "source": [
        "\r\n",
        "\r\n",
        "result = cars_df.printSchema()"
      ],
      "execution_count": 35,
      "outputs": [
        {
          "output_type": "stream",
          "text": [
            "root\n",
            " |-- symboling: integer (nullable = true)\n",
            " |-- normalized_losses: string (nullable = true)\n",
            " |-- make: string (nullable = true)\n",
            " |-- fuel_type: string (nullable = true)\n",
            " |-- aspiration: string (nullable = true)\n",
            " |-- num_of_doors: string (nullable = true)\n",
            " |-- body_style: string (nullable = true)\n",
            " |-- drive_wheels: string (nullable = true)\n",
            " |-- engine_location: string (nullable = true)\n",
            " |-- wheel_base: double (nullable = true)\n",
            " |-- length: double (nullable = true)\n",
            " |-- width: double (nullable = true)\n",
            " |-- height: double (nullable = true)\n",
            " |-- curb_weight: integer (nullable = true)\n",
            " |-- engine_type: string (nullable = true)\n",
            " |-- num_of_cylinders: string (nullable = true)\n",
            " |-- engine_size: integer (nullable = true)\n",
            " |-- fuel_system: string (nullable = true)\n",
            " |-- bore: string (nullable = true)\n",
            " |-- stroke: string (nullable = true)\n",
            " |-- compression_ratio: double (nullable = true)\n",
            " |-- horsepower: string (nullable = true)\n",
            " |-- peak_rpm: string (nullable = true)\n",
            " |-- city_mpg: integer (nullable = true)\n",
            " |-- highway_mpg: integer (nullable = true)\n",
            " |-- price: string (nullable = true)\n",
            "\n"
          ],
          "name": "stdout"
        }
      ]
    },
    {
      "cell_type": "code",
      "metadata": {
        "colab": {
          "base_uri": "https://localhost:8080/"
        },
        "id": "f-5h3na03B4r",
        "outputId": "8cc540ed-5d19-4b84-c22c-73919753c3be"
      },
      "source": [
        "cars_df.createOrReplaceTempView(\"table3\")\r\n",
        "#spark.sql(\"select * from table3\").show()\r\n",
        "cars_fnl_df1 = spark.sql(\"\"\"select symboling, \\\r\n",
        " normalized_losses, \\\r\n",
        " make,\\\r\n",
        " fuel_type,\\\r\n",
        " aspiration,\\\r\n",
        " num_of_doors,\\\r\n",
        " body_style,\\\r\n",
        " drive_wheels,\\\r\n",
        " engine_location,\\\r\n",
        " wheel_base,\\\r\n",
        " length,\\\r\n",
        " width,\\\r\n",
        " height,\\\r\n",
        " curb_weight,\\\r\n",
        " engine_type,\\\r\n",
        " num_of_cylinders,\\\r\n",
        " engine_size,\\\r\n",
        " fuel_system,\\\r\n",
        " bore,\\\r\n",
        " stroke,\\\r\n",
        " compression_ratio,\\\r\n",
        " horsepower,\\\r\n",
        " peak_rpm,\\\r\n",
        " city_mpg,\\\r\n",
        " highway_mpg,\\\r\n",
        " cast(price as integer) from table3 \"\"\")\r\n",
        "cars_fnl_df1.show()"
      ],
      "execution_count": 41,
      "outputs": [
        {
          "output_type": "stream",
          "text": [
            "+---------+-----------------+-----------+---------+----------+------------+-----------+------------+---------------+----------+------+-----+------+-----------+-----------+----------------+-----------+-----------+----+------+-----------------+----------+--------+--------+-----------+-----+\n",
            "|symboling|normalized_losses|       make|fuel_type|aspiration|num_of_doors| body_style|drive_wheels|engine_location|wheel_base|length|width|height|curb_weight|engine_type|num_of_cylinders|engine_size|fuel_system|bore|stroke|compression_ratio|horsepower|peak_rpm|city_mpg|highway_mpg|price|\n",
            "+---------+-----------------+-----------+---------+----------+------------+-----------+------------+---------------+----------+------+-----+------+-----------+-----------+----------------+-----------+-----------+----+------+-----------------+----------+--------+--------+-----------+-----+\n",
            "|        3|                ?|alfa-romero|      gas|       std|         two|convertible|         rwd|          front|      88.6| 168.8| 64.1|  48.8|       2548|       dohc|            four|        130|       mpfi|3.47|  2.68|              9.0|       111|    5000|      21|         27|13495|\n",
            "|        3|                ?|alfa-romero|      gas|       std|         two|convertible|         rwd|          front|      88.6| 168.8| 64.1|  48.8|       2548|       dohc|            four|        130|       mpfi|3.47|  2.68|              9.0|       111|    5000|      21|         27|16500|\n",
            "|        1|                ?|alfa-romero|      gas|       std|         two|  hatchback|         rwd|          front|      94.5| 171.2| 65.5|  52.4|       2823|       ohcv|             six|        152|       mpfi|2.68|  3.47|              9.0|       154|    5000|      19|         26|16500|\n",
            "|        2|              164|       audi|      gas|       std|        four|      sedan|         fwd|          front|      99.8| 176.6| 66.2|  54.3|       2337|        ohc|            four|        109|       mpfi|3.19|  3.40|             10.0|       102|    5500|      24|         30|13950|\n",
            "|        2|              164|       audi|      gas|       std|        four|      sedan|         4wd|          front|      99.4| 176.6| 66.4|  54.3|       2824|        ohc|            five|        136|       mpfi|3.19|  3.40|              8.0|       115|    5500|      18|         22|17450|\n",
            "|        2|                ?|       audi|      gas|       std|         two|      sedan|         fwd|          front|      99.8| 177.3| 66.3|  53.1|       2507|        ohc|            five|        136|       mpfi|3.19|  3.40|              8.5|       110|    5500|      19|         25|15250|\n",
            "|        1|              158|       audi|      gas|       std|        four|      sedan|         fwd|          front|     105.8| 192.7| 71.4|  55.7|       2844|        ohc|            five|        136|       mpfi|3.19|  3.40|              8.5|       110|    5500|      19|         25|17710|\n",
            "|        1|                ?|       audi|      gas|       std|        four|      wagon|         fwd|          front|     105.8| 192.7| 71.4|  55.7|       2954|        ohc|            five|        136|       mpfi|3.19|  3.40|              8.5|       110|    5500|      19|         25|18920|\n",
            "|        1|              158|       audi|      gas|     turbo|        four|      sedan|         fwd|          front|     105.8| 192.7| 71.4|  55.9|       3086|        ohc|            five|        131|       mpfi|3.13|  3.40|              8.3|       140|    5500|      17|         20|23875|\n",
            "|        2|              192|        bmw|      gas|       std|         two|      sedan|         rwd|          front|     101.2| 176.8| 64.8|  54.3|       2395|        ohc|            four|        108|       mpfi|3.50|  2.80|              8.8|       101|    5800|      23|         29|16430|\n",
            "|        0|              192|        bmw|      gas|       std|        four|      sedan|         rwd|          front|     101.2| 176.8| 64.8|  54.3|       2395|        ohc|            four|        108|       mpfi|3.50|  2.80|              8.8|       101|    5800|      23|         29|16925|\n",
            "|        0|              188|        bmw|      gas|       std|         two|      sedan|         rwd|          front|     101.2| 176.8| 64.8|  54.3|       2710|        ohc|             six|        164|       mpfi|3.31|  3.19|              9.0|       121|    4250|      21|         28|20970|\n",
            "|        0|              188|        bmw|      gas|       std|        four|      sedan|         rwd|          front|     101.2| 176.8| 64.8|  54.3|       2765|        ohc|             six|        164|       mpfi|3.31|  3.19|              9.0|       121|    4250|      21|         28|21105|\n",
            "|        1|                ?|        bmw|      gas|       std|        four|      sedan|         rwd|          front|     103.5| 189.0| 66.9|  55.7|       3055|        ohc|             six|        164|       mpfi|3.31|  3.19|              9.0|       121|    4250|      20|         25|24565|\n",
            "|        0|                ?|        bmw|      gas|       std|        four|      sedan|         rwd|          front|     103.5| 189.0| 66.9|  55.7|       3230|        ohc|             six|        209|       mpfi|3.62|  3.39|              8.0|       182|    5400|      16|         22|30760|\n",
            "|        0|                ?|        bmw|      gas|       std|         two|      sedan|         rwd|          front|     103.5| 193.8| 67.9|  53.7|       3380|        ohc|             six|        209|       mpfi|3.62|  3.39|              8.0|       182|    5400|      16|         22|41315|\n",
            "|        0|                ?|        bmw|      gas|       std|        four|      sedan|         rwd|          front|     110.0| 197.0| 70.9|  56.3|       3505|        ohc|             six|        209|       mpfi|3.62|  3.39|              8.0|       182|    5400|      15|         20|36880|\n",
            "|        2|              121|  chevrolet|      gas|       std|         two|  hatchback|         fwd|          front|      88.4| 141.1| 60.3|  53.2|       1488|          l|           three|         61|       2bbl|2.91|  3.03|              9.5|        48|    5100|      47|         53| 5151|\n",
            "|        1|               98|  chevrolet|      gas|       std|         two|  hatchback|         fwd|          front|      94.5| 155.9| 63.6|  52.0|       1874|        ohc|            four|         90|       2bbl|3.03|  3.11|              9.6|        70|    5400|      38|         43| 6295|\n",
            "|        0|               81|  chevrolet|      gas|       std|        four|      sedan|         fwd|          front|      94.5| 158.8| 63.6|  52.0|       1909|        ohc|            four|         90|       2bbl|3.03|  3.11|              9.6|        70|    5400|      38|         43| 6575|\n",
            "+---------+-----------------+-----------+---------+----------+------------+-----------+------------+---------------+----------+------+-----+------+-----------+-----------+----------------+-----------+-----------+----+------+-----------------+----------+--------+--------+-----------+-----+\n",
            "only showing top 20 rows\n",
            "\n"
          ],
          "name": "stdout"
        }
      ]
    },
    {
      "cell_type": "code",
      "metadata": {
        "colab": {
          "base_uri": "https://localhost:8080/",
          "height": 297
        },
        "id": "vW_-ncgcAZwG",
        "outputId": "1c08ed20-90a7-475e-8fab-6412e22fb107"
      },
      "source": [
        "pd_df = cars_fnl_df1.toPandas()\r\n",
        "sns.regplot(x=\"highway_mpg\", y=\"price\",data=pd_df)\r\n",
        "plt.ylim(0,)"
      ],
      "execution_count": 74,
      "outputs": [
        {
          "output_type": "execute_result",
          "data": {
            "text/plain": [
              "(0.0, 48173.114616028484)"
            ]
          },
          "metadata": {
            "tags": []
          },
          "execution_count": 74
        },
        {
          "output_type": "display_data",
          "data": {
            "image/png": "[encoded data removed]",
            "text/plain": [
              "<Figure size 432x288 with 1 Axes>"
            ]
          },
          "metadata": {
            "tags": [],
            "needs_background": "light"
          }
        }
      ]
    },
    {
      "cell_type": "code",
      "metadata": {
        "colab": {
          "base_uri": "https://localhost:8080/"
        },
        "id": "NgIAwZxQzimi",
        "outputId": "0f6bea2d-aba2-44ed-b42c-0d0b53022cca"
      },
      "source": [
        "test_df = spark.sql(\" select drive_wheels, body_style,avg(price) as avg_price from table3 group by drive_wheels, body_style \")\r\n",
        "test_df.show()"
      ],
      "execution_count": 67,
      "outputs": [
        {
          "output_type": "stream",
          "text": [
            "+------------+-----------+------------------+\n",
            "|drive_wheels| body_style|         avg_price|\n",
            "+------------+-----------+------------------+\n",
            "|         rwd|  hatchback|14337.777777777777|\n",
            "|         4wd|      sedan|12647.333333333334|\n",
            "|         rwd|    hardtop|24202.714285714286|\n",
            "|         4wd|  hatchback|            7603.0|\n",
            "|         fwd|    hardtop|            8249.0|\n",
            "|         rwd|      wagon|16994.222222222223|\n",
            "|         fwd|      wagon| 9997.333333333334|\n",
            "|         rwd|      sedan|21711.833333333332|\n",
            "|         fwd|      sedan|            9811.8|\n",
            "|         fwd|convertible|           11595.0|\n",
            "|         rwd|convertible|           23949.6|\n",
            "|         fwd|  hatchback| 8396.387755102041|\n",
            "|         4wd|      wagon|           9095.75|\n",
            "+------------+-----------+------------------+\n",
            "\n"
          ],
          "name": "stdout"
        }
      ]
    },
    {
      "cell_type": "code",
      "metadata": {
        "colab": {
          "base_uri": "https://localhost:8080/"
        },
        "id": "rZ630rwo0qQP",
        "outputId": "88f110de-b6ad-4e60-b243-5c4ac7b6b460"
      },
      "source": [
        "df_grp = spark.sql(\"\"\"select make, drive_wheels,body_style, avg(price) as avg_price \\\r\n",
        "                    from table3 group by make, drive_wheels,body_style \\\r\n",
        "                    order by body_style, avg(price) desc \"\"\")\r\n",
        "df_grp.show()"
      ],
      "execution_count": 51,
      "outputs": [
        {
          "output_type": "stream",
          "text": [
            "+-------------+------------+-----------+------------------+\n",
            "|         make|drive_wheels| body_style|         avg_price|\n",
            "+-------------+------------+-----------+------------------+\n",
            "|      porsche|         rwd|convertible|           37028.0|\n",
            "|mercedes-benz|         rwd|convertible|           35056.0|\n",
            "|       toyota|         rwd|convertible|           17669.0|\n",
            "|  alfa-romero|         rwd|convertible|           14997.5|\n",
            "|   volkswagen|         fwd|convertible|           11595.0|\n",
            "|mercedes-benz|         rwd|    hardtop|           36788.0|\n",
            "|      porsche|         rwd|    hardtop|           33278.0|\n",
            "|       toyota|         rwd|    hardtop| 9762.333333333334|\n",
            "|       nissan|         fwd|    hardtop|            8249.0|\n",
            "|      porsche|         rwd|  hatchback|           22018.0|\n",
            "|       nissan|         rwd|  hatchback|18432.333333333332|\n",
            "|      mercury|         rwd|  hatchback|           16503.0|\n",
            "|  alfa-romero|         rwd|  hatchback|           16500.0|\n",
            "|         saab|         fwd|  hatchback|15013.333333333334|\n",
            "|        mazda|         rwd|  hatchback|           13020.0|\n",
            "|     plymouth|         rwd|  hatchback|           12764.0|\n",
            "|       toyota|         rwd|  hatchback|11978.333333333334|\n",
            "|        isuzu|         rwd|  hatchback|           11048.0|\n",
            "|   volkswagen|         fwd|  hatchback|            9980.0|\n",
            "|      renault|         fwd|  hatchback|            9895.0|\n",
            "+-------------+------------+-----------+------------------+\n",
            "only showing top 20 rows\n",
            "\n"
          ],
          "name": "stdout"
        }
      ]
    },
    {
      "cell_type": "code",
      "metadata": {
        "colab": {
          "base_uri": "https://localhost:8080/",
          "height": 204
        },
        "id": "djxkw3r73S36",
        "outputId": "09b69595-fc01-474e-892a-a293ab430c36"
      },
      "source": [
        "df_p = df_grp.toPandas()\r\n",
        "#df_p = pd.pivot_table(df_grp, index=[\"drive_wheels\"], values='avg_price', columns='body_style')\r\n",
        "df_pivot = df_p.pivot_table(df_p, index=[\"drive_wheels\"], columns=[\"body_style\"])\r\n",
        "#, values='avg_price', columns='body_style')\r\n",
        "df_pivot"
      ],
      "execution_count": 70,
      "outputs": [
        {
          "output_type": "execute_result",
          "data": {
            "text/html": [
              "<div>\n",
              "<style scoped>\n",
              "    .dataframe tbody tr th:only-of-type {\n",
              "        vertical-align: middle;\n",
              "    }\n",
              "\n",
              "    .dataframe tbody tr th {\n",
              "        vertical-align: top;\n",
              "    }\n",
              "\n",
              "    .dataframe thead tr th {\n",
              "        text-align: left;\n",
              "    }\n",
              "\n",
              "    .dataframe thead tr:last-of-type th {\n",
              "        text-align: right;\n",
              "    }\n",
              "</style>\n",
              "<table border=\"1\" class=\"dataframe\">\n",
              "  <thead>\n",
              "    <tr>\n",
              "      <th></th>\n",
              "      <th colspan=\"5\" halign=\"left\">avg_price</th>\n",
              "    </tr>\n",
              "    <tr>\n",
              "      <th>body_style</th>\n",
              "      <th>convertible</th>\n",
              "      <th>hardtop</th>\n",
              "      <th>hatchback</th>\n",
              "      <th>sedan</th>\n",
              "      <th>wagon</th>\n",
              "    </tr>\n",
              "    <tr>\n",
              "      <th>drive_wheels</th>\n",
              "      <th></th>\n",
              "      <th></th>\n",
              "      <th></th>\n",
              "      <th></th>\n",
              "      <th></th>\n",
              "    </tr>\n",
              "  </thead>\n",
              "  <tbody>\n",
              "    <tr>\n",
              "      <th>4wd</th>\n",
              "      <td>NaN</td>\n",
              "      <td>NaN</td>\n",
              "      <td>7603.000000</td>\n",
              "      <td>13848.000000</td>\n",
              "      <td>9095.750000</td>\n",
              "    </tr>\n",
              "    <tr>\n",
              "      <th>fwd</th>\n",
              "      <td>11595.000</td>\n",
              "      <td>8249.000000</td>\n",
              "      <td>8508.461177</td>\n",
              "      <td>9754.587632</td>\n",
              "      <td>10145.129630</td>\n",
              "    </tr>\n",
              "    <tr>\n",
              "      <th>rwd</th>\n",
              "      <td>26187.625</td>\n",
              "      <td>26609.444444</td>\n",
              "      <td>15282.958333</td>\n",
              "      <td>20548.816220</td>\n",
              "      <td>18827.208333</td>\n",
              "    </tr>\n",
              "  </tbody>\n",
              "</table>\n",
              "</div>"
            ],
            "text/plain": [
              "               avg_price                ...                            \n",
              "body_style   convertible       hardtop  ...         sedan         wagon\n",
              "drive_wheels                            ...                            \n",
              "4wd                  NaN           NaN  ...  13848.000000   9095.750000\n",
              "fwd            11595.000   8249.000000  ...   9754.587632  10145.129630\n",
              "rwd            26187.625  26609.444444  ...  20548.816220  18827.208333\n",
              "\n",
              "[3 rows x 5 columns]"
            ]
          },
          "metadata": {
            "tags": []
          },
          "execution_count": 70
        }
      ]
    },
    {
      "cell_type": "code",
      "metadata": {
        "colab": {
          "base_uri": "https://localhost:8080/",
          "height": 269
        },
        "id": "3FbTvrxl_prr",
        "outputId": "d10288a7-c97e-4f56-8401-a1da09eb414d"
      },
      "source": [
        "plt.pcolor(df_pivot)\r\n",
        "plt.colorbar()\r\n",
        "plt.show()"
      ],
      "execution_count": 71,
      "outputs": [
        {
          "output_type": "display_data",
          "data": {
            "image/png": "[encoded data removed]",
            "text/plain": [
              "<Figure size 432x288 with 2 Axes>"
            ]
          },
          "metadata": {
            "tags": [],
            "needs_background": "light"
          }
        }
      ]
    },
    {
      "cell_type": "code",
      "metadata": {
        "id": "YnoTM3aH56JJ"
      },
      "source": [
        ""
      ],
      "execution_count": null,
      "outputs": []
    }
  ]
}