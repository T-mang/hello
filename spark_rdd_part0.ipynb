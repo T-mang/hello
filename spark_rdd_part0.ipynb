{
  "nbformat": 4,
  "nbformat_minor": 0,
  "metadata": {
    "colab": {
      "name": "Untitled2.ipynb",
      "provenance": [],
      "authorship_tag": "ABX9TyP4A99EBzGwWvg4gaXmP8O1",
      "include_colab_link": true
    },
    "kernelspec": {
      "name": "python3",
      "display_name": "Python 3"
    }
  },
  "cells": [
    {
      "cell_type": "markdown",
      "metadata": {
        "id": "view-in-github",
        "colab_type": "text"
      },
      "source": [
        "<a href=\"https://colab.research.google.com/github/T-mang/hello/blob/master/spark_rdd_part0.ipynb\" target=\"_parent\"><img src=\"https://colab.research.google.com/assets/colab-badge.svg\" alt=\"Open In Colab\"/></a>"
      ]
    },
    {
      "cell_type": "code",
      "metadata": {
        "colab": {
          "base_uri": "https://localhost:8080/",
          "height": 573
        },
        "id": "JhMMVbd_sbCu",
        "outputId": "6dad8dd2-cb19-405d-f11e-b776d7a3e16a"
      },
      "source": [
        "!apt-get update\r\n",
        "!apt-get install openjdk-8-jre-headless -qq > /dev/null\r\n",
        "!wget -q http://archive.apache.org/dist/spark/spark-2.4.7/spark-2.4.7-bin-hadoop2.7.tgz\r\n",
        "!tar xf spark-2.4.7-bin-hadoop2.7.tgz\r\n",
        "!pip install -q findspark\r\n",
        "\r\n",
        "import os\r\n",
        "os.environ[\"JAVA_HOME\"] = \"/usr/lib/jvm/java-8-openjdk-amd64\"\r\n",
        "os.environ[\"SPARK_HOME\"] = \"/content/spark-2.4.7-bin-hadoop2.7\"\r\n",
        "\r\n",
        "!ls\r\n",
        "\r\n",
        "import findspark\r\n",
        "findspark.init()\r\n",
        "\r\n",
        "import pyspark\r\n",
        "from pyspark.sql import SparkSession\r\n",
        "spark = SparkSession.builder.getOrCreate()\r\n",
        "spark\r\n"
      ],
      "execution_count": 1,
      "outputs": [
        {
          "output_type": "stream",
          "text": [
            "\r0% [Working]\r            \rGet:1 https://cloud.r-project.org/bin/linux/ubuntu bionic-cran40/ InRelease [3,626 B]\n",
            "\r0% [Connecting to archive.ubuntu.com] [Connecting to security.ubuntu.com] [1 In\r0% [Connecting to archive.ubuntu.com] [Connecting to security.ubuntu.com] [Conn\r0% [1 InRelease gpgv 3,626 B] [Connecting to archive.ubuntu.com] [Connecting to\r                                                                               \rIgn:2 https://developer.download.nvidia.com/compute/cuda/repos/ubuntu1804/x86_64  InRelease\n",
            "\r0% [1 InRelease gpgv 3,626 B] [Connecting to archive.ubuntu.com (91.189.88.142)\r                                                                               \rIgn:3 https://developer.download.nvidia.com/compute/machine-learning/repos/ubuntu1804/x86_64  InRelease\n",
            "\r0% [1 InRelease gpgv 3,626 B] [Connecting to archive.ubuntu.com (91.189.88.142)\r                                                                               \rHit:4 https://developer.download.nvidia.com/compute/cuda/repos/ubuntu1804/x86_64  Release\n",
            "Hit:5 https://developer.download.nvidia.com/compute/machine-learning/repos/ubuntu1804/x86_64  Release\n",
            "Get:6 http://security.ubuntu.com/ubuntu bionic-security InRelease [88.7 kB]\n",
            "Get:7 http://ppa.launchpad.net/c2d4u.team/c2d4u4.0+/ubuntu bionic InRelease [15.9 kB]\n",
            "Hit:8 http://archive.ubuntu.com/ubuntu bionic InRelease\n",
            "Get:9 http://archive.ubuntu.com/ubuntu bionic-updates InRelease [88.7 kB]\n",
            "Hit:10 http://ppa.launchpad.net/cran/libgit2/ubuntu bionic InRelease\n",
            "Hit:12 http://ppa.launchpad.net/graphics-drivers/ppa/ubuntu bionic InRelease\n",
            "Get:14 http://archive.ubuntu.com/ubuntu bionic-backports InRelease [74.6 kB]\n",
            "Get:15 http://security.ubuntu.com/ubuntu bionic-security/main amd64 Packages [1,929 kB]\n",
            "Get:16 http://security.ubuntu.com/ubuntu bionic-security/universe amd64 Packages [1,391 kB]\n",
            "Get:17 http://ppa.launchpad.net/c2d4u.team/c2d4u4.0+/ubuntu bionic/main Sources [1,732 kB]\n",
            "Get:18 http://archive.ubuntu.com/ubuntu bionic-updates/universe amd64 Packages [2,162 kB]\n",
            "Get:19 http://ppa.launchpad.net/c2d4u.team/c2d4u4.0+/ubuntu bionic/main amd64 Packages [886 kB]\n",
            "Get:20 http://archive.ubuntu.com/ubuntu bionic-updates/main amd64 Packages [2,360 kB]\n",
            "Fetched 10.7 MB in 3s (3,497 kB/s)\n",
            "Reading package lists... Done\n",
            "sample_data  spark-2.4.7-bin-hadoop2.7\tspark-2.4.7-bin-hadoop2.7.tgz\n"
          ],
          "name": "stdout"
        },
        {
          "output_type": "execute_result",
          "data": {
            "text/html": [
              "\n",
              "            <div>\n",
              "                <p><b>SparkSession - in-memory</b></p>\n",
              "                \n",
              "        <div>\n",
              "            <p><b>SparkContext</b></p>\n",
              "\n",
              "            <p><a href=\"http://607de41853b1:4040\">Spark UI</a></p>\n",
              "\n",
              "            <dl>\n",
              "              <dt>Version</dt>\n",
              "                <dd><code>v2.4.7</code></dd>\n",
              "              <dt>Master</dt>\n",
              "                <dd><code>local[*]</code></dd>\n",
              "              <dt>AppName</dt>\n",
              "                <dd><code>pyspark-shell</code></dd>\n",
              "            </dl>\n",
              "        </div>\n",
              "        \n",
              "            </div>\n",
              "        "
            ],
            "text/plain": [
              "<pyspark.sql.session.SparkSession at 0x7f6d9b837b38>"
            ]
          },
          "metadata": {
            "tags": []
          },
          "execution_count": 1
        }
      ]
    },
    {
      "cell_type": "code",
      "metadata": {
        "colab": {
          "base_uri": "https://localhost:8080/"
        },
        "id": "CDJ_hSSZF44A",
        "outputId": "6e9904bc-13b3-4092-a779-2c0c273bcea6"
      },
      "source": [
        "# spark job\r\n",
        "import pyspark\r\n",
        "\r\n",
        "from pyspark import SparkConf\r\n",
        "from pyspark import SparkContext\r\n",
        "conf = SparkConf()\r\n",
        "#set to run job in local mode\r\n",
        "#conf.setMaster('local')\r\n",
        "#conf.setAppName('spark-basic')\r\n",
        "#sc = SparkContext(conf=conf)\r\n",
        "#find sc from spark session\r\n",
        "sc = spark.sparkContext\r\n",
        "\r\n",
        "def mod(x):\r\n",
        "  import numpy as np\r\n",
        "  return (x, np.mod(x,2))\r\n",
        "\r\n",
        "rdd = sc.parallelize(range(1000)).map(mod).take(10)  \r\n",
        "print(rdd)"
      ],
      "execution_count": 5,
      "outputs": [
        {
          "output_type": "stream",
          "text": [
            "[(0, 0), (1, 1), (2, 0), (3, 1), (4, 0), (5, 1), (6, 0), (7, 1), (8, 0), (9, 1)]\n"
          ],
          "name": "stdout"
        }
      ]
    },
    {
      "cell_type": "code",
      "metadata": {
        "colab": {
          "base_uri": "https://localhost:8080/"
        },
        "id": "D6AfwoyGKtBn",
        "outputId": "e51ef271-edcd-4bb2-85c2-052259008018"
      },
      "source": [
        "lst = [1,2,3,4,5,6]\r\n",
        "rdd = sc.parallelize(lst).take(3)\r\n",
        "print(rdd)"
      ],
      "execution_count": 9,
      "outputs": [
        {
          "output_type": "stream",
          "text": [
            "[1, 2, 3]\n"
          ],
          "name": "stdout"
        }
      ]
    },
    {
      "cell_type": "code",
      "metadata": {
        "colab": {
          "resources": {
            "http://localhost:8080/nbextensions/google.colab/files.js": {
              "data": "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",
              "ok": true,
              "headers": [
                [
                  "content-type",
                  "application/javascript"
                ]
              ],
              "status": 200,
              "status_text": ""
            }
          },
          "base_uri": "https://localhost:8080/",
          "height": 72
        },
        "id": "YNU7kfdwPcnu",
        "outputId": "678f37e7-1e6f-494c-846a-78720d31fe2a"
      },
      "source": [
        "from google.colab import files\r\n",
        "uploaded = files.upload()\r\n"
      ],
      "execution_count": 10,
      "outputs": [
        {
          "output_type": "display_data",
          "data": {
            "text/html": [
              "\n",
              "     <input type=\"file\" id=\"files-487bfa89-5430-471a-bdf0-796c69a0e6ff\" name=\"files[]\" multiple disabled\n",
              "        style=\"border:none\" />\n",
              "     <output id=\"result-487bfa89-5430-471a-bdf0-796c69a0e6ff\">\n",
              "      Upload widget is only available when the cell has been executed in the\n",
              "      current browser session. Please rerun this cell to enable.\n",
              "      </output>\n",
              "      <script src=\"/nbextensions/google.colab/files.js\"></script> "
            ],
            "text/plain": [
              "<IPython.core.display.HTML object>"
            ]
          },
          "metadata": {
            "tags": []
          }
        },
        {
          "output_type": "stream",
          "text": [
            "Saving original.csv to original.csv\n"
          ],
          "name": "stdout"
        }
      ]
    },
    {
      "cell_type": "code",
      "metadata": {
        "id": "ySqx9a4JUo9a"
      },
      "source": [
        "textFile = sc.textFile(\"original.csv\")\r\n",
        "textFile.persist()"
      ],
      "execution_count": null,
      "outputs": []
    },
    {
      "cell_type": "code",
      "metadata": {
        "id": "E5YN-LLyWkBu"
      },
      "source": [
        "#cache is fault tolerant\r\n",
        "textFile = sc.textFile(\"original.csv\")\r\n",
        "textFile.cache()"
      ],
      "execution_count": null,
      "outputs": []
    },
    {
      "cell_type": "code",
      "metadata": {
        "colab": {
          "base_uri": "https://localhost:8080/"
        },
        "id": "ea9Yj3KKW7lj",
        "outputId": "1fad0a64-7840-4bf9-fd3d-75bdc083b00d"
      },
      "source": [
        "rdd = sc.parallelize([2,3,4])\r\n",
        "sorted(rdd.flatMap(lambda x: range(1,x)).collect())"
      ],
      "execution_count": 11,
      "outputs": [
        {
          "output_type": "execute_result",
          "data": {
            "text/plain": [
              "[1, 1, 1, 2, 2, 3]"
            ]
          },
          "metadata": {
            "tags": []
          },
          "execution_count": 11
        }
      ]
    },
    {
      "cell_type": "code",
      "metadata": {
        "colab": {
          "base_uri": "https://localhost:8080/"
        },
        "id": "_-P9ohb6YaRC",
        "outputId": "2c6f9f98-5397-45cb-82a6-b23c468c4f27"
      },
      "source": [
        "rdd = sc.parallelize([1,2,3,4,5,6])\r\n",
        "rdd.filter (lambda x: x % 2 == 0).collect()"
      ],
      "execution_count": 12,
      "outputs": [
        {
          "output_type": "execute_result",
          "data": {
            "text/plain": [
              "[2, 4, 6]"
            ]
          },
          "metadata": {
            "tags": []
          },
          "execution_count": 12
        }
      ]
    },
    {
      "cell_type": "code",
      "metadata": {
        "colab": {
          "base_uri": "https://localhost:8080/"
        },
        "id": "1Jjs5UbBYupS",
        "outputId": "b170a0d1-18a4-406a-daee-4babb97f5591"
      },
      "source": [
        "rdd = sc.parallelize([\"spark\",\"rdd\",\"example\",\"sample\", \"example\"])\r\n",
        "rdd2 = rdd.map(lambda x:(x, 1))\r\n",
        "rdd2.collect()"
      ],
      "execution_count": 13,
      "outputs": [
        {
          "output_type": "execute_result",
          "data": {
            "text/plain": [
              "[('spark', 1), ('rdd', 1), ('example', 1), ('sample', 1), ('example', 1)]"
            ]
          },
          "metadata": {
            "tags": []
          },
          "execution_count": 13
        }
      ]
    },
    {
      "cell_type": "code",
      "metadata": {
        "colab": {
          "base_uri": "https://localhost:8080/"
        },
        "id": "8vgJnfNyZhge",
        "outputId": "8dd0fd3c-f02b-43e2-b912-95ca1917b1e2"
      },
      "source": [
        "#sample\r\n",
        "\r\n",
        "parallel = sc.parallelize(range(9))\r\n",
        "parallel.sample(True,.2).count()"
      ],
      "execution_count": 15,
      "outputs": [
        {
          "output_type": "execute_result",
          "data": {
            "text/plain": [
              "2"
            ]
          },
          "metadata": {
            "tags": []
          },
          "execution_count": 15
        }
      ]
    },
    {
      "cell_type": "code",
      "metadata": {
        "colab": {
          "base_uri": "https://localhost:8080/"
        },
        "id": "eyx9lrV2aoRy",
        "outputId": "89ac7b91-b5f9-4890-f149-3646e99ef9b3"
      },
      "source": [
        "parallel.sample(False,1).collect()"
      ],
      "execution_count": 16,
      "outputs": [
        {
          "output_type": "execute_result",
          "data": {
            "text/plain": [
              "[0, 1, 2, 3, 4, 5, 6, 7, 8]"
            ]
          },
          "metadata": {
            "tags": []
          },
          "execution_count": 16
        }
      ]
    },
    {
      "cell_type": "code",
      "metadata": {
        "colab": {
          "base_uri": "https://localhost:8080/"
        },
        "id": "x4MPqsbGa-yk",
        "outputId": "a055b41a-918e-4caa-a1f4-f71c9a0690f4"
      },
      "source": [
        "#Union\r\n",
        "parallel = sc.parallelize(range(1,9))\r\n",
        "par = sc.parallelize(range(5,15))\r\n",
        "parallel.union(par).collect()"
      ],
      "execution_count": 17,
      "outputs": [
        {
          "output_type": "execute_result",
          "data": {
            "text/plain": [
              "[1, 2, 3, 4, 5, 6, 7, 8, 5, 6, 7, 8, 9, 10, 11, 12, 13, 14]"
            ]
          },
          "metadata": {
            "tags": []
          },
          "execution_count": 17
        }
      ]
    },
    {
      "cell_type": "code",
      "metadata": {
        "colab": {
          "base_uri": "https://localhost:8080/"
        },
        "id": "kQCUv8aEbbib",
        "outputId": "fe124c9a-0d64-464a-a234-e656868babcb"
      },
      "source": [
        "#Intersection\r\n",
        "parallel = sc.parallelize(range(1,9))\r\n",
        "par = sc.parallelize(range(5,15))\r\n",
        "parallel.intersection(par).collect()"
      ],
      "execution_count": 18,
      "outputs": [
        {
          "output_type": "execute_result",
          "data": {
            "text/plain": [
              "[8, 5, 6, 7]"
            ]
          },
          "metadata": {
            "tags": []
          },
          "execution_count": 18
        }
      ]
    },
    {
      "cell_type": "code",
      "metadata": {
        "colab": {
          "base_uri": "https://localhost:8080/"
        },
        "id": "LJ9H4JjzcFXV",
        "outputId": "8ab43235-b3d2-4279-b07d-430d6f8cc77b"
      },
      "source": [
        "#distinct\r\n",
        "parallel = sc.parallelize(range(1,9))\r\n",
        "par = sc.parallelize(range(5,15))\r\n",
        "parallel.union(par).distinct().collect()"
      ],
      "execution_count": 19,
      "outputs": [
        {
          "output_type": "execute_result",
          "data": {
            "text/plain": [
              "[4, 8, 12, 1, 5, 9, 13, 2, 6, 10, 14, 3, 7, 11]"
            ]
          },
          "metadata": {
            "tags": []
          },
          "execution_count": 19
        }
      ]
    },
    {
      "cell_type": "code",
      "metadata": {
        "colab": {
          "base_uri": "https://localhost:8080/"
        },
        "id": "50_yKiJGcl05",
        "outputId": "880e25c8-16da-4b66-bdda-ca170e58ff9c"
      },
      "source": [
        "#sortBy\r\n",
        "y = sc.parallelize([5,7,9,1,4,6,3,2])\r\n",
        "y.sortBy(lambda c: c, True).collect()"
      ],
      "execution_count": 20,
      "outputs": [
        {
          "output_type": "execute_result",
          "data": {
            "text/plain": [
              "[1, 2, 3, 4, 5, 6, 7, 9]"
            ]
          },
          "metadata": {
            "tags": []
          },
          "execution_count": 20
        }
      ]
    },
    {
      "cell_type": "code",
      "metadata": {
        "colab": {
          "base_uri": "https://localhost:8080/"
        },
        "id": "XxCWsApsdUHQ",
        "outputId": "0f71fb7e-f06d-48a9-e7ca-0693f8e89034"
      },
      "source": [
        "#desc order\r\n",
        "z = sc.parallelize([(\"H\", 1),(\"A\", 26),(\"Z\", 10),(\"L\", 5)])\r\n",
        "z.sortBy(lambda c: c, False).collect()"
      ],
      "execution_count": 22,
      "outputs": [
        {
          "output_type": "execute_result",
          "data": {
            "text/plain": [
              "[('Z', 10), ('L', 5), ('H', 1), ('A', 26)]"
            ]
          },
          "metadata": {
            "tags": []
          },
          "execution_count": 22
        }
      ]
    },
    {
      "cell_type": "code",
      "metadata": {
        "colab": {
          "base_uri": "https://localhost:8080/"
        },
        "id": "4V41ifvIdrlR",
        "outputId": "03842595-f8c1-4c55-8d90-222bf96657be"
      },
      "source": [
        "#mapPartitions\r\n",
        "#can be used as alternative to map() and foreach(), \r\n",
        "#called once for each partition, unlike map() and \r\n",
        "#foreach() called for each element in rdd\r\n",
        "rdd = sc.parallelize([1,2,3,4],2)\r\n",
        "def f(iterator): yield sum(iterator)\r\n",
        "rdd.mapPartitions(f).collect()"
      ],
      "execution_count": 23,
      "outputs": [
        {
          "output_type": "execute_result",
          "data": {
            "text/plain": [
              "[3, 7]"
            ]
          },
          "metadata": {
            "tags": []
          },
          "execution_count": 23
        }
      ]
    },
    {
      "cell_type": "code",
      "metadata": {
        "colab": {
          "base_uri": "https://localhost:8080/"
        },
        "id": "WY3YUGdLftHx",
        "outputId": "9a69dbf5-bbfd-49cf-af49-f4d9ac01be3d"
      },
      "source": [
        "#withIndex\r\n",
        "rdd = sc.parallelize([1,2,3,4],4)\r\n",
        "def f(splitIndex, iterator): yield splitIndex\r\n",
        "rdd.mapPartitionsWithIndex(f).sum()\r\n"
      ],
      "execution_count": 24,
      "outputs": [
        {
          "output_type": "execute_result",
          "data": {
            "text/plain": [
              "6"
            ]
          },
          "metadata": {
            "tags": []
          },
          "execution_count": 24
        }
      ]
    },
    {
      "cell_type": "code",
      "metadata": {
        "colab": {
          "base_uri": "https://localhost:8080/"
        },
        "id": "PfIt6PflgbuN",
        "outputId": "27b44253-e781-484d-9f13-8d25773cb21a"
      },
      "source": [
        "#GroupBy\r\n",
        "y = sc.parallelize([5,7,9,1,4,6,3,2,8])\r\n",
        "result = y.groupBy(lambda x: x % 2).collect()\r\n",
        "sorted([(x, sorted(y)) for (x,y) in result])"
      ],
      "execution_count": 25,
      "outputs": [
        {
          "output_type": "execute_result",
          "data": {
            "text/plain": [
              "[(0, [2, 4, 6, 8]), (1, [1, 3, 5, 7, 9])]"
            ]
          },
          "metadata": {
            "tags": []
          },
          "execution_count": 25
        }
      ]
    },
    {
      "cell_type": "code",
      "metadata": {
        "colab": {
          "base_uri": "https://localhost:8080/"
        },
        "id": "HFp6e51ehx7m",
        "outputId": "82b1e377-4e8a-4f8e-a262-d61d76382574"
      },
      "source": [
        "#keyBy\r\n",
        "x = sc.parallelize(range(1,9)).keyBy(lambda x: x*x)\r\n",
        "y = sc.parallelize(zip(range(0,5),range(0,5)))\r\n",
        "[(x, list(map(list, y))) for x,y in sorted(x.cogroup(y).collect())]"
      ],
      "execution_count": 27,
      "outputs": [
        {
          "output_type": "execute_result",
          "data": {
            "text/plain": [
              "[(0, [[], [0]]),\n",
              " (1, [[1], [1]]),\n",
              " (2, [[], [2]]),\n",
              " (3, [[], [3]]),\n",
              " (4, [[2], [4]]),\n",
              " (9, [[3], []]),\n",
              " (16, [[4], []]),\n",
              " (25, [[5], []]),\n",
              " (36, [[6], []]),\n",
              " (49, [[7], []]),\n",
              " (64, [[8], []])]"
            ]
          },
          "metadata": {
            "tags": []
          },
          "execution_count": 27
        }
      ]
    },
    {
      "cell_type": "code",
      "metadata": {
        "colab": {
          "base_uri": "https://localhost:8080/"
        },
        "id": "FHgpnywujBYc",
        "outputId": "de6439f8-06fa-4e30-fc97-5a269577a6b3"
      },
      "source": [
        "#zip\r\n",
        "x = sc.parallelize(range(0,5))\r\n",
        "y = sc.parallelize(range(1000, 1005))\r\n",
        "x.zip(y).collect()"
      ],
      "execution_count": 28,
      "outputs": [
        {
          "output_type": "execute_result",
          "data": {
            "text/plain": [
              "[(0, 1000), (1, 1001), (2, 1002), (3, 1003), (4, 1004)]"
            ]
          },
          "metadata": {
            "tags": []
          },
          "execution_count": 28
        }
      ]
    },
    {
      "cell_type": "code",
      "metadata": {
        "colab": {
          "base_uri": "https://localhost:8080/"
        },
        "id": "SsXSwQYLj7pV",
        "outputId": "00815c68-fdf6-45f0-b9e6-6f1334e0244a"
      },
      "source": [
        "#zip withIndex\r\n",
        "sc.parallelize([\"a\",\"b\",\"c\",\"d\"], 3).zipWithIndex().collect()"
      ],
      "execution_count": 29,
      "outputs": [
        {
          "output_type": "execute_result",
          "data": {
            "text/plain": [
              "[('a', 0), ('b', 1), ('c', 2), ('d', 3)]"
            ]
          },
          "metadata": {
            "tags": []
          },
          "execution_count": 29
        }
      ]
    },
    {
      "cell_type": "code",
      "metadata": {
        "colab": {
          "base_uri": "https://localhost:8080/"
        },
        "id": "M_Lx-ahdmi6_",
        "outputId": "9603deb3-53ef-41e3-ee8c-f2c989e680e4"
      },
      "source": [
        "#repartition\r\n",
        "rdd = sc.parallelize([5,7,9,1,4,6,3,2,8],4)\r\n",
        "sorted(rdd.glom().collect())"
      ],
      "execution_count": 30,
      "outputs": [
        {
          "output_type": "execute_result",
          "data": {
            "text/plain": [
              "[[3, 2, 8], [4, 6], [5, 7], [9, 1]]"
            ]
          },
          "metadata": {
            "tags": []
          },
          "execution_count": 30
        }
      ]
    },
    {
      "cell_type": "code",
      "metadata": {
        "colab": {
          "base_uri": "https://localhost:8080/"
        },
        "id": "74BO8SFjntBb",
        "outputId": "2bed0919-fc4d-4c05-8826-c8be406cc7ca"
      },
      "source": [
        "len(rdd.repartition(2).glom().collect())"
      ],
      "execution_count": 31,
      "outputs": [
        {
          "output_type": "execute_result",
          "data": {
            "text/plain": [
              "2"
            ]
          },
          "metadata": {
            "tags": []
          },
          "execution_count": 31
        }
      ]
    },
    {
      "cell_type": "code",
      "metadata": {
        "colab": {
          "base_uri": "https://localhost:8080/"
        },
        "id": "AbBPnRMKn3HG",
        "outputId": "b2ad38ff-1acf-4d88-8e8f-3259c88b4753"
      },
      "source": [
        "#coalesce\r\n",
        "sc.parallelize([5,7,9,1,4,6,3,2,8],3).glom().collect()"
      ],
      "execution_count": 32,
      "outputs": [
        {
          "output_type": "execute_result",
          "data": {
            "text/plain": [
              "[[5, 7, 9], [1, 4, 6], [3, 2, 8]]"
            ]
          },
          "metadata": {
            "tags": []
          },
          "execution_count": 32
        }
      ]
    },
    {
      "cell_type": "code",
      "metadata": {
        "colab": {
          "base_uri": "https://localhost:8080/"
        },
        "id": "K07lfvxVoMjr",
        "outputId": "bbd75b0f-56cf-42bf-c481-b8580eed0470"
      },
      "source": [
        "sc.parallelize([5,7,9,1,4,6,3,2,8],3).coalesce(2).glom().collect()"
      ],
      "execution_count": 33,
      "outputs": [
        {
          "output_type": "execute_result",
          "data": {
            "text/plain": [
              "[[5, 7, 9], [1, 4, 6, 3, 2, 8]]"
            ]
          },
          "metadata": {
            "tags": []
          },
          "execution_count": 33
        }
      ]
    },
    {
      "cell_type": "code",
      "metadata": {
        "colab": {
          "base_uri": "https://localhost:8080/"
        },
        "id": "Vl_FszWMocqJ",
        "outputId": "9ae384b2-879f-4377-bff6-a81838341cd9"
      },
      "source": [
        "#reduce\r\n",
        "from operator import add\r\n",
        "sc.parallelize([1,2,3,4,5]).reduce(add)"
      ],
      "execution_count": 34,
      "outputs": [
        {
          "output_type": "execute_result",
          "data": {
            "text/plain": [
              "15"
            ]
          },
          "metadata": {
            "tags": []
          },
          "execution_count": 34
        }
      ]
    },
    {
      "cell_type": "code",
      "metadata": {
        "colab": {
          "base_uri": "https://localhost:8080/"
        },
        "id": "vZ3g4EgspuV-",
        "outputId": "318bd4a8-d54b-4f23-dcc4-5ea24b7ae666"
      },
      "source": [
        "sc.parallelize((2 for _ in range(10))).map(lambda x: 1).cache().reduce(add)"
      ],
      "execution_count": 36,
      "outputs": [
        {
          "output_type": "execute_result",
          "data": {
            "text/plain": [
              "10"
            ]
          },
          "metadata": {
            "tags": []
          },
          "execution_count": 36
        }
      ]
    },
    {
      "cell_type": "code",
      "metadata": {
        "colab": {
          "base_uri": "https://localhost:8080/"
        },
        "id": "pj64hK-XqDlq",
        "outputId": "20aa338e-97ca-46cb-c124-31f567be0eba"
      },
      "source": [
        "#first\r\n",
        "sc.parallelize([2,3,4]).first()"
      ],
      "execution_count": 38,
      "outputs": [
        {
          "output_type": "execute_result",
          "data": {
            "text/plain": [
              "2"
            ]
          },
          "metadata": {
            "tags": []
          },
          "execution_count": 38
        }
      ]
    },
    {
      "cell_type": "code",
      "metadata": {
        "colab": {
          "base_uri": "https://localhost:8080/"
        },
        "id": "dpFOCaqf8BNX",
        "outputId": "238dda78-9703-409f-db73-0165895f2d14"
      },
      "source": [
        "#takeOrdered\r\n",
        "nums = sc.parallelize([1,6, 7,2,3,8,4,5])\r\n",
        "nums.takeOrdered(5)"
      ],
      "execution_count": 39,
      "outputs": [
        {
          "output_type": "execute_result",
          "data": {
            "text/plain": [
              "[1, 2, 3, 4, 5]"
            ]
          },
          "metadata": {
            "tags": []
          },
          "execution_count": 39
        }
      ]
    },
    {
      "cell_type": "code",
      "metadata": {
        "colab": {
          "base_uri": "https://localhost:8080/"
        },
        "id": "9dlN8Ft98Z2e",
        "outputId": "df5547e4-3886-4d03-a5cc-8eb83d5f5257"
      },
      "source": [
        "#count\r\n",
        "nums = sc.parallelize([1,6, 7,2,3,8,4,5])\r\n",
        "nums.count()"
      ],
      "execution_count": 40,
      "outputs": [
        {
          "output_type": "execute_result",
          "data": {
            "text/plain": [
              "8"
            ]
          },
          "metadata": {
            "tags": []
          },
          "execution_count": 40
        }
      ]
    },
    {
      "cell_type": "code",
      "metadata": {
        "id": "86v_MTd492om"
      },
      "source": [
        "#saveAsTextFile -full path\r\n",
        "nums = sc.parallelize([1,6, 7,2,3,8,4,5])\r\n",
        "nums.saveAsTextFile(\"mydata.txt\")"
      ],
      "execution_count": 43,
      "outputs": []
    },
    {
      "cell_type": "code",
      "metadata": {
        "id": "8QdMDLpL-xmn"
      },
      "source": [
        "#forEach\r\n",
        "def f(x): print(x)\r\n",
        "sc.parallelize([1,2,3,4,5]).foreach(f)"
      ],
      "execution_count": 44,
      "outputs": []
    },
    {
      "cell_type": "code",
      "metadata": {
        "id": "hfkqVy5UAT2p"
      },
      "source": [
        "#foreach partition\r\n",
        "def f(iterator):\r\n",
        "  for x in iterator:\r\n",
        "    print(x)\r\n",
        "sc.parallelize([1,2,3,4]).foreachPartition(f)   "
      ],
      "execution_count": 47,
      "outputs": []
    },
    {
      "cell_type": "code",
      "metadata": {
        "colab": {
          "base_uri": "https://localhost:8080/"
        },
        "id": "QCKTXLWPBQcP",
        "outputId": "196456b5-64a4-458b-e3cf-d99ac70f217e"
      },
      "source": [
        "#Mathematical actions\r\n",
        "numbers = sc.parallelize(range(1,100))\r\n",
        "numbers.sum()"
      ],
      "execution_count": 48,
      "outputs": [
        {
          "output_type": "execute_result",
          "data": {
            "text/plain": [
              "4950"
            ]
          },
          "metadata": {
            "tags": []
          },
          "execution_count": 48
        }
      ]
    },
    {
      "cell_type": "code",
      "metadata": {
        "colab": {
          "base_uri": "https://localhost:8080/"
        },
        "id": "gOxOWQ2RBvFJ",
        "outputId": "6a2e92d9-79fd-4be7-c40c-5d529742e1ef"
      },
      "source": [
        "numbers.variance()"
      ],
      "execution_count": 49,
      "outputs": [
        {
          "output_type": "execute_result",
          "data": {
            "text/plain": [
              "816.6666666666666"
            ]
          },
          "metadata": {
            "tags": []
          },
          "execution_count": 49
        }
      ]
    },
    {
      "cell_type": "code",
      "metadata": {
        "colab": {
          "base_uri": "https://localhost:8080/"
        },
        "id": "nFTi8rtcCVY_",
        "outputId": "c86145bf-cd4c-4a31-b6e3-4bbc119b59c7"
      },
      "source": [
        "numbers.max()"
      ],
      "execution_count": 50,
      "outputs": [
        {
          "output_type": "execute_result",
          "data": {
            "text/plain": [
              "99"
            ]
          },
          "metadata": {
            "tags": []
          },
          "execution_count": 50
        }
      ]
    },
    {
      "cell_type": "code",
      "metadata": {
        "colab": {
          "base_uri": "https://localhost:8080/"
        },
        "id": "Yl3ipRq7CY_h",
        "outputId": "bfb46440-d1ad-4b92-dac0-58062741cf1e"
      },
      "source": [
        "numbers.mean()"
      ],
      "execution_count": 51,
      "outputs": [
        {
          "output_type": "execute_result",
          "data": {
            "text/plain": [
              "50.0"
            ]
          },
          "metadata": {
            "tags": []
          },
          "execution_count": 51
        }
      ]
    },
    {
      "cell_type": "code",
      "metadata": {
        "colab": {
          "base_uri": "https://localhost:8080/"
        },
        "id": "RpjylVX2Cb73",
        "outputId": "0f117b78-4db6-4e01-83ea-b8c488f3f889"
      },
      "source": [
        "numbers.stdev()"
      ],
      "execution_count": 52,
      "outputs": [
        {
          "output_type": "execute_result",
          "data": {
            "text/plain": [
              "28.577380332470412"
            ]
          },
          "metadata": {
            "tags": []
          },
          "execution_count": 52
        }
      ]
    },
    {
      "cell_type": "code",
      "metadata": {
        "colab": {
          "base_uri": "https://localhost:8080/"
        },
        "id": "XHFHvY6LCjvv",
        "outputId": "b9015673-aaa0-48a3-a6fc-1025386df125"
      },
      "source": [
        "#creating pair rdds\r\n",
        "rdd = sc.parallelize([(\"a1\",\"b1\",\"c1\",\"d1\",\"e1\"),(\"a2\",\"b2\",\"c2\",\"d2\",\"e2\")])\r\n",
        "result = rdd.map(lambda x: (x[0], list(x[1:])))\r\n",
        "result.collect()"
      ],
      "execution_count": 54,
      "outputs": [
        {
          "output_type": "execute_result",
          "data": {
            "text/plain": [
              "[('a1', ['b1', 'c1', 'd1', 'e1']), ('a2', ['b2', 'c2', 'd2', 'e2'])]"
            ]
          },
          "metadata": {
            "tags": []
          },
          "execution_count": 54
        }
      ]
    },
    {
      "cell_type": "code",
      "metadata": {
        "colab": {
          "base_uri": "https://localhost:8080/"
        },
        "id": "td7IXtt2FMlv",
        "outputId": "0b6e3c5c-e4e9-4ce3-8ccb-d155a06e7b5a"
      },
      "source": [
        "#word count using rdd\r\n",
        "rdd = sc.textFile(\"word_count.text\")\r\n",
        "nonempty_lines = rdd.filter(lambda x: len(x) > 0)\r\n",
        "words = nonempty_lines.flatMap(lambda x: x.split(' '))\r\n",
        "wordcount = words.map(lambda x:(x,1)).reduceByKey(lambda x,y: x+y).map(lambda x: (x[1],x[0])).sortByKey(False)\r\n",
        "wrdcnt =wordcount.collect()\r\n",
        "#for word in wordcount.collect():\r\n",
        "for word in wrdcnt:\r\n",
        "  print(word)\r\n",
        "wordcount.saveAsTextFile(\"Wordcount\")  \r\n",
        "#wrdcnt.saveAsFile(\"Wordcount\")  \r\n"
      ],
      "execution_count": 59,
      "outputs": [
        {
          "output_type": "stream",
          "text": [
            "(71, 'the')\n",
            "(33, 'of')\n",
            "(21, 'in')\n",
            "(21, 'and')\n",
            "(20, 'New')\n",
            "(17, 'York')\n",
            "(17, 'to')\n",
            "(11, 'a')\n",
            "(10, 'The')\n",
            "(8, 'was')\n",
            "(8, 'from')\n",
            "(7, 'City')\n",
            "(6, 'became')\n",
            "(5, 'state')\n",
            "(5, 'first')\n",
            "(4, 'around')\n",
            "(4, 'as')\n",
            "(4, 'United')\n",
            "(3, 'trade')\n",
            "(3, 'major')\n",
            "(3, 'during')\n",
            "(3, 'American')\n",
            "(3, 'States')\n",
            "(3, 'Great')\n",
            "(3, 'opened')\n",
            "(3, 'In')\n",
            "(3, 'British')\n",
            "(3, 'were')\n",
            "(3, 'for')\n",
            "(3, 'with')\n",
            "(3, 'capital')\n",
            "(3, 'century,')\n",
            "(3, 'most')\n",
            "(2, 'European')\n",
            "(2, 'led')\n",
            "(2, 'came')\n",
            "(2, 'colony')\n",
            "(2, 'II')\n",
            "(2, 'war.')\n",
            "(2, 'Liberty')\n",
            "(2, 'at')\n",
            "(2, 'point')\n",
            "(2, 'Constitution.')\n",
            "(2, 'significant')\n",
            "(2, 'transportation')\n",
            "(2, '19th')\n",
            "(2, 'service')\n",
            "(2, 'before')\n",
            "(2, 'World')\n",
            "(2, 'Native')\n",
            "(2, \"York's\")\n",
            "(2, 'main')\n",
            "(2, 'by')\n",
            "(2, 'port')\n",
            "(2, 'Thirteen')\n",
            "(2, 'Battle')\n",
            "(2, 'their')\n",
            "(2, 'base')\n",
            "(2, 'national')\n",
            "(2, 'hosted')\n",
            "(2, 'advancements')\n",
            "(2, 'ties')\n",
            "(2, 'southern')\n",
            "(2, 'War')\n",
            "(2, \"state's\")\n",
            "(2, 'Following')\n",
            "(2, 'its')\n",
            "(2, 'attacks')\n",
            "(1, 'begins')\n",
            "(1, 'BC,')\n",
            "(1, 'when')\n",
            "(1, 'Americans')\n",
            "(1, '1100')\n",
            "(1, 'native')\n",
            "(1, 'cultures,')\n",
            "(1, 'Iroquoian')\n",
            "(1, '1524')\n",
            "(1, 'claim')\n",
            "(1, 'Dutch.')\n",
            "(1, 'Netherland,')\n",
            "(1, 'eventually')\n",
            "(1, 'an')\n",
            "(1, 'resource')\n",
            "(1, 'thanks')\n",
            "(1, 'patroon')\n",
            "(1, '1626')\n",
            "(1, 'bought')\n",
            "(1, 'Manhattan')\n",
            "(1, 'Americans.[1]')\n",
            "(1, 'renamed')\n",
            "(1, 'after')\n",
            "(1, 'Duke')\n",
            "(1, '18th')\n",
            "(1, 'Colonies.')\n",
            "(1, 'played')\n",
            "(1, 'subsequent')\n",
            "(1, 'Act')\n",
            "(1, 'Congress')\n",
            "(1, 'Colonies')\n",
            "(1, 'form')\n",
            "(1, 'unified')\n",
            "(1, 'response')\n",
            "(1, 'policies.')\n",
            "(1, 'active')\n",
            "(1, 'challenge')\n",
            "(1, 'authority.')\n",
            "(1, 'loss')\n",
            "(1, 'Long')\n",
            "(1, 'series')\n",
            "(1, 'additional')\n",
            "(1, 'defeats')\n",
            "(1, 'forced')\n",
            "(1, 'retreat')\n",
            "(1, 'area,')\n",
            "(1, 'strategic')\n",
            "(1, 'navy')\n",
            "(1, 'North')\n",
            "(1, 'operations')\n",
            "(1, 'rest')\n",
            "(1, 'Saratoga')\n",
            "(1, 'Americans,')\n",
            "(1, 'convincing')\n",
            "(1, 'France')\n",
            "(1, 'formally')\n",
            "(1, 'them.')\n",
            "(1, 'strongly')\n",
            "(1, 'where')\n",
            "(1, 'Bill')\n",
            "(1, 'Rights')\n",
            "(1, 'permanent')\n",
            "(1, 'eleventh')\n",
            "(1, 'line')\n",
            "(1, '1825,')\n",
            "(1, '1831.')\n",
            "(1, 'These')\n",
            "(1, 'Lakes.')\n",
            "(1, 'Due')\n",
            "(1, 'there')\n",
            "(1, 'sympathizers')\n",
            "(1, 'days')\n",
            "(1, 'Civil')\n",
            "(1, 'proposed')\n",
            "(1, 'secession.')\n",
            "(1, 'battles,')\n",
            "(1, 'ultimately')\n",
            "(1, 'sent')\n",
            "(1, 'money')\n",
            "(1, 'support')\n",
            "(1, 'Union')\n",
            "(1, 'cause.')\n",
            "(1, 'home')\n",
            "(1, 'During')\n",
            "(1, 'immigrants')\n",
            "(1, 'Irish')\n",
            "(1, 'Famine.')\n",
            "(1, 'Castle')\n",
            "(1, 'Clinton')\n",
            "(1, 'Ellis')\n",
            "(1, 'Island')\n",
            "(1, 'millions')\n",
            "(1, 'increasingly')\n",
            "(1, 'eastern')\n",
            "(1, 'Statue')\n",
            "(1, '1886')\n",
            "(1, 'symbol')\n",
            "(1, 'hope.')\n",
            "(1, 'city.')\n",
            "(1, 'site')\n",
            "(1, 'tallest')\n",
            "(1, 'buildings')\n",
            "(1, 'world')\n",
            "(1, '1913–74.')\n",
            "(1, 'buildup')\n",
            "(1, 'turned')\n",
            "(1, 'economy')\n",
            "(1, 'worked')\n",
            "(1, 'defeat')\n",
            "(1, 'Axis')\n",
            "(1, 'war,')\n",
            "(1, 'cities,')\n",
            "(1, 'central')\n",
            "(1, '1956,')\n",
            "(1, 'advances.')\n",
            "(1, 'period')\n",
            "(1, 'near–bankruptcy')\n",
            "(1, 'late')\n",
            "(1, 'attracted')\n",
            "(1, 'more')\n",
            "(1, 'immigration,')\n",
            "(1, 'development')\n",
            "(1, 'new')\n",
            "(1, 'music')\n",
            "(1, 'developed')\n",
            "(1, 'become')\n",
            "(1, '20th')\n",
            "(1, 'news')\n",
            "(1, 'channels')\n",
            "(1, 'broadcasts.')\n",
            "(1, 'nationally')\n",
            "(1, 'manufacturing')\n",
            "(1, 'industry,')\n",
            "(1, 'into')\n",
            "(1, 'industries.')\n",
            "(1, 'destroyed')\n",
            "(1, 'Trade')\n",
            "(1, 'killing')\n",
            "(1, 'people;')\n",
            "(1, 'history')\n",
            "(1, '10,000')\n",
            "(1, 'arrived.')\n",
            "(1, 'By')\n",
            "(1, 'AD,')\n",
            "(1, 'Algonquian,')\n",
            "(1, 'had')\n",
            "(1, 'developed.')\n",
            "(1, 'discovery')\n",
            "(1, 'French')\n",
            "(1, 'land')\n",
            "(1, '1609')\n",
            "(1, 'As')\n",
            "(1, 'part')\n",
            "(1, 'important')\n",
            "(1, 'fur')\n",
            "(1, 'agricultural')\n",
            "(1, 'system.')\n",
            "(1, 'Dutch')\n",
            "(1, 'island')\n",
            "(1, '1664,')\n",
            "(1, 'England')\n",
            "(1, 'York,')\n",
            "(1, '(later')\n",
            "(1, 'James')\n",
            "(1, '&')\n",
            "(1, 'VII.)')\n",
            "(1, 'gained')\n",
            "(1, 'prominence')\n",
            "(1, 'century')\n",
            "(1, 'trading')\n",
            "(1, 'pivotal')\n",
            "(1, 'role')\n",
            "(1, 'Revolution')\n",
            "(1, 'Stamp')\n",
            "(1, '1765')\n",
            "(1, 'brought')\n",
            "(1, 'together')\n",
            "(1, 'representatives')\n",
            "(1, 'across')\n",
            "(1, 'Sons')\n",
            "(1, 'After')\n",
            "(1, 'Island,')\n",
            "(1, 'Continental')\n",
            "(1, 'Army')\n",
            "(1, 'suffered')\n",
            "(1, 'that')\n",
            "(1, 'leaving')\n",
            "(1, 'harbor')\n",
            "(1, 'army')\n",
            "(1, 'turning')\n",
            "(1, 'war')\n",
            "(1, 'favor')\n",
            "(1, 'ally')\n",
            "(1, 'constitution')\n",
            "(1, 'adopted')\n",
            "(1, '1777,')\n",
            "(1, 'influenced')\n",
            "(1, 'various')\n",
            "(1, 'times')\n",
            "(1, 'between')\n",
            "(1, '1785')\n",
            "(1, '1790,')\n",
            "(1, 'drafted.')\n",
            "(1, 'Albany')\n",
            "(1, '1797.')\n",
            "(1, '1787,')\n",
            "(1, 'ratify')\n",
            "(1, 'including')\n",
            "(1, 'steamboat')\n",
            "(1, '1807,')\n",
            "(1, 'Erie')\n",
            "(1, 'Canal')\n",
            "(1, \"America's\")\n",
            "(1, 'regularly')\n",
            "(1, 'scheduled')\n",
            "(1, 'rail')\n",
            "(1, 'expanded')\n",
            "(1, 'settlement')\n",
            "(1, 'western')\n",
            "(1, 'Midwest')\n",
            "(1, 'settlements')\n",
            "(1, \"City's\")\n",
            "(1, 'South,')\n",
            "(1, 'numerous')\n",
            "(1, 'early')\n",
            "(1, 'mayor')\n",
            "(1, 'Far')\n",
            "(1, 'any')\n",
            "(1, 'men')\n",
            "(1, 'Thereafter,')\n",
            "(1, 'helped')\n",
            "(1, 'create')\n",
            "(1, 'industrial')\n",
            "(1, 'age')\n",
            "(1, 'consequently')\n",
            "(1, 'some')\n",
            "(1, 'labor')\n",
            "(1, 'unions.')\n",
            "(1, 'entry')\n",
            "(1, 'States,')\n",
            "(1, 'beginning')\n",
            "(1, 'wave')\n",
            "(1, 'Millions')\n",
            "(1, 'through')\n",
            "(1, 'Battery')\n",
            "(1, 'Park')\n",
            "(1, '1892')\n",
            "(1, 'welcome')\n",
            "(1, 'more,')\n",
            "(1, 'Europe.')\n",
            "(1, 'boomed')\n",
            "(1, 'Roaring')\n",
            "(1, 'Twenties,')\n",
            "(1, 'Wall')\n",
            "(1, 'Street')\n",
            "(1, 'Crash')\n",
            "(1, '1929,')\n",
            "(1, 'skyscrapers')\n",
            "(1, 'expressed')\n",
            "(1, 'energy')\n",
            "(1, 'successive')\n",
            "(1, 'defense')\n",
            "(1, 'industries')\n",
            "(1, 'Depression,')\n",
            "(1, 'hundreds')\n",
            "(1, 'thousands')\n",
            "(1, 'powers.')\n",
            "(1, 'experienced')\n",
            "(1, 'suburbanization')\n",
            "(1, 'all')\n",
            "(1, 'cities')\n",
            "(1, 'shrank.')\n",
            "(1, 'Thruway')\n",
            "(1, 'system')\n",
            "(1, 'signalling')\n",
            "(1, 'another')\n",
            "(1, 'era')\n",
            "(1, '1970s,')\n",
            "(1, 'renewed')\n",
            "(1, 'stature')\n",
            "(1, 'cultural')\n",
            "(1, 'center,')\n",
            "(1, 'styles.')\n",
            "(1, 'city')\n",
            "(1, 'publishing')\n",
            "(1, 'media')\n",
            "(1, 'over')\n",
            "(1, 'second')\n",
            "(1, 'half')\n",
            "(1, 'hosting')\n",
            "(1, 'Some')\n",
            "(1, 'newspapers')\n",
            "(1, 'globallyrenowned.')\n",
            "(1, 'eroded')\n",
            "(1, 'restructuring')\n",
            "(1, 'transitioned')\n",
            "(1, 'September')\n",
            "(1, '11')\n",
            "(1, '2001')\n",
            "(1, 'Center,')\n",
            "(1, 'almost')\n",
            "(1, '3,000')\n",
            "(1, 'they')\n",
            "(1, 'largest')\n",
            "(1, 'terrorist')\n",
            "(1, 'on')\n",
            "(1, 'soil.')\n"
          ],
          "name": "stdout"
        }
      ]
    },
    {
      "cell_type": "code",
      "metadata": {
        "id": "FXKnYNfGJYIp"
      },
      "source": [
        ""
      ],
      "execution_count": null,
      "outputs": []
    }
  ]
}