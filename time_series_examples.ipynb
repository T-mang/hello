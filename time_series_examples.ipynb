{
  "nbformat": 4,
  "nbformat_minor": 0,
  "metadata": {
    "kernelspec": {
      "display_name": "Python 3",
      "language": "python",
      "name": "python3"
    },
    "language_info": {
      "codemirror_mode": {
        "name": "ipython",
        "version": 3
      },
      "file_extension": ".py",
      "mimetype": "text/x-python",
      "name": "python",
      "nbconvert_exporter": "python",
      "pygments_lexer": "ipython3",
      "version": "3.7.4"
    },
    "colab": {
      "name": "time_series_examples.ipynb",
      "provenance": [],
      "collapsed_sections": [],
      "include_colab_link": true
    }
  },
  "cells": [
    {
      "cell_type": "markdown",
      "metadata": {
        "id": "view-in-github",
        "colab_type": "text"
      },
      "source": [
        "<a href=\"https://colab.research.google.com/github/T-mang/misc/blob/master/time_series_examples.ipynb\" target=\"_parent\"><img src=\"https://colab.research.google.com/assets/colab-badge.svg\" alt=\"Open In Colab\"/></a>"
      ]
    },
    {
      "cell_type": "code",
      "metadata": {
        "id": "m3ApwEHZDDbR"
      },
      "source": [
        "import pandas as pd\n",
        "%matplotlib inline\n",
        "#https://data.world/data-society/global-climate-change-data\n",
        "df = pd.read_csv('/content/GlobalLandTemperatures_GlobalTemperatures.csv')"
      ],
      "execution_count": 138,
      "outputs": []
    },
    {
      "cell_type": "code",
      "metadata": {
        "colab": {
          "base_uri": "https://localhost:8080/",
          "height": 309
        },
        "id": "ZjNIkT4qDDbZ",
        "outputId": "5d8e1940-ed35-4ef7-c3a6-bdb41edda93e"
      },
      "source": [
        "df.head()"
      ],
      "execution_count": 139,
      "outputs": [
        {
          "output_type": "execute_result",
          "data": {
            "text/html": [
              "<div>\n",
              "<style scoped>\n",
              "    .dataframe tbody tr th:only-of-type {\n",
              "        vertical-align: middle;\n",
              "    }\n",
              "\n",
              "    .dataframe tbody tr th {\n",
              "        vertical-align: top;\n",
              "    }\n",
              "\n",
              "    .dataframe thead th {\n",
              "        text-align: right;\n",
              "    }\n",
              "</style>\n",
              "<table border=\"1\" class=\"dataframe\">\n",
              "  <thead>\n",
              "    <tr style=\"text-align: right;\">\n",
              "      <th></th>\n",
              "      <th>dt</th>\n",
              "      <th>LandAverageTemperature</th>\n",
              "      <th>LandAverageTemperatureUncertainty</th>\n",
              "      <th>LandMaxTemperature</th>\n",
              "      <th>LandMaxTemperatureUncertainty</th>\n",
              "      <th>LandMinTemperature</th>\n",
              "      <th>LandMinTemperatureUncertainty</th>\n",
              "      <th>LandAndOceanAverageTemperature</th>\n",
              "      <th>LandAndOceanAverageTemperatureUncertainty</th>\n",
              "    </tr>\n",
              "  </thead>\n",
              "  <tbody>\n",
              "    <tr>\n",
              "      <th>0</th>\n",
              "      <td>1750-01-01</td>\n",
              "      <td>3.034</td>\n",
              "      <td>3.574</td>\n",
              "      <td>NaN</td>\n",
              "      <td>NaN</td>\n",
              "      <td>NaN</td>\n",
              "      <td>NaN</td>\n",
              "      <td>NaN</td>\n",
              "      <td>NaN</td>\n",
              "    </tr>\n",
              "    <tr>\n",
              "      <th>1</th>\n",
              "      <td>1750-02-01</td>\n",
              "      <td>3.083</td>\n",
              "      <td>3.702</td>\n",
              "      <td>NaN</td>\n",
              "      <td>NaN</td>\n",
              "      <td>NaN</td>\n",
              "      <td>NaN</td>\n",
              "      <td>NaN</td>\n",
              "      <td>NaN</td>\n",
              "    </tr>\n",
              "    <tr>\n",
              "      <th>2</th>\n",
              "      <td>1750-03-01</td>\n",
              "      <td>5.626</td>\n",
              "      <td>3.076</td>\n",
              "      <td>NaN</td>\n",
              "      <td>NaN</td>\n",
              "      <td>NaN</td>\n",
              "      <td>NaN</td>\n",
              "      <td>NaN</td>\n",
              "      <td>NaN</td>\n",
              "    </tr>\n",
              "    <tr>\n",
              "      <th>3</th>\n",
              "      <td>1750-04-01</td>\n",
              "      <td>8.490</td>\n",
              "      <td>2.451</td>\n",
              "      <td>NaN</td>\n",
              "      <td>NaN</td>\n",
              "      <td>NaN</td>\n",
              "      <td>NaN</td>\n",
              "      <td>NaN</td>\n",
              "      <td>NaN</td>\n",
              "    </tr>\n",
              "    <tr>\n",
              "      <th>4</th>\n",
              "      <td>1750-05-01</td>\n",
              "      <td>11.573</td>\n",
              "      <td>2.072</td>\n",
              "      <td>NaN</td>\n",
              "      <td>NaN</td>\n",
              "      <td>NaN</td>\n",
              "      <td>NaN</td>\n",
              "      <td>NaN</td>\n",
              "      <td>NaN</td>\n",
              "    </tr>\n",
              "  </tbody>\n",
              "</table>\n",
              "</div>"
            ],
            "text/plain": [
              "           dt  ...  LandAndOceanAverageTemperatureUncertainty\n",
              "0  1750-01-01  ...                                        NaN\n",
              "1  1750-02-01  ...                                        NaN\n",
              "2  1750-03-01  ...                                        NaN\n",
              "3  1750-04-01  ...                                        NaN\n",
              "4  1750-05-01  ...                                        NaN\n",
              "\n",
              "[5 rows x 9 columns]"
            ]
          },
          "metadata": {
            "tags": []
          },
          "execution_count": 139
        }
      ]
    },
    {
      "cell_type": "code",
      "metadata": {
        "colab": {
          "base_uri": "https://localhost:8080/",
          "height": 309
        },
        "id": "IkHsSaeuEJt9",
        "outputId": "d3b54be8-24c8-45b6-c3d5-b2e24b63dafd"
      },
      "source": [
        "df.tail()"
      ],
      "execution_count": 140,
      "outputs": [
        {
          "output_type": "execute_result",
          "data": {
            "text/html": [
              "<div>\n",
              "<style scoped>\n",
              "    .dataframe tbody tr th:only-of-type {\n",
              "        vertical-align: middle;\n",
              "    }\n",
              "\n",
              "    .dataframe tbody tr th {\n",
              "        vertical-align: top;\n",
              "    }\n",
              "\n",
              "    .dataframe thead th {\n",
              "        text-align: right;\n",
              "    }\n",
              "</style>\n",
              "<table border=\"1\" class=\"dataframe\">\n",
              "  <thead>\n",
              "    <tr style=\"text-align: right;\">\n",
              "      <th></th>\n",
              "      <th>dt</th>\n",
              "      <th>LandAverageTemperature</th>\n",
              "      <th>LandAverageTemperatureUncertainty</th>\n",
              "      <th>LandMaxTemperature</th>\n",
              "      <th>LandMaxTemperatureUncertainty</th>\n",
              "      <th>LandMinTemperature</th>\n",
              "      <th>LandMinTemperatureUncertainty</th>\n",
              "      <th>LandAndOceanAverageTemperature</th>\n",
              "      <th>LandAndOceanAverageTemperatureUncertainty</th>\n",
              "    </tr>\n",
              "  </thead>\n",
              "  <tbody>\n",
              "    <tr>\n",
              "      <th>3187</th>\n",
              "      <td>2015-08-01</td>\n",
              "      <td>14.755</td>\n",
              "      <td>0.072</td>\n",
              "      <td>20.699</td>\n",
              "      <td>0.110</td>\n",
              "      <td>9.005</td>\n",
              "      <td>0.170</td>\n",
              "      <td>17.589</td>\n",
              "      <td>0.057</td>\n",
              "    </tr>\n",
              "    <tr>\n",
              "      <th>3188</th>\n",
              "      <td>2015-09-01</td>\n",
              "      <td>12.999</td>\n",
              "      <td>0.079</td>\n",
              "      <td>18.845</td>\n",
              "      <td>0.088</td>\n",
              "      <td>7.199</td>\n",
              "      <td>0.229</td>\n",
              "      <td>17.049</td>\n",
              "      <td>0.058</td>\n",
              "    </tr>\n",
              "    <tr>\n",
              "      <th>3189</th>\n",
              "      <td>2015-10-01</td>\n",
              "      <td>10.801</td>\n",
              "      <td>0.102</td>\n",
              "      <td>16.450</td>\n",
              "      <td>0.059</td>\n",
              "      <td>5.232</td>\n",
              "      <td>0.115</td>\n",
              "      <td>16.290</td>\n",
              "      <td>0.062</td>\n",
              "    </tr>\n",
              "    <tr>\n",
              "      <th>3190</th>\n",
              "      <td>2015-11-01</td>\n",
              "      <td>7.433</td>\n",
              "      <td>0.119</td>\n",
              "      <td>12.892</td>\n",
              "      <td>0.093</td>\n",
              "      <td>2.157</td>\n",
              "      <td>0.106</td>\n",
              "      <td>15.252</td>\n",
              "      <td>0.063</td>\n",
              "    </tr>\n",
              "    <tr>\n",
              "      <th>3191</th>\n",
              "      <td>2015-12-01</td>\n",
              "      <td>5.518</td>\n",
              "      <td>0.100</td>\n",
              "      <td>10.725</td>\n",
              "      <td>0.154</td>\n",
              "      <td>0.287</td>\n",
              "      <td>0.099</td>\n",
              "      <td>14.774</td>\n",
              "      <td>0.062</td>\n",
              "    </tr>\n",
              "  </tbody>\n",
              "</table>\n",
              "</div>"
            ],
            "text/plain": [
              "              dt  ...  LandAndOceanAverageTemperatureUncertainty\n",
              "3187  2015-08-01  ...                                      0.057\n",
              "3188  2015-09-01  ...                                      0.058\n",
              "3189  2015-10-01  ...                                      0.062\n",
              "3190  2015-11-01  ...                                      0.063\n",
              "3191  2015-12-01  ...                                      0.062\n",
              "\n",
              "[5 rows x 9 columns]"
            ]
          },
          "metadata": {
            "tags": []
          },
          "execution_count": 140
        }
      ]
    },
    {
      "cell_type": "code",
      "metadata": {
        "id": "r9G95psrEVJD"
      },
      "source": [
        "df_temperatures = df[['dt','LandAverageTemperature']]"
      ],
      "execution_count": 141,
      "outputs": []
    },
    {
      "cell_type": "code",
      "metadata": {
        "colab": {
          "base_uri": "https://localhost:8080/"
        },
        "id": "Xtvo0fkaDDba",
        "outputId": "b09bda7e-7298-4fff-8aed-9203b50429a7"
      },
      "source": [
        "title = \"Monthly Global Temperature:  Jan 1750 - Dec 2015\"\n",
        "print(len(df_temperatures))\n",
        "print(df_temperatures.head())"
      ],
      "execution_count": 142,
      "outputs": [
        {
          "output_type": "stream",
          "text": [
            "3192\n",
            "           dt  LandAverageTemperature\n",
            "0  1750-01-01                   3.034\n",
            "1  1750-02-01                   3.083\n",
            "2  1750-03-01                   5.626\n",
            "3  1750-04-01                   8.490\n",
            "4  1750-05-01                  11.573\n"
          ],
          "name": "stdout"
        }
      ]
    },
    {
      "cell_type": "code",
      "metadata": {
        "colab": {
          "base_uri": "https://localhost:8080/"
        },
        "id": "NXXjKUl5DDbb",
        "outputId": "0f2948ba-2ea0-455a-a986-93203eaecfe1"
      },
      "source": [
        "df_temperatures.dtypes"
      ],
      "execution_count": 143,
      "outputs": [
        {
          "output_type": "execute_result",
          "data": {
            "text/plain": [
              "dt                         object\n",
              "LandAverageTemperature    float64\n",
              "dtype: object"
            ]
          },
          "metadata": {
            "tags": []
          },
          "execution_count": 143
        }
      ]
    },
    {
      "cell_type": "code",
      "metadata": {
        "id": "0qT7cbIwDDbd"
      },
      "source": [
        "df_temperatures.set_index('dt', inplace=True)"
      ],
      "execution_count": 144,
      "outputs": []
    },
    {
      "cell_type": "code",
      "metadata": {
        "colab": {
          "base_uri": "https://localhost:8080/",
          "height": 235
        },
        "id": "itHvEoZRDDbe",
        "outputId": "6326568b-bd40-4678-db5b-13dee0b78dfe"
      },
      "source": [
        "df_temperatures.head()"
      ],
      "execution_count": 145,
      "outputs": [
        {
          "output_type": "execute_result",
          "data": {
            "text/html": [
              "<div>\n",
              "<style scoped>\n",
              "    .dataframe tbody tr th:only-of-type {\n",
              "        vertical-align: middle;\n",
              "    }\n",
              "\n",
              "    .dataframe tbody tr th {\n",
              "        vertical-align: top;\n",
              "    }\n",
              "\n",
              "    .dataframe thead th {\n",
              "        text-align: right;\n",
              "    }\n",
              "</style>\n",
              "<table border=\"1\" class=\"dataframe\">\n",
              "  <thead>\n",
              "    <tr style=\"text-align: right;\">\n",
              "      <th></th>\n",
              "      <th>LandAverageTemperature</th>\n",
              "    </tr>\n",
              "    <tr>\n",
              "      <th>dt</th>\n",
              "      <th></th>\n",
              "    </tr>\n",
              "  </thead>\n",
              "  <tbody>\n",
              "    <tr>\n",
              "      <th>1750-01-01</th>\n",
              "      <td>3.034</td>\n",
              "    </tr>\n",
              "    <tr>\n",
              "      <th>1750-02-01</th>\n",
              "      <td>3.083</td>\n",
              "    </tr>\n",
              "    <tr>\n",
              "      <th>1750-03-01</th>\n",
              "      <td>5.626</td>\n",
              "    </tr>\n",
              "    <tr>\n",
              "      <th>1750-04-01</th>\n",
              "      <td>8.490</td>\n",
              "    </tr>\n",
              "    <tr>\n",
              "      <th>1750-05-01</th>\n",
              "      <td>11.573</td>\n",
              "    </tr>\n",
              "  </tbody>\n",
              "</table>\n",
              "</div>"
            ],
            "text/plain": [
              "            LandAverageTemperature\n",
              "dt                                \n",
              "1750-01-01                   3.034\n",
              "1750-02-01                   3.083\n",
              "1750-03-01                   5.626\n",
              "1750-04-01                   8.490\n",
              "1750-05-01                  11.573"
            ]
          },
          "metadata": {
            "tags": []
          },
          "execution_count": 145
        }
      ]
    },
    {
      "cell_type": "code",
      "metadata": {
        "colab": {
          "base_uri": "https://localhost:8080/",
          "height": 367
        },
        "id": "BZQanXTzDDbf",
        "outputId": "f77db1d8-911d-4995-c9bd-e142d7d86ec0"
      },
      "source": [
        "df_temperatures.plot(figsize=(12,5),title=title)"
      ],
      "execution_count": 146,
      "outputs": [
        {
          "output_type": "execute_result",
          "data": {
            "text/plain": [
              "<matplotlib.axes._subplots.AxesSubplot at 0x7f30942b28d0>"
            ]
          },
          "metadata": {
            "tags": []
          },
          "execution_count": 146
        },
        {
          "output_type": "display_data",
          "data": {
            "image/png": "[encoded data removed]",
            "text/plain": [
              "<Figure size 864x360 with 1 Axes>"
            ]
          },
          "metadata": {
            "tags": [],
            "needs_background": "light"
          }
        }
      ]
    },
    {
      "cell_type": "code",
      "metadata": {
        "id": "ix5XYYW1Iouc"
      },
      "source": [
        "new_df = df.drop(['LandAverageTemperatureUncertainty','LandMaxTemperature',\r\n",
        "            'LandMaxTemperatureUncertainty','LandMinTemperature','LandMinTemperatureUncertainty',\r\n",
        "            'LandAndOceanAverageTemperature','LandAndOceanAverageTemperatureUncertainty'], axis=1)"
      ],
      "execution_count": 147,
      "outputs": []
    },
    {
      "cell_type": "code",
      "metadata": {
        "colab": {
          "base_uri": "https://localhost:8080/"
        },
        "id": "eUm0jTpFDDbi",
        "outputId": "562baefd-5fa4-4929-85c9-8aaa6170350c"
      },
      "source": [
        "new_df['dt']=pd.to_datetime(new_df['dt'])\n",
        "new_df.dtypes"
      ],
      "execution_count": 148,
      "outputs": [
        {
          "output_type": "execute_result",
          "data": {
            "text/plain": [
              "dt                        datetime64[ns]\n",
              "LandAverageTemperature           float64\n",
              "dtype: object"
            ]
          },
          "metadata": {
            "tags": []
          },
          "execution_count": 148
        }
      ]
    },
    {
      "cell_type": "code",
      "metadata": {
        "id": "f3NQbtLSDDbi"
      },
      "source": [
        "new_df.set_index('dt', inplace=True)"
      ],
      "execution_count": 149,
      "outputs": []
    },
    {
      "cell_type": "code",
      "metadata": {
        "colab": {
          "base_uri": "https://localhost:8080/"
        },
        "id": "RFPPMf2LDDbj",
        "outputId": "13ab3bba-e942-4df6-8103-ff0c368c7799"
      },
      "source": [
        "new_df.index"
      ],
      "execution_count": 150,
      "outputs": [
        {
          "output_type": "execute_result",
          "data": {
            "text/plain": [
              "DatetimeIndex(['1750-01-01', '1750-02-01', '1750-03-01', '1750-04-01',\n",
              "               '1750-05-01', '1750-06-01', '1750-07-01', '1750-08-01',\n",
              "               '1750-09-01', '1750-10-01',\n",
              "               ...\n",
              "               '2015-03-01', '2015-04-01', '2015-05-01', '2015-06-01',\n",
              "               '2015-07-01', '2015-08-01', '2015-09-01', '2015-10-01',\n",
              "               '2015-11-01', '2015-12-01'],\n",
              "              dtype='datetime64[ns]', name='dt', length=3192, freq=None)"
            ]
          },
          "metadata": {
            "tags": []
          },
          "execution_count": 150
        }
      ]
    },
    {
      "cell_type": "code",
      "metadata": {
        "colab": {
          "base_uri": "https://localhost:8080/"
        },
        "id": "Pn13p2RXKlLQ",
        "outputId": "0efcc6d8-6fe4-45f5-8d7e-e0f3f5e0fd24"
      },
      "source": [
        "len(new_df)"
      ],
      "execution_count": 151,
      "outputs": [
        {
          "output_type": "execute_result",
          "data": {
            "text/plain": [
              "3192"
            ]
          },
          "metadata": {
            "tags": []
          },
          "execution_count": 151
        }
      ]
    },
    {
      "cell_type": "code",
      "metadata": {
        "colab": {
          "base_uri": "https://localhost:8080/"
        },
        "id": "9iN9NCyKf1JJ",
        "outputId": "d4a21fb6-c31d-40d2-c730-38faad6b83a1"
      },
      "source": [
        "new_df.info()"
      ],
      "execution_count": 154,
      "outputs": [
        {
          "output_type": "stream",
          "text": [
            "<class 'pandas.core.frame.DataFrame'>\n",
            "DatetimeIndex: 3192 entries, 1750-01-01 to 2015-12-01\n",
            "Data columns (total 1 columns):\n",
            " #   Column                  Non-Null Count  Dtype  \n",
            "---  ------                  --------------  -----  \n",
            " 0   LandAverageTemperature  3180 non-null   float64\n",
            "dtypes: float64(1)\n",
            "memory usage: 49.9 KB\n"
          ],
          "name": "stdout"
        }
      ]
    },
    {
      "cell_type": "code",
      "metadata": {
        "colab": {
          "base_uri": "https://localhost:8080/",
          "height": 450
        },
        "id": "xQpgaXuLjJKz",
        "outputId": "07f6dd68-7f91-484b-d26e-f92cec97bccb"
      },
      "source": [
        "yearly_df = new_df.resample(rule='Y').mean()\r\n",
        "yearly_df"
      ],
      "execution_count": 155,
      "outputs": [
        {
          "output_type": "execute_result",
          "data": {
            "text/html": [
              "<div>\n",
              "<style scoped>\n",
              "    .dataframe tbody tr th:only-of-type {\n",
              "        vertical-align: middle;\n",
              "    }\n",
              "\n",
              "    .dataframe tbody tr th {\n",
              "        vertical-align: top;\n",
              "    }\n",
              "\n",
              "    .dataframe thead th {\n",
              "        text-align: right;\n",
              "    }\n",
              "</style>\n",
              "<table border=\"1\" class=\"dataframe\">\n",
              "  <thead>\n",
              "    <tr style=\"text-align: right;\">\n",
              "      <th></th>\n",
              "      <th>LandAverageTemperature</th>\n",
              "    </tr>\n",
              "    <tr>\n",
              "      <th>dt</th>\n",
              "      <th></th>\n",
              "    </tr>\n",
              "  </thead>\n",
              "  <tbody>\n",
              "    <tr>\n",
              "      <th>1750-12-31</th>\n",
              "      <td>8.719364</td>\n",
              "    </tr>\n",
              "    <tr>\n",
              "      <th>1751-12-31</th>\n",
              "      <td>7.976143</td>\n",
              "    </tr>\n",
              "    <tr>\n",
              "      <th>1752-12-31</th>\n",
              "      <td>5.779833</td>\n",
              "    </tr>\n",
              "    <tr>\n",
              "      <th>1753-12-31</th>\n",
              "      <td>8.388083</td>\n",
              "    </tr>\n",
              "    <tr>\n",
              "      <th>1754-12-31</th>\n",
              "      <td>8.469333</td>\n",
              "    </tr>\n",
              "    <tr>\n",
              "      <th>...</th>\n",
              "      <td>...</td>\n",
              "    </tr>\n",
              "    <tr>\n",
              "      <th>2011-12-31</th>\n",
              "      <td>9.516000</td>\n",
              "    </tr>\n",
              "    <tr>\n",
              "      <th>2012-12-31</th>\n",
              "      <td>9.507333</td>\n",
              "    </tr>\n",
              "    <tr>\n",
              "      <th>2013-12-31</th>\n",
              "      <td>9.606500</td>\n",
              "    </tr>\n",
              "    <tr>\n",
              "      <th>2014-12-31</th>\n",
              "      <td>9.570667</td>\n",
              "    </tr>\n",
              "    <tr>\n",
              "      <th>2015-12-31</th>\n",
              "      <td>9.831000</td>\n",
              "    </tr>\n",
              "  </tbody>\n",
              "</table>\n",
              "<p>266 rows × 1 columns</p>\n",
              "</div>"
            ],
            "text/plain": [
              "            LandAverageTemperature\n",
              "dt                                \n",
              "1750-12-31                8.719364\n",
              "1751-12-31                7.976143\n",
              "1752-12-31                5.779833\n",
              "1753-12-31                8.388083\n",
              "1754-12-31                8.469333\n",
              "...                            ...\n",
              "2011-12-31                9.516000\n",
              "2012-12-31                9.507333\n",
              "2013-12-31                9.606500\n",
              "2014-12-31                9.570667\n",
              "2015-12-31                9.831000\n",
              "\n",
              "[266 rows x 1 columns]"
            ]
          },
          "metadata": {
            "tags": []
          },
          "execution_count": 155
        }
      ]
    },
    {
      "cell_type": "code",
      "metadata": {
        "colab": {
          "base_uri": "https://localhost:8080/",
          "height": 367
        },
        "id": "jzSnU9DaqOwN",
        "outputId": "2600b47a-329d-4436-b287-ec32a91f9cc8"
      },
      "source": [
        "title = 'Yearly Mean Temperature'\r\n",
        "yearly_df.plot(figsize=(15,5), title=title)"
      ],
      "execution_count": 156,
      "outputs": [
        {
          "output_type": "execute_result",
          "data": {
            "text/plain": [
              "<matplotlib.axes._subplots.AxesSubplot at 0x7f30941a8890>"
            ]
          },
          "metadata": {
            "tags": []
          },
          "execution_count": 156
        },
        {
          "output_type": "display_data",
          "data": {
            "image/png": "[encoded data removed]",
            "text/plain": [
              "<Figure size 1080x360 with 1 Axes>"
            ]
          },
          "metadata": {
            "tags": [],
            "needs_background": "light"
          }
        }
      ]
    },
    {
      "cell_type": "code",
      "metadata": {
        "id": "BDvaRkIkqkk7"
      },
      "source": [
        "yearly_df['index1'] = yearly_df.index"
      ],
      "execution_count": 157,
      "outputs": []
    },
    {
      "cell_type": "code",
      "metadata": {
        "colab": {
          "base_uri": "https://localhost:8080/",
          "height": 450
        },
        "id": "fz-1g9G_ofpv",
        "outputId": "4f198e5f-fe15-4313-adf9-8f2a37f37878"
      },
      "source": [
        "yearly_df"
      ],
      "execution_count": 158,
      "outputs": [
        {
          "output_type": "execute_result",
          "data": {
            "text/html": [
              "<div>\n",
              "<style scoped>\n",
              "    .dataframe tbody tr th:only-of-type {\n",
              "        vertical-align: middle;\n",
              "    }\n",
              "\n",
              "    .dataframe tbody tr th {\n",
              "        vertical-align: top;\n",
              "    }\n",
              "\n",
              "    .dataframe thead th {\n",
              "        text-align: right;\n",
              "    }\n",
              "</style>\n",
              "<table border=\"1\" class=\"dataframe\">\n",
              "  <thead>\n",
              "    <tr style=\"text-align: right;\">\n",
              "      <th></th>\n",
              "      <th>LandAverageTemperature</th>\n",
              "      <th>index1</th>\n",
              "    </tr>\n",
              "    <tr>\n",
              "      <th>dt</th>\n",
              "      <th></th>\n",
              "      <th></th>\n",
              "    </tr>\n",
              "  </thead>\n",
              "  <tbody>\n",
              "    <tr>\n",
              "      <th>1750-12-31</th>\n",
              "      <td>8.719364</td>\n",
              "      <td>1750-12-31</td>\n",
              "    </tr>\n",
              "    <tr>\n",
              "      <th>1751-12-31</th>\n",
              "      <td>7.976143</td>\n",
              "      <td>1751-12-31</td>\n",
              "    </tr>\n",
              "    <tr>\n",
              "      <th>1752-12-31</th>\n",
              "      <td>5.779833</td>\n",
              "      <td>1752-12-31</td>\n",
              "    </tr>\n",
              "    <tr>\n",
              "      <th>1753-12-31</th>\n",
              "      <td>8.388083</td>\n",
              "      <td>1753-12-31</td>\n",
              "    </tr>\n",
              "    <tr>\n",
              "      <th>1754-12-31</th>\n",
              "      <td>8.469333</td>\n",
              "      <td>1754-12-31</td>\n",
              "    </tr>\n",
              "    <tr>\n",
              "      <th>...</th>\n",
              "      <td>...</td>\n",
              "      <td>...</td>\n",
              "    </tr>\n",
              "    <tr>\n",
              "      <th>2011-12-31</th>\n",
              "      <td>9.516000</td>\n",
              "      <td>2011-12-31</td>\n",
              "    </tr>\n",
              "    <tr>\n",
              "      <th>2012-12-31</th>\n",
              "      <td>9.507333</td>\n",
              "      <td>2012-12-31</td>\n",
              "    </tr>\n",
              "    <tr>\n",
              "      <th>2013-12-31</th>\n",
              "      <td>9.606500</td>\n",
              "      <td>2013-12-31</td>\n",
              "    </tr>\n",
              "    <tr>\n",
              "      <th>2014-12-31</th>\n",
              "      <td>9.570667</td>\n",
              "      <td>2014-12-31</td>\n",
              "    </tr>\n",
              "    <tr>\n",
              "      <th>2015-12-31</th>\n",
              "      <td>9.831000</td>\n",
              "      <td>2015-12-31</td>\n",
              "    </tr>\n",
              "  </tbody>\n",
              "</table>\n",
              "<p>266 rows × 2 columns</p>\n",
              "</div>"
            ],
            "text/plain": [
              "            LandAverageTemperature     index1\n",
              "dt                                           \n",
              "1750-12-31                8.719364 1750-12-31\n",
              "1751-12-31                7.976143 1751-12-31\n",
              "1752-12-31                5.779833 1752-12-31\n",
              "1753-12-31                8.388083 1753-12-31\n",
              "1754-12-31                8.469333 1754-12-31\n",
              "...                            ...        ...\n",
              "2011-12-31                9.516000 2011-12-31\n",
              "2012-12-31                9.507333 2012-12-31\n",
              "2013-12-31                9.606500 2013-12-31\n",
              "2014-12-31                9.570667 2014-12-31\n",
              "2015-12-31                9.831000 2015-12-31\n",
              "\n",
              "[266 rows x 2 columns]"
            ]
          },
          "metadata": {
            "tags": []
          },
          "execution_count": 158
        }
      ]
    },
    {
      "cell_type": "code",
      "metadata": {
        "colab": {
          "base_uri": "https://localhost:8080/"
        },
        "id": "VUBsjBlmrvgE",
        "outputId": "5506fd8c-edcb-4df9-9f1f-02b9ce8ec9d5"
      },
      "source": [
        "yearly_df.info()"
      ],
      "execution_count": 159,
      "outputs": [
        {
          "output_type": "stream",
          "text": [
            "<class 'pandas.core.frame.DataFrame'>\n",
            "DatetimeIndex: 266 entries, 1750-12-31 to 2015-12-31\n",
            "Freq: A-DEC\n",
            "Data columns (total 2 columns):\n",
            " #   Column                  Non-Null Count  Dtype         \n",
            "---  ------                  --------------  -----         \n",
            " 0   LandAverageTemperature  266 non-null    float64       \n",
            " 1   index1                  266 non-null    datetime64[ns]\n",
            "dtypes: datetime64[ns](1), float64(1)\n",
            "memory usage: 6.2 KB\n"
          ],
          "name": "stdout"
        }
      ]
    },
    {
      "cell_type": "code",
      "metadata": {
        "id": "47vKg7NAsDek"
      },
      "source": [
        "yearly_df['year'] = yearly_df['index1'].dt.year"
      ],
      "execution_count": 160,
      "outputs": []
    },
    {
      "cell_type": "code",
      "metadata": {
        "id": "jYWW0ugStwBW"
      },
      "source": [
        "yearly_df['decade'] = (yearly_df['year'] //10 ) * 10"
      ],
      "execution_count": 161,
      "outputs": []
    },
    {
      "cell_type": "code",
      "metadata": {
        "colab": {
          "base_uri": "https://localhost:8080/",
          "height": 350
        },
        "id": "cd-qx1aWsadL",
        "outputId": "f56350f2-7391-464e-d4f6-409ebfea6ae7"
      },
      "source": [
        "yearly_df1 = yearly_df.drop(['year'],axis=1)\r\n",
        "title = 'Average Temperatura by Decade from 1750 to 2015'\r\n",
        "yearly_df1.groupby(['decade']).mean().plot(title=title, figsize=(15,5));\r\n"
      ],
      "execution_count": 164,
      "outputs": [
        {
          "output_type": "display_data",
          "data": {
            "image/png": "[encoded data removed]",
            "text/plain": [
              "<Figure size 1080x360 with 1 Axes>"
            ]
          },
          "metadata": {
            "tags": [],
            "needs_background": "light"
          }
        }
      ]
    },
    {
      "cell_type": "code",
      "metadata": {
        "id": "607FFvjcDDbq"
      },
      "source": [
        ""
      ],
      "execution_count": 162,
      "outputs": []
    }
  ]
}